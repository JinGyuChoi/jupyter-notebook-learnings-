{
 "cells": [
  {
   "cell_type": "code",
   "execution_count": 1,
   "metadata": {},
   "outputs": [
    {
     "name": "stderr",
     "output_type": "stream",
     "text": [
      "Using TensorFlow backend.\n"
     ]
    }
   ],
   "source": [
    "import numpy as np\n",
    "import matplotlib.pyplot as plt\n",
    "\n",
    "from keras.models import Sequential\n",
    "from keras.layers import Dense, Activation\n",
    "from keras.optimizers import SGD\n",
    "\n",
    "from keras import initializers\n",
    "from keras import regularizers\n",
    "\n",
    "from keras.layers import Dropout\n",
    "from keras.optimizers import RMSprop, Adagrad, Adam\n",
    "from keras.callbacks import EarlyStopping\n",
    "\n",
    "from sklearn.model_selection import train_test_split\n",
    "\n",
    "from sklearn.datasets import load_iris"
   ]
  },
  {
   "cell_type": "code",
   "execution_count": 27,
   "metadata": {},
   "outputs": [
    {
     "name": "stdout",
     "output_type": "stream",
     "text": [
      "[0 0 0 0 0 0 0 0 0 0 0 0 0 0 0 0 0 0 0 0 0 0 0 0 0 0 0 0 0 0 0 0 0 0 0 0 0\n",
      " 0 0 0 0 0 0 0 0 0 0 0 0 0 1 1 1 1 1 1 1 1 1 1 1 1 1 1 1 1 1 1 1 1 1 1 1 1\n",
      " 1 1 1 1 1 1 1 1 1 1 1 1 1 1 1 1 1 1 1 1 1 1 1 1 1 1 2 2 2 2 2 2 2 2 2 2 2\n",
      " 2 2 2 2 2 2 2 2 2 2 2 2 2 2 2 2 2 2 2 2 2 2 2 2 2 2 2 2 2 2 2 2 2 2 2 2 2\n",
      " 2 2]\n"
     ]
    }
   ],
   "source": [
    "iris = load_iris()\n",
    "x = iris.data\n",
    "y = iris.target\n",
    "target_names = iris.target_names\n",
    "print(y)"
   ]
  },
  {
   "cell_type": "code",
   "execution_count": 5,
   "metadata": {},
   "outputs": [],
   "source": [
    "#test_size = 0.2\n",
    "\n",
    "X_train, X_test, y_train, y_test = train_test_split(\n",
    "    x, y, random_state=10, test_size=0.2)"
   ]
  },
  {
   "cell_type": "code",
   "execution_count": 28,
   "metadata": {},
   "outputs": [
    {
     "name": "stdout",
     "output_type": "stream",
     "text": [
      "(120, 4) (30, 4)\n"
     ]
    }
   ],
   "source": [
    "Y_train = np.eye(4)[y_train].astype(int)\n",
    "Y_test = np.eye(4)[y_test].astype(int)\n",
    "\n",
    "print(Y_train.shape, Y_test.shape)"
   ]
  },
  {
   "cell_type": "code",
   "execution_count": 29,
   "metadata": {},
   "outputs": [
    {
     "name": "stdout",
     "output_type": "stream",
     "text": [
      "_________________________________________________________________\n",
      "Layer (type)                 Output Shape              Param #   \n",
      "=================================================================\n",
      "dense_4 (Dense)              (None, 16)                80        \n",
      "_________________________________________________________________\n",
      "dense_5 (Dense)              (None, 16)                272       \n",
      "_________________________________________________________________\n",
      "activation_4 (Activation)    (None, 16)                0         \n",
      "_________________________________________________________________\n",
      "dense_6 (Dense)              (None, 3)                 51        \n",
      "_________________________________________________________________\n",
      "activation_5 (Activation)    (None, 3)                 0         \n",
      "=================================================================\n",
      "Total params: 403\n",
      "Trainable params: 403\n",
      "Non-trainable params: 0\n",
      "_________________________________________________________________\n"
     ]
    }
   ],
   "source": [
    "#model(Dense) with a initializer\n",
    "in_dim=4\n",
    "out_dim=3\n",
    "h_dim=16\n",
    "\n",
    "model=Sequential()\n",
    "model.add(Dense(input_dim=in_dim,\n",
    "                units=h_dim,\n",
    "                kernel_initializer='TruncatedNormal'))\n",
    "\n",
    "model.add(Dense(input_dim=in_dim,\n",
    "                units=h_dim,\n",
    "                kernel_initializer=initializers.truncated_normal(mean=0.0,stddev=0.05,seed=21),\n",
    "                bias_initializer='zeros'))\n",
    "\n",
    "model.add(Activation('sigmoid'))\n",
    "\n",
    "model.add(Dense(units=out_dim,\n",
    "                kernel_initializer=initializers.truncated_normal(mean=0.0,stddev=0.05,seed=52),\n",
    "                bias_initializer='zeros'))\n",
    "model.add(Activation('softmax'))\n",
    "model.summary()"
   ]
  },
  {
   "cell_type": "code",
   "execution_count": 15,
   "metadata": {},
   "outputs": [],
   "source": [
    "#import pandas as pd\n",
    "#import numpy as np\n",
    "#import math\n",
    "#df=pd.read_csv(\"A1.csv\",sep=\",\",encoding='CP949')"
   ]
  },
  {
   "cell_type": "code",
   "execution_count": 17,
   "metadata": {},
   "outputs": [],
   "source": [
    "#SGD(lr=0.01, momentum=0.0,decay=0.0, nesterov=False)\n",
    "opt=SGD(lr=0.1)\n",
    "\n",
    "model.compile(loss='categorical_crossentropy',optimizer=opt, metrics=['accuracy'])"
   ]
  },
  {
   "cell_type": "code",
   "execution_count": 18,
   "metadata": {},
   "outputs": [],
   "source": [
    "#Checking weights befor training\n",
    "# print(model.get_weights()[0])\n",
    "# print(model.get_weights()[1])\n",
    "# print(model.get_weights()[2])\n",
    "# print(model.get_weights()[3])"
   ]
  },
  {
   "cell_type": "code",
   "execution_count": 19,
   "metadata": {},
   "outputs": [],
   "source": [
    "#Training the Model(with a validation set)\n",
    "\n",
    "#learing with both test and validation sets\n",
    "\n",
    "n_epochs=100\n",
    "\n",
    "hist=model.fit(X_train, Y_train, validation_split=0.25,epochs=n_epochs,verbose=0)"
   ]
  },
  {
   "cell_type": "code",
   "execution_count": 20,
   "metadata": {},
   "outputs": [
    {
     "data": {
      "image/png": "[encoded data removed]",
      "text/plain": [
       "<matplotlib.figure.Figure at 0x7f08f8312a90>"
      ]
     },
     "metadata": {},
     "output_type": "display_data"
    }
   ],
   "source": [
    "# print(hist.history.keys())\n",
    "\n",
    "#-------------------------------------------------------------------\n",
    "\n",
    "# graph for loss and accuracy\n",
    "\n",
    "hist_loss = np.array(hist.history['loss'])\n",
    "hist_loss_val = np.array(hist.history['val_loss'])\n",
    "\n",
    "plt.subplot(121)\n",
    "plt.plot(hist_loss, label='training')\n",
    "plt.plot(hist_loss_val, label='validation')\n",
    "\n",
    "plt.xlabel('the number of epochs')\n",
    "plt.title('loss')\n",
    "plt.legend()\n",
    "\n",
    "# graph for accuracy\n",
    "\n",
    "plt.subplot(122)\n",
    "hist_acc = np.array(hist.history['acc'])\n",
    "hist_acc_val = np.array(hist.history['val_acc'])\n",
    "\n",
    "plt.plot(hist_acc, label='training')\n",
    "plt.plot(hist_acc_val, label='validation')\n",
    "\n",
    "plt.xlabel('the njumber of epochs')\n",
    "plt.title('accuracy')\n",
    "\n",
    "plt.show()"
   ]
  },
  {
   "cell_type": "code",
   "execution_count": 21,
   "metadata": {},
   "outputs": [
    {
     "name": "stdout",
     "output_type": "stream",
     "text": [
      "loss (train, test): \n",
      "  0.406288395325 , 0.458643049002\n",
      "accuracy (train, test): \n",
      "  0.9 , 0.733333349228\n"
     ]
    }
   ],
   "source": [
    "# evaluation\n",
    "\n",
    "loss_train, acc_train = model.evaluate(X_train, Y_train, verbose=0)\n",
    "loss_test, acc_test = model.evaluate(X_test, Y_test, verbose=0)\n",
    "\n",
    "print(\"loss (train, test): \\n \", loss_train, ',', loss_test)\n",
    "\n",
    "print(\"accuracy (train, test): \\n \", acc_train, ',', acc_test)"
   ]
  },
  {
   "cell_type": "code",
   "execution_count": 22,
   "metadata": {},
   "outputs": [
    {
     "name": "stdout",
     "output_type": "stream",
     "text": [
      "[2 2 0 2 0 1 2 1 0 2 2 2 2 0 0 2 1 0 0 0 2 2 2 0 1 0 1 2 2 2]\n",
      "[1 2 0 1 0 1 1 1 0 1 1 2 1 0 0 2 1 0 0 0 2 2 2 0 1 0 1 1 1 2]\n"
     ]
    }
   ],
   "source": [
    "classes_test = model.predict_classes(X_test, verbose=0)\n",
    "\n",
    "print(classes_test)\n",
    "print(y_test)"
   ]
  },
  {
   "cell_type": "code",
   "execution_count": 26,
   "metadata": {},
   "outputs": [],
   "source": [
    "n_epochs=100\n",
    "n_batch=32\n",
    "hist=model.fit(X_train,Y_train,validation_split=0.25, epochs=n_epochs,batch_size=n_batch,verbose=0)"
   ]
  },
  {
   "cell_type": "code",
   "execution_count": null,
   "metadata": {},
   "outputs": [],
   "source": []
  },
  {
   "cell_type": "code",
   "execution_count": null,
   "metadata": {},
   "outputs": [],
   "source": []
  },
  {
   "cell_type": "code",
   "execution_count": null,
   "metadata": {},
   "outputs": [],
   "source": []
  },
  {
   "cell_type": "code",
   "execution_count": null,
   "metadata": {},
   "outputs": [],
   "source": []
  },
  {
   "cell_type": "code",
   "execution_count": null,
   "metadata": {},
   "outputs": [],
   "source": []
  },
  {
   "cell_type": "code",
   "execution_count": null,
   "metadata": {},
   "outputs": [],
   "source": [
    "df=df.as_matrix()\n",
    "y=len(df)"
   ]
  },
  {
   "cell_type": "code",
   "execution_count": null,
   "metadata": {},
   "outputs": [],
   "source": [
    "for i in range(y):\n",
    "    if np.isnan(df[i,12]):\n",
    "        df[i,12]=2000"
   ]
  },
  {
   "cell_type": "code",
   "execution_count": null,
   "metadata": {},
   "outputs": [],
   "source": [
    "aa1=np.std(df[:,6])\n",
    "bb1=np.std(df[:,7])\n",
    "cc1=np.std(df[:,9])\n",
    "dd1=np.std(df[:,10])"
   ]
  },
  {
   "cell_type": "code",
   "execution_count": null,
   "metadata": {},
   "outputs": [],
   "source": [
    "#로그로 구할때 함수\n",
    "def g(i,x1,x2,x3,x4):\n",
    "    return (((math.log(x1)-math.log(df[i,6])))**2+((math.log(x2)-math.log(df[i,7])))**2+((math.log(x3)-math.log(df[i,9])))**2+((x4-df[i,10])/dd1)**2)**0.5"
   ]
  },
  {
   "cell_type": "code",
   "execution_count": null,
   "metadata": {},
   "outputs": [],
   "source": [
    "#정규화한 거리로 구하는 함수\n",
    "def g(i,a1,a2,a3,a4,x1,x2,x3,x4):\n",
    "    return (a1*((x1-df[i,6])/aa1)**2+a2*((x2-df[i,7])/bb1)**2+a3*((x3-df[i,9])/cc1)**2+a4*((x4-df[i,10])/dd1)**2)**0.5"
   ]
  },
  {
   "cell_type": "code",
   "execution_count": null,
   "metadata": {},
   "outputs": [],
   "source": [
    "#절대값으로 구한 함수\n",
    "def g(i,x1,x2,x3,x4):\n",
    "    return abs((x1-df[i,6])/aa1)+abs((x2-df[i,7])/bb1)+abs((x3-df[i,9])/cc1)+abs((x4-df[i,10])/dd1)"
   ]
  },
  {
   "cell_type": "code",
   "execution_count": null,
   "metadata": {},
   "outputs": [],
   "source": [
    "c=np.arange(y)\n",
    "c=c.astype(float)\n",
    "\n",
    "for i in range(y):\n",
    "    c[i]=g(i,64.0,200.0,10000,2010)\n",
    "    \n",
    "cc=c.reshape(y,1)\n",
    "df1=np.hstack((df,cc))"
   ]
  },
  {
   "cell_type": "code",
   "execution_count": null,
   "metadata": {},
   "outputs": [],
   "source": [
    "test1=pd.DataFrame(df1)\n",
    "test1_1=test1.sort_values(by=13, axis=0, ascending=True, kind='quicksort', na_position='last')\n",
    "test1_1.columns = [\"도\", \"시군구\", \"읍면동\",\"번지\",\"주거유형\",\"도로조건\",\"대지면적\",\"연면적\",\"거래년월\",\"거래가격\",\"건축년도\",\"도로명\",\"그거\",\"유사도\"]"
   ]
  },
  {
   "cell_type": "code",
   "execution_count": null,
   "metadata": {},
   "outputs": [],
   "source": [
    "print(\"조건\\n\",\"대지면적:\",64.0,\",연면적:\",200.0,\",거래가격:\",10000,\",건축년도:\",2010)\n",
    "test1_1.head()"
   ]
  }
 ],
 "metadata": {
  "kernelspec": {
   "display_name": "Python 3",
   "language": "python",
   "name": "python3"
  },
  "language_info": {
   "codemirror_mode": {
    "name": "ipython",
    "version": 3
   },
   "file_extension": ".py",
   "mimetype": "text/x-python",
   "name": "python",
   "nbconvert_exporter": "python",
   "pygments_lexer": "ipython3",
   "version": "3.6.3"
  }
 },
 "nbformat": 4,
 "nbformat_minor": 2
}
