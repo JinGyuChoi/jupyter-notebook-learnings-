{
 "cells": [
  {
   "cell_type": "code",
   "execution_count": 1,
   "metadata": {},
   "outputs": [
    {
     "name": "stderr",
     "output_type": "stream",
     "text": [
      "C:\\Users\\JinGyu Choi\\Anaconda3\\lib\\site-packages\\h5py\\__init__.py:36: FutureWarning: Conversion of the second argument of issubdtype from `float` to `np.floating` is deprecated. In future, it will be treated as `np.float64 == np.dtype(float).type`.\n",
      "  from ._conv import register_converters as _register_converters\n"
     ]
    }
   ],
   "source": [
    "import numpy as np\n",
    "import pandas as pd\n",
    "import matplotlib.pyplot as plt\n",
    "import tensorflow as tf\n",
    "from sklearn.model_selection import train_test_split"
   ]
  },
  {
   "cell_type": "code",
   "execution_count": 2,
   "metadata": {},
   "outputs": [
    {
     "name": "stdout",
     "output_type": "stream",
     "text": [
      "Tensor(\"Const:0\", shape=(), dtype=float32)\n",
      "Tensor(\"Const_1:0\", shape=(), dtype=float32)\n",
      "Tensor(\"add:0\", shape=(), dtype=float32)\n"
     ]
    }
   ],
   "source": [
    "a=tf.constant(3.0,dtype=tf.float32) #just constant 3.0\n",
    "b=tf.constant(4.0)\n",
    "total=a+b\n",
    "print(a)\n",
    "print(b)\n",
    "print(total)"
   ]
  },
  {
   "cell_type": "code",
   "execution_count": 3,
   "metadata": {},
   "outputs": [],
   "source": [
    "sess=tf.Session()"
   ]
  },
  {
   "cell_type": "code",
   "execution_count": 4,
   "metadata": {},
   "outputs": [
    {
     "name": "stdout",
     "output_type": "stream",
     "text": [
      "7.0\n",
      "[3.0, 4.0]\n"
     ]
    }
   ],
   "source": [
    "print(sess.run(total))\n",
    "print(sess.run([a,b]))"
   ]
  },
  {
   "cell_type": "code",
   "execution_count": 5,
   "metadata": {},
   "outputs": [],
   "source": [
    "sess.close();"
   ]
  },
  {
   "cell_type": "code",
   "execution_count": 6,
   "metadata": {},
   "outputs": [
    {
     "name": "stdout",
     "output_type": "stream",
     "text": [
      "Tensor(\"Placeholder:0\", dtype=float32) \n",
      " Tensor(\"Placeholder_1:0\", dtype=float32) \n",
      " Tensor(\"add_1:0\", dtype=float32)\n"
     ]
    }
   ],
   "source": [
    "x=tf.placeholder(tf.float32)\n",
    "y=tf.placeholder(tf.float32)\n",
    "z=x+y\n",
    "print(x,'\\n',y,'\\n',z)"
   ]
  },
  {
   "cell_type": "code",
   "execution_count": 7,
   "metadata": {},
   "outputs": [],
   "source": [
    "sess=tf.Session()"
   ]
  },
  {
   "cell_type": "code",
   "execution_count": 8,
   "metadata": {},
   "outputs": [
    {
     "name": "stdout",
     "output_type": "stream",
     "text": [
      "7.5\n",
      "[3. 7.]\n"
     ]
    }
   ],
   "source": [
    "print(sess.run(z,feed_dict={x:3,y:4.5}))\n",
    "print(sess.run(z,feed_dict={x:[1,3],y:[2,4]}))"
   ]
  },
  {
   "cell_type": "code",
   "execution_count": 9,
   "metadata": {},
   "outputs": [
    {
     "name": "stdout",
     "output_type": "stream",
     "text": [
      "7.5\n"
     ]
    }
   ],
   "source": [
    "zvalue=z.eval(session=sess,feed_dict={x:3,y:4.5})\n",
    "print(zvalue)"
   ]
  },
  {
   "cell_type": "code",
   "execution_count": 10,
   "metadata": {},
   "outputs": [],
   "source": [
    "sess.close();"
   ]
  },
  {
   "cell_type": "code",
   "execution_count": 11,
   "metadata": {},
   "outputs": [],
   "source": [
    "W=tf.Variable([0.2],dtype=tf.float32)\n",
    "b=tf.Variable([-0.2],dtype=tf.float32)\n",
    "x=tf.placeholder(tf.float32)\n",
    "y=W*x+b\n",
    "sess=tf.Session()"
   ]
  },
  {
   "cell_type": "code",
   "execution_count": 12,
   "metadata": {},
   "outputs": [
    {
     "ename": "FailedPreconditionError",
     "evalue": "Attempting to use uninitialized value Variable\n\t [[Node: Variable/read = Identity[T=DT_FLOAT, _device=\"/job:localhost/replica:0/task:0/device:CPU:0\"](Variable)]]\n\nCaused by op 'Variable/read', defined at:\n  File \"C:\\Users\\JinGyu Choi\\Anaconda3\\lib\\runpy.py\", line 193, in _run_module_as_main\n    \"__main__\", mod_spec)\n  File \"C:\\Users\\JinGyu Choi\\Anaconda3\\lib\\runpy.py\", line 85, in _run_code\n    exec(code, run_globals)\n  File \"C:\\Users\\JinGyu Choi\\Anaconda3\\lib\\site-packages\\ipykernel_launcher.py\", line 16, in <module>\n    app.launch_new_instance()\n  File \"C:\\Users\\JinGyu Choi\\Anaconda3\\lib\\site-packages\\traitlets\\config\\application.py\", line 658, in launch_instance\n    app.start()\n  File \"C:\\Users\\JinGyu Choi\\Anaconda3\\lib\\site-packages\\ipykernel\\kernelapp.py\", line 486, in start\n    self.io_loop.start()\n  File \"C:\\Users\\JinGyu Choi\\Anaconda3\\lib\\site-packages\\tornado\\platform\\asyncio.py\", line 127, in start\n    self.asyncio_loop.run_forever()\n  File \"C:\\Users\\JinGyu Choi\\Anaconda3\\lib\\asyncio\\base_events.py\", line 422, in run_forever\n    self._run_once()\n  File \"C:\\Users\\JinGyu Choi\\Anaconda3\\lib\\asyncio\\base_events.py\", line 1432, in _run_once\n    handle._run()\n  File \"C:\\Users\\JinGyu Choi\\Anaconda3\\lib\\asyncio\\events.py\", line 145, in _run\n    self._callback(*self._args)\n  File \"C:\\Users\\JinGyu Choi\\Anaconda3\\lib\\site-packages\\tornado\\platform\\asyncio.py\", line 117, in _handle_events\n    handler_func(fileobj, events)\n  File \"C:\\Users\\JinGyu Choi\\Anaconda3\\lib\\site-packages\\tornado\\stack_context.py\", line 276, in null_wrapper\n    return fn(*args, **kwargs)\n  File \"C:\\Users\\JinGyu Choi\\Anaconda3\\lib\\site-packages\\zmq\\eventloop\\zmqstream.py\", line 450, in _handle_events\n    self._handle_recv()\n  File \"C:\\Users\\JinGyu Choi\\Anaconda3\\lib\\site-packages\\zmq\\eventloop\\zmqstream.py\", line 480, in _handle_recv\n    self._run_callback(callback, msg)\n  File \"C:\\Users\\JinGyu Choi\\Anaconda3\\lib\\site-packages\\zmq\\eventloop\\zmqstream.py\", line 432, in _run_callback\n    callback(*args, **kwargs)\n  File \"C:\\Users\\JinGyu Choi\\Anaconda3\\lib\\site-packages\\tornado\\stack_context.py\", line 276, in null_wrapper\n    return fn(*args, **kwargs)\n  File \"C:\\Users\\JinGyu Choi\\Anaconda3\\lib\\site-packages\\ipykernel\\kernelbase.py\", line 283, in dispatcher\n    return self.dispatch_shell(stream, msg)\n  File \"C:\\Users\\JinGyu Choi\\Anaconda3\\lib\\site-packages\\ipykernel\\kernelbase.py\", line 233, in dispatch_shell\n    handler(stream, idents, msg)\n  File \"C:\\Users\\JinGyu Choi\\Anaconda3\\lib\\site-packages\\ipykernel\\kernelbase.py\", line 399, in execute_request\n    user_expressions, allow_stdin)\n  File \"C:\\Users\\JinGyu Choi\\Anaconda3\\lib\\site-packages\\ipykernel\\ipkernel.py\", line 208, in do_execute\n    res = shell.run_cell(code, store_history=store_history, silent=silent)\n  File \"C:\\Users\\JinGyu Choi\\Anaconda3\\lib\\site-packages\\ipykernel\\zmqshell.py\", line 537, in run_cell\n    return super(ZMQInteractiveShell, self).run_cell(*args, **kwargs)\n  File \"C:\\Users\\JinGyu Choi\\Anaconda3\\lib\\site-packages\\IPython\\core\\interactiveshell.py\", line 2662, in run_cell\n    raw_cell, store_history, silent, shell_futures)\n  File \"C:\\Users\\JinGyu Choi\\Anaconda3\\lib\\site-packages\\IPython\\core\\interactiveshell.py\", line 2785, in _run_cell\n    interactivity=interactivity, compiler=compiler, result=result)\n  File \"C:\\Users\\JinGyu Choi\\Anaconda3\\lib\\site-packages\\IPython\\core\\interactiveshell.py\", line 2903, in run_ast_nodes\n    if self.run_code(code, result):\n  File \"C:\\Users\\JinGyu Choi\\Anaconda3\\lib\\site-packages\\IPython\\core\\interactiveshell.py\", line 2963, in run_code\n    exec(code_obj, self.user_global_ns, self.user_ns)\n  File \"<ipython-input-11-89b9ef4a06de>\", line 1, in <module>\n    W=tf.Variable([0.2],dtype=tf.float32)\n  File \"C:\\Users\\JinGyu Choi\\Anaconda3\\lib\\site-packages\\tensorflow\\python\\ops\\variables.py\", line 259, in __init__\n    constraint=constraint)\n  File \"C:\\Users\\JinGyu Choi\\Anaconda3\\lib\\site-packages\\tensorflow\\python\\ops\\variables.py\", line 422, in _init_from_args\n    self._snapshot = array_ops.identity(self._variable, name=\"read\")\n  File \"C:\\Users\\JinGyu Choi\\Anaconda3\\lib\\site-packages\\tensorflow\\python\\ops\\array_ops.py\", line 80, in identity\n    return gen_array_ops.identity(input, name=name)\n  File \"C:\\Users\\JinGyu Choi\\Anaconda3\\lib\\site-packages\\tensorflow\\python\\ops\\gen_array_ops.py\", line 3263, in identity\n    \"Identity\", input=input, name=name)\n  File \"C:\\Users\\JinGyu Choi\\Anaconda3\\lib\\site-packages\\tensorflow\\python\\framework\\op_def_library.py\", line 787, in _apply_op_helper\n    op_def=op_def)\n  File \"C:\\Users\\JinGyu Choi\\Anaconda3\\lib\\site-packages\\tensorflow\\python\\util\\deprecation.py\", line 454, in new_func\n    return func(*args, **kwargs)\n  File \"C:\\Users\\JinGyu Choi\\Anaconda3\\lib\\site-packages\\tensorflow\\python\\framework\\ops.py\", line 3155, in create_op\n    op_def=op_def)\n  File \"C:\\Users\\JinGyu Choi\\Anaconda3\\lib\\site-packages\\tensorflow\\python\\framework\\ops.py\", line 1717, in __init__\n    self._traceback = tf_stack.extract_stack()\n\nFailedPreconditionError (see above for traceback): Attempting to use uninitialized value Variable\n\t [[Node: Variable/read = Identity[T=DT_FLOAT, _device=\"/job:localhost/replica:0/task:0/device:CPU:0\"](Variable)]]\n",
     "output_type": "error",
     "traceback": [
      "\u001b[1;31m---------------------------------------------------------------------------\u001b[0m",
      "\u001b[1;31mFailedPreconditionError\u001b[0m                   Traceback (most recent call last)",
      "\u001b[1;32m~\\Anaconda3\\lib\\site-packages\\tensorflow\\python\\client\\session.py\u001b[0m in \u001b[0;36m_do_call\u001b[1;34m(self, fn, *args)\u001b[0m\n\u001b[0;32m   1277\u001b[0m     \u001b[1;32mtry\u001b[0m\u001b[1;33m:\u001b[0m\u001b[1;33m\u001b[0m\u001b[0m\n\u001b[1;32m-> 1278\u001b[1;33m       \u001b[1;32mreturn\u001b[0m \u001b[0mfn\u001b[0m\u001b[1;33m(\u001b[0m\u001b[1;33m*\u001b[0m\u001b[0margs\u001b[0m\u001b[1;33m)\u001b[0m\u001b[1;33m\u001b[0m\u001b[0m\n\u001b[0m\u001b[0;32m   1279\u001b[0m     \u001b[1;32mexcept\u001b[0m \u001b[0merrors\u001b[0m\u001b[1;33m.\u001b[0m\u001b[0mOpError\u001b[0m \u001b[1;32mas\u001b[0m \u001b[0me\u001b[0m\u001b[1;33m:\u001b[0m\u001b[1;33m\u001b[0m\u001b[0m\n",
      "\u001b[1;32m~\\Anaconda3\\lib\\site-packages\\tensorflow\\python\\client\\session.py\u001b[0m in \u001b[0;36m_run_fn\u001b[1;34m(feed_dict, fetch_list, target_list, options, run_metadata)\u001b[0m\n\u001b[0;32m   1262\u001b[0m       return self._call_tf_sessionrun(\n\u001b[1;32m-> 1263\u001b[1;33m           options, feed_dict, fetch_list, target_list, run_metadata)\n\u001b[0m\u001b[0;32m   1264\u001b[0m \u001b[1;33m\u001b[0m\u001b[0m\n",
      "\u001b[1;32m~\\Anaconda3\\lib\\site-packages\\tensorflow\\python\\client\\session.py\u001b[0m in \u001b[0;36m_call_tf_sessionrun\u001b[1;34m(self, options, feed_dict, fetch_list, target_list, run_metadata)\u001b[0m\n\u001b[0;32m   1349\u001b[0m         \u001b[0mself\u001b[0m\u001b[1;33m.\u001b[0m\u001b[0m_session\u001b[0m\u001b[1;33m,\u001b[0m \u001b[0moptions\u001b[0m\u001b[1;33m,\u001b[0m \u001b[0mfeed_dict\u001b[0m\u001b[1;33m,\u001b[0m \u001b[0mfetch_list\u001b[0m\u001b[1;33m,\u001b[0m \u001b[0mtarget_list\u001b[0m\u001b[1;33m,\u001b[0m\u001b[1;33m\u001b[0m\u001b[0m\n\u001b[1;32m-> 1350\u001b[1;33m         run_metadata)\n\u001b[0m\u001b[0;32m   1351\u001b[0m \u001b[1;33m\u001b[0m\u001b[0m\n",
      "\u001b[1;31mFailedPreconditionError\u001b[0m: Attempting to use uninitialized value Variable\n\t [[Node: Variable/read = Identity[T=DT_FLOAT, _device=\"/job:localhost/replica:0/task:0/device:CPU:0\"](Variable)]]",
      "\nDuring handling of the above exception, another exception occurred:\n",
      "\u001b[1;31mFailedPreconditionError\u001b[0m                   Traceback (most recent call last)",
      "\u001b[1;32m<ipython-input-12-9098eba3fbc7>\u001b[0m in \u001b[0;36m<module>\u001b[1;34m()\u001b[0m\n\u001b[1;32m----> 1\u001b[1;33m \u001b[0mprint\u001b[0m\u001b[1;33m(\u001b[0m\u001b[0msess\u001b[0m\u001b[1;33m.\u001b[0m\u001b[0mrun\u001b[0m\u001b[1;33m(\u001b[0m\u001b[0my\u001b[0m\u001b[1;33m,\u001b[0m\u001b[0mfeed_dict\u001b[0m\u001b[1;33m=\u001b[0m\u001b[1;33m{\u001b[0m\u001b[0mx\u001b[0m\u001b[1;33m:\u001b[0m\u001b[1;36m2\u001b[0m\u001b[1;33m}\u001b[0m\u001b[1;33m)\u001b[0m\u001b[1;33m)\u001b[0m\u001b[1;33m\u001b[0m\u001b[0m\n\u001b[0m",
      "\u001b[1;32m~\\Anaconda3\\lib\\site-packages\\tensorflow\\python\\client\\session.py\u001b[0m in \u001b[0;36mrun\u001b[1;34m(self, fetches, feed_dict, options, run_metadata)\u001b[0m\n\u001b[0;32m    875\u001b[0m     \u001b[1;32mtry\u001b[0m\u001b[1;33m:\u001b[0m\u001b[1;33m\u001b[0m\u001b[0m\n\u001b[0;32m    876\u001b[0m       result = self._run(None, fetches, feed_dict, options_ptr,\n\u001b[1;32m--> 877\u001b[1;33m                          run_metadata_ptr)\n\u001b[0m\u001b[0;32m    878\u001b[0m       \u001b[1;32mif\u001b[0m \u001b[0mrun_metadata\u001b[0m\u001b[1;33m:\u001b[0m\u001b[1;33m\u001b[0m\u001b[0m\n\u001b[0;32m    879\u001b[0m         \u001b[0mproto_data\u001b[0m \u001b[1;33m=\u001b[0m \u001b[0mtf_session\u001b[0m\u001b[1;33m.\u001b[0m\u001b[0mTF_GetBuffer\u001b[0m\u001b[1;33m(\u001b[0m\u001b[0mrun_metadata_ptr\u001b[0m\u001b[1;33m)\u001b[0m\u001b[1;33m\u001b[0m\u001b[0m\n",
      "\u001b[1;32m~\\Anaconda3\\lib\\site-packages\\tensorflow\\python\\client\\session.py\u001b[0m in \u001b[0;36m_run\u001b[1;34m(self, handle, fetches, feed_dict, options, run_metadata)\u001b[0m\n\u001b[0;32m   1098\u001b[0m     \u001b[1;32mif\u001b[0m \u001b[0mfinal_fetches\u001b[0m \u001b[1;32mor\u001b[0m \u001b[0mfinal_targets\u001b[0m \u001b[1;32mor\u001b[0m \u001b[1;33m(\u001b[0m\u001b[0mhandle\u001b[0m \u001b[1;32mand\u001b[0m \u001b[0mfeed_dict_tensor\u001b[0m\u001b[1;33m)\u001b[0m\u001b[1;33m:\u001b[0m\u001b[1;33m\u001b[0m\u001b[0m\n\u001b[0;32m   1099\u001b[0m       results = self._do_run(handle, final_targets, final_fetches,\n\u001b[1;32m-> 1100\u001b[1;33m                              feed_dict_tensor, options, run_metadata)\n\u001b[0m\u001b[0;32m   1101\u001b[0m     \u001b[1;32melse\u001b[0m\u001b[1;33m:\u001b[0m\u001b[1;33m\u001b[0m\u001b[0m\n\u001b[0;32m   1102\u001b[0m       \u001b[0mresults\u001b[0m \u001b[1;33m=\u001b[0m \u001b[1;33m[\u001b[0m\u001b[1;33m]\u001b[0m\u001b[1;33m\u001b[0m\u001b[0m\n",
      "\u001b[1;32m~\\Anaconda3\\lib\\site-packages\\tensorflow\\python\\client\\session.py\u001b[0m in \u001b[0;36m_do_run\u001b[1;34m(self, handle, target_list, fetch_list, feed_dict, options, run_metadata)\u001b[0m\n\u001b[0;32m   1270\u001b[0m     \u001b[1;32mif\u001b[0m \u001b[0mhandle\u001b[0m \u001b[1;32mis\u001b[0m \u001b[1;32mNone\u001b[0m\u001b[1;33m:\u001b[0m\u001b[1;33m\u001b[0m\u001b[0m\n\u001b[0;32m   1271\u001b[0m       return self._do_call(_run_fn, feeds, fetches, targets, options,\n\u001b[1;32m-> 1272\u001b[1;33m                            run_metadata)\n\u001b[0m\u001b[0;32m   1273\u001b[0m     \u001b[1;32melse\u001b[0m\u001b[1;33m:\u001b[0m\u001b[1;33m\u001b[0m\u001b[0m\n\u001b[0;32m   1274\u001b[0m       \u001b[1;32mreturn\u001b[0m \u001b[0mself\u001b[0m\u001b[1;33m.\u001b[0m\u001b[0m_do_call\u001b[0m\u001b[1;33m(\u001b[0m\u001b[0m_prun_fn\u001b[0m\u001b[1;33m,\u001b[0m \u001b[0mhandle\u001b[0m\u001b[1;33m,\u001b[0m \u001b[0mfeeds\u001b[0m\u001b[1;33m,\u001b[0m \u001b[0mfetches\u001b[0m\u001b[1;33m)\u001b[0m\u001b[1;33m\u001b[0m\u001b[0m\n",
      "\u001b[1;32m~\\Anaconda3\\lib\\site-packages\\tensorflow\\python\\client\\session.py\u001b[0m in \u001b[0;36m_do_call\u001b[1;34m(self, fn, *args)\u001b[0m\n\u001b[0;32m   1289\u001b[0m         \u001b[1;32mexcept\u001b[0m \u001b[0mKeyError\u001b[0m\u001b[1;33m:\u001b[0m\u001b[1;33m\u001b[0m\u001b[0m\n\u001b[0;32m   1290\u001b[0m           \u001b[1;32mpass\u001b[0m\u001b[1;33m\u001b[0m\u001b[0m\n\u001b[1;32m-> 1291\u001b[1;33m       \u001b[1;32mraise\u001b[0m \u001b[0mtype\u001b[0m\u001b[1;33m(\u001b[0m\u001b[0me\u001b[0m\u001b[1;33m)\u001b[0m\u001b[1;33m(\u001b[0m\u001b[0mnode_def\u001b[0m\u001b[1;33m,\u001b[0m \u001b[0mop\u001b[0m\u001b[1;33m,\u001b[0m \u001b[0mmessage\u001b[0m\u001b[1;33m)\u001b[0m\u001b[1;33m\u001b[0m\u001b[0m\n\u001b[0m\u001b[0;32m   1292\u001b[0m \u001b[1;33m\u001b[0m\u001b[0m\n\u001b[0;32m   1293\u001b[0m   \u001b[1;32mdef\u001b[0m \u001b[0m_extend_graph\u001b[0m\u001b[1;33m(\u001b[0m\u001b[0mself\u001b[0m\u001b[1;33m)\u001b[0m\u001b[1;33m:\u001b[0m\u001b[1;33m\u001b[0m\u001b[0m\n",
      "\u001b[1;31mFailedPreconditionError\u001b[0m: Attempting to use uninitialized value Variable\n\t [[Node: Variable/read = Identity[T=DT_FLOAT, _device=\"/job:localhost/replica:0/task:0/device:CPU:0\"](Variable)]]\n\nCaused by op 'Variable/read', defined at:\n  File \"C:\\Users\\JinGyu Choi\\Anaconda3\\lib\\runpy.py\", line 193, in _run_module_as_main\n    \"__main__\", mod_spec)\n  File \"C:\\Users\\JinGyu Choi\\Anaconda3\\lib\\runpy.py\", line 85, in _run_code\n    exec(code, run_globals)\n  File \"C:\\Users\\JinGyu Choi\\Anaconda3\\lib\\site-packages\\ipykernel_launcher.py\", line 16, in <module>\n    app.launch_new_instance()\n  File \"C:\\Users\\JinGyu Choi\\Anaconda3\\lib\\site-packages\\traitlets\\config\\application.py\", line 658, in launch_instance\n    app.start()\n  File \"C:\\Users\\JinGyu Choi\\Anaconda3\\lib\\site-packages\\ipykernel\\kernelapp.py\", line 486, in start\n    self.io_loop.start()\n  File \"C:\\Users\\JinGyu Choi\\Anaconda3\\lib\\site-packages\\tornado\\platform\\asyncio.py\", line 127, in start\n    self.asyncio_loop.run_forever()\n  File \"C:\\Users\\JinGyu Choi\\Anaconda3\\lib\\asyncio\\base_events.py\", line 422, in run_forever\n    self._run_once()\n  File \"C:\\Users\\JinGyu Choi\\Anaconda3\\lib\\asyncio\\base_events.py\", line 1432, in _run_once\n    handle._run()\n  File \"C:\\Users\\JinGyu Choi\\Anaconda3\\lib\\asyncio\\events.py\", line 145, in _run\n    self._callback(*self._args)\n  File \"C:\\Users\\JinGyu Choi\\Anaconda3\\lib\\site-packages\\tornado\\platform\\asyncio.py\", line 117, in _handle_events\n    handler_func(fileobj, events)\n  File \"C:\\Users\\JinGyu Choi\\Anaconda3\\lib\\site-packages\\tornado\\stack_context.py\", line 276, in null_wrapper\n    return fn(*args, **kwargs)\n  File \"C:\\Users\\JinGyu Choi\\Anaconda3\\lib\\site-packages\\zmq\\eventloop\\zmqstream.py\", line 450, in _handle_events\n    self._handle_recv()\n  File \"C:\\Users\\JinGyu Choi\\Anaconda3\\lib\\site-packages\\zmq\\eventloop\\zmqstream.py\", line 480, in _handle_recv\n    self._run_callback(callback, msg)\n  File \"C:\\Users\\JinGyu Choi\\Anaconda3\\lib\\site-packages\\zmq\\eventloop\\zmqstream.py\", line 432, in _run_callback\n    callback(*args, **kwargs)\n  File \"C:\\Users\\JinGyu Choi\\Anaconda3\\lib\\site-packages\\tornado\\stack_context.py\", line 276, in null_wrapper\n    return fn(*args, **kwargs)\n  File \"C:\\Users\\JinGyu Choi\\Anaconda3\\lib\\site-packages\\ipykernel\\kernelbase.py\", line 283, in dispatcher\n    return self.dispatch_shell(stream, msg)\n  File \"C:\\Users\\JinGyu Choi\\Anaconda3\\lib\\site-packages\\ipykernel\\kernelbase.py\", line 233, in dispatch_shell\n    handler(stream, idents, msg)\n  File \"C:\\Users\\JinGyu Choi\\Anaconda3\\lib\\site-packages\\ipykernel\\kernelbase.py\", line 399, in execute_request\n    user_expressions, allow_stdin)\n  File \"C:\\Users\\JinGyu Choi\\Anaconda3\\lib\\site-packages\\ipykernel\\ipkernel.py\", line 208, in do_execute\n    res = shell.run_cell(code, store_history=store_history, silent=silent)\n  File \"C:\\Users\\JinGyu Choi\\Anaconda3\\lib\\site-packages\\ipykernel\\zmqshell.py\", line 537, in run_cell\n    return super(ZMQInteractiveShell, self).run_cell(*args, **kwargs)\n  File \"C:\\Users\\JinGyu Choi\\Anaconda3\\lib\\site-packages\\IPython\\core\\interactiveshell.py\", line 2662, in run_cell\n    raw_cell, store_history, silent, shell_futures)\n  File \"C:\\Users\\JinGyu Choi\\Anaconda3\\lib\\site-packages\\IPython\\core\\interactiveshell.py\", line 2785, in _run_cell\n    interactivity=interactivity, compiler=compiler, result=result)\n  File \"C:\\Users\\JinGyu Choi\\Anaconda3\\lib\\site-packages\\IPython\\core\\interactiveshell.py\", line 2903, in run_ast_nodes\n    if self.run_code(code, result):\n  File \"C:\\Users\\JinGyu Choi\\Anaconda3\\lib\\site-packages\\IPython\\core\\interactiveshell.py\", line 2963, in run_code\n    exec(code_obj, self.user_global_ns, self.user_ns)\n  File \"<ipython-input-11-89b9ef4a06de>\", line 1, in <module>\n    W=tf.Variable([0.2],dtype=tf.float32)\n  File \"C:\\Users\\JinGyu Choi\\Anaconda3\\lib\\site-packages\\tensorflow\\python\\ops\\variables.py\", line 259, in __init__\n    constraint=constraint)\n  File \"C:\\Users\\JinGyu Choi\\Anaconda3\\lib\\site-packages\\tensorflow\\python\\ops\\variables.py\", line 422, in _init_from_args\n    self._snapshot = array_ops.identity(self._variable, name=\"read\")\n  File \"C:\\Users\\JinGyu Choi\\Anaconda3\\lib\\site-packages\\tensorflow\\python\\ops\\array_ops.py\", line 80, in identity\n    return gen_array_ops.identity(input, name=name)\n  File \"C:\\Users\\JinGyu Choi\\Anaconda3\\lib\\site-packages\\tensorflow\\python\\ops\\gen_array_ops.py\", line 3263, in identity\n    \"Identity\", input=input, name=name)\n  File \"C:\\Users\\JinGyu Choi\\Anaconda3\\lib\\site-packages\\tensorflow\\python\\framework\\op_def_library.py\", line 787, in _apply_op_helper\n    op_def=op_def)\n  File \"C:\\Users\\JinGyu Choi\\Anaconda3\\lib\\site-packages\\tensorflow\\python\\util\\deprecation.py\", line 454, in new_func\n    return func(*args, **kwargs)\n  File \"C:\\Users\\JinGyu Choi\\Anaconda3\\lib\\site-packages\\tensorflow\\python\\framework\\ops.py\", line 3155, in create_op\n    op_def=op_def)\n  File \"C:\\Users\\JinGyu Choi\\Anaconda3\\lib\\site-packages\\tensorflow\\python\\framework\\ops.py\", line 1717, in __init__\n    self._traceback = tf_stack.extract_stack()\n\nFailedPreconditionError (see above for traceback): Attempting to use uninitialized value Variable\n\t [[Node: Variable/read = Identity[T=DT_FLOAT, _device=\"/job:localhost/replica:0/task:0/device:CPU:0\"](Variable)]]\n"
     ]
    }
   ],
   "source": [
    "print(sess.run(y,feed_dict={x:2}))\n",
    "#이게 실행이 되지 않는 이유 : 변수 initiating을 하지않고 세션을 실행시켰기 때문."
   ]
  },
  {
   "cell_type": "code",
   "execution_count": 13,
   "metadata": {},
   "outputs": [],
   "source": [
    "init=tf.global_variables_initializer()\n",
    "sess.run(init)"
   ]
  },
  {
   "cell_type": "code",
   "execution_count": 14,
   "metadata": {},
   "outputs": [
    {
     "name": "stdout",
     "output_type": "stream",
     "text": [
      "[0.2]\n"
     ]
    }
   ],
   "source": [
    "print(sess.run(y,feed_dict={x:2}))"
   ]
  },
  {
   "cell_type": "code",
   "execution_count": 50,
   "metadata": {},
   "outputs": [
    {
     "name": "stdout",
     "output_type": "stream",
     "text": [
      "(array([ 0.2], dtype=float32), array([-0.2], dtype=float32))\n"
     ]
    }
   ],
   "source": [
    "print(sess.run((W,b)))"
   ]
  },
  {
   "cell_type": "code",
   "execution_count": 51,
   "metadata": {},
   "outputs": [
    {
     "data": {
      "text/plain": [
       "(array([ 4.], dtype=float32), array([-3.20000005], dtype=float32))"
      ]
     },
     "execution_count": 51,
     "metadata": {},
     "output_type": "execute_result"
    }
   ],
   "source": [
    "fixW=tf.assign(W,[4.0])\n",
    "fixB=tf.assign(b,[-3.2])\n",
    "sess.run((fixW,fixB))"
   ]
  },
  {
   "cell_type": "code",
   "execution_count": 52,
   "metadata": {},
   "outputs": [
    {
     "name": "stdout",
     "output_type": "stream",
     "text": [
      "[ 4.80000019]\n",
      "(array([ 4.], dtype=float32), array([-3.20000005], dtype=float32))\n"
     ]
    }
   ],
   "source": [
    "print(sess.run(y,feed_dict={x:2}))\n",
    "print(sess.run((W,b)))"
   ]
  },
  {
   "cell_type": "code",
   "execution_count": 53,
   "metadata": {},
   "outputs": [],
   "source": [
    "sess.close();"
   ]
  },
  {
   "cell_type": "code",
   "execution_count": 54,
   "metadata": {},
   "outputs": [
    {
     "data": {
      "text/html": [
       "<div>\n",
       "<table border=\"1\" class=\"dataframe\">\n",
       "  <thead>\n",
       "    <tr style=\"text-align: right;\">\n",
       "      <th></th>\n",
       "      <th>x</th>\n",
       "      <th>y</th>\n",
       "    </tr>\n",
       "  </thead>\n",
       "  <tbody>\n",
       "    <tr>\n",
       "      <th>0</th>\n",
       "      <td>0.431086</td>\n",
       "      <td>0.794687</td>\n",
       "    </tr>\n",
       "    <tr>\n",
       "      <th>1</th>\n",
       "      <td>0.676032</td>\n",
       "      <td>0.339175</td>\n",
       "    </tr>\n",
       "    <tr>\n",
       "      <th>2</th>\n",
       "      <td>-1.215988</td>\n",
       "      <td>-1.176260</td>\n",
       "    </tr>\n",
       "    <tr>\n",
       "      <th>3</th>\n",
       "      <td>0.534917</td>\n",
       "      <td>0.025879</td>\n",
       "    </tr>\n",
       "    <tr>\n",
       "      <th>4</th>\n",
       "      <td>-0.256216</td>\n",
       "      <td>-0.435692</td>\n",
       "    </tr>\n",
       "  </tbody>\n",
       "</table>\n",
       "</div>"
      ],
      "text/plain": [
       "          x         y\n",
       "0  0.431086  0.794687\n",
       "1  0.676032  0.339175\n",
       "2 -1.215988 -1.176260\n",
       "3  0.534917  0.025879\n",
       "4 -0.256216 -0.435692"
      ]
     },
     "execution_count": 54,
     "metadata": {},
     "output_type": "execute_result"
    }
   ],
   "source": [
    "df=pd.read_csv('regression_data1.csv')\n",
    "df.head()"
   ]
  },
  {
   "cell_type": "code",
   "execution_count": 55,
   "metadata": {},
   "outputs": [
    {
     "name": "stdout",
     "output_type": "stream",
     "text": [
      "(20,)\n"
     ]
    }
   ],
   "source": [
    "X=df.values[:,0]\n",
    "Y=df.values[:,1]\n",
    "print(X.shape)"
   ]
  },
  {
   "cell_type": "code",
   "execution_count": 56,
   "metadata": {},
   "outputs": [
    {
     "name": "stdout",
     "output_type": "stream",
     "text": [
      "(15,)\n",
      "(15,)\n"
     ]
    }
   ],
   "source": [
    "X_train,X_test,y_train,y_test=train_test_split(X,Y,random_state=10,test_size=0.25)\n",
    "print(X_train.shape)\n",
    "print(y_train.shape)"
   ]
  },
  {
   "cell_type": "code",
   "execution_count": 58,
   "metadata": {},
   "outputs": [],
   "source": [
    "W=tf.Variable([0.2],dtype=tf.float32)\n",
    "b=tf.Variable([-0.2],dtype=tf.float32)\n",
    "x=tf.placeholder(tf.float32)\n",
    "\n",
    "y=tf.placeholder(tf.float32)\n",
    "\n",
    "linear_model=W*x+b"
   ]
  },
  {
   "cell_type": "code",
   "execution_count": 59,
   "metadata": {},
   "outputs": [],
   "source": [
    "squared_deltas=tf.square(linear_model-y)\n",
    "loss=tf.reduce_sum(squared_deltas)"
   ]
  },
  {
   "cell_type": "code",
   "execution_count": 60,
   "metadata": {},
   "outputs": [],
   "source": [
    "optimizer=tf.train.GradientDescentOptimizer(0.01)\n",
    "train=optimizer.minimize(loss)"
   ]
  },
  {
   "cell_type": "code",
   "execution_count": 61,
   "metadata": {},
   "outputs": [],
   "source": [
    "init=tf.global_variables_initializer()\n",
    "sess=tf.Session()\n",
    "sess.run(init)"
   ]
  },
  {
   "cell_type": "code",
   "execution_count": 65,
   "metadata": {},
   "outputs": [
    {
     "name": "stdout",
     "output_type": "stream",
     "text": [
      "W= [ 0.52307034]\n",
      "b= [ 0.03176375]\n",
      "1.40793\n"
     ]
    }
   ],
   "source": [
    "print('W=',sess.run(W))\n",
    "print('b=',sess.run(b))\n",
    "print(loss.eval(session=sess,feed_dict={x:X_train,y:y_train})) #before training"
   ]
  },
  {
   "cell_type": "code",
   "execution_count": 74,
   "metadata": {},
   "outputs": [
    {
     "name": "stdout",
     "output_type": "stream",
     "text": [
      "0\n",
      "1.38297\n",
      "[ 0.53980803]\n",
      "[ 0.04788315]\n",
      "1\n",
      "1.37585\n",
      "[ 0.54613572]\n",
      "[ 0.05401327]\n",
      "2\n",
      "1.37091\n",
      "[ 0.55140615]\n",
      "[ 0.05913071]\n",
      "3\n",
      "1.36747\n",
      "[ 0.55579746]\n",
      "[ 0.06340119]\n",
      "4\n",
      "1.36507\n",
      "[ 0.55945718]\n",
      "[ 0.06696401]\n",
      "5\n",
      "1.36341\n",
      "[ 0.56250769]\n",
      "[ 0.06993591]\n",
      "6\n",
      "1.36225\n",
      "[ 0.56505066]\n",
      "[ 0.07241462]\n",
      "7\n",
      "1.36145\n",
      "[ 0.56717068]\n",
      "[ 0.07448182]\n",
      "8\n",
      "1.36089\n",
      "[ 0.56893826]\n",
      "[ 0.07620571]\n",
      "9\n",
      "1.3605\n",
      "[ 0.57041198]\n",
      "[ 0.07764327]\n",
      "10\n",
      "1.36023\n",
      "[ 0.57164073]\n",
      "[ 0.07884201]\n",
      "11\n",
      "1.36004\n",
      "[ 0.57266527]\n",
      "[ 0.07984161]\n",
      "12\n",
      "1.35991\n",
      "[ 0.57351959]\n",
      "[ 0.08067512]\n",
      "13\n",
      "1.35982\n",
      "[ 0.57423192]\n",
      "[ 0.08137015]\n",
      "14\n",
      "1.35976\n",
      "[ 0.57482588]\n",
      "[ 0.08194969]\n",
      "15\n",
      "1.35972\n",
      "[ 0.57532114]\n",
      "[ 0.08243293]\n",
      "16\n",
      "1.35969\n",
      "[ 0.57573408]\n",
      "[ 0.08283589]\n",
      "17\n",
      "1.35966\n",
      "[ 0.57607841]\n",
      "[ 0.08317188]\n",
      "18\n",
      "1.35965\n",
      "[ 0.57636553]\n",
      "[ 0.08345204]\n",
      "19\n",
      "1.35964\n",
      "[ 0.5766049]\n",
      "[ 0.08368564]\n",
      "20\n",
      "1.35963\n",
      "[ 0.57680452]\n",
      "[ 0.08388044]\n",
      "21\n",
      "1.35963\n",
      "[ 0.57697093]\n",
      "[ 0.08404286]\n",
      "22\n",
      "1.35962\n",
      "[ 0.57710975]\n",
      "[ 0.08417829]\n",
      "23\n",
      "1.35962\n",
      "[ 0.57722545]\n",
      "[ 0.08429122]\n",
      "24\n",
      "1.35962\n",
      "[ 0.57732195]\n",
      "[ 0.08438537]\n",
      "25\n",
      "1.35962\n",
      "[ 0.57740241]\n",
      "[ 0.08446388]\n",
      "26\n",
      "1.35962\n",
      "[ 0.57746953]\n",
      "[ 0.08452935]\n",
      "27\n",
      "1.35962\n",
      "[ 0.57752544]\n",
      "[ 0.08458394]\n",
      "28\n",
      "1.35962\n",
      "[ 0.57757211]\n",
      "[ 0.08462945]\n",
      "29\n",
      "1.35962\n",
      "[ 0.57761103]\n",
      "[ 0.08466741]\n",
      "30\n",
      "1.35962\n",
      "[ 0.57764345]\n",
      "[ 0.08469906]\n",
      "31\n",
      "1.35962\n",
      "[ 0.57767051]\n",
      "[ 0.08472545]\n",
      "32\n",
      "1.35962\n",
      "[ 0.57769305]\n",
      "[ 0.08474746]\n",
      "33\n",
      "1.35962\n",
      "[ 0.57771182]\n",
      "[ 0.08476581]\n",
      "34\n",
      "1.35962\n",
      "[ 0.5777275]\n",
      "[ 0.0847811]\n",
      "35\n",
      "1.35962\n",
      "[ 0.57774055]\n",
      "[ 0.08479385]\n",
      "36\n",
      "1.35962\n",
      "[ 0.57775146]\n",
      "[ 0.08480448]\n",
      "37\n",
      "1.35962\n",
      "[ 0.57776052]\n",
      "[ 0.08481336]\n",
      "38\n",
      "1.35962\n",
      "[ 0.57776809]\n",
      "[ 0.08482075]\n",
      "39\n",
      "1.35962\n",
      "[ 0.57777441]\n",
      "[ 0.08482691]\n",
      "40\n",
      "1.35962\n",
      "[ 0.57777971]\n",
      "[ 0.08483205]\n",
      "41\n",
      "1.35962\n",
      "[ 0.57778412]\n",
      "[ 0.08483634]\n",
      "42\n",
      "1.35962\n",
      "[ 0.57778776]\n",
      "[ 0.08483992]\n",
      "43\n",
      "1.35962\n",
      "[ 0.5777908]\n",
      "[ 0.0848429]\n",
      "44\n",
      "1.35962\n",
      "[ 0.57779336]\n",
      "[ 0.08484538]\n",
      "45\n",
      "1.35962\n",
      "[ 0.57779551]\n",
      "[ 0.08484745]\n",
      "46\n",
      "1.35962\n",
      "[ 0.57779729]\n",
      "[ 0.08484919]\n",
      "47\n",
      "1.35962\n",
      "[ 0.57779878]\n",
      "[ 0.08485063]\n",
      "48\n",
      "1.35962\n",
      "[ 0.57779998]\n",
      "[ 0.08485184]\n",
      "49\n",
      "1.35962\n",
      "[ 0.57780099]\n",
      "[ 0.08485284]\n",
      "50\n",
      "1.35962\n",
      "[ 0.57780182]\n",
      "[ 0.08485367]\n",
      "51\n",
      "1.35962\n",
      "[ 0.57780254]\n",
      "[ 0.08485436]\n",
      "52\n",
      "1.35962\n",
      "[ 0.57780313]\n",
      "[ 0.08485495]\n",
      "53\n",
      "1.35962\n",
      "[ 0.57780367]\n",
      "[ 0.08485542]\n",
      "54\n",
      "1.35962\n",
      "[ 0.57780409]\n",
      "[ 0.08485582]\n",
      "55\n",
      "1.35962\n",
      "[ 0.57780445]\n",
      "[ 0.08485617]\n",
      "56\n",
      "1.35962\n",
      "[ 0.57780474]\n",
      "[ 0.08485646]\n",
      "57\n",
      "1.35962\n",
      "[ 0.57780498]\n",
      "[ 0.0848567]\n",
      "58\n",
      "1.35962\n",
      "[ 0.57780516]\n",
      "[ 0.08485689]\n",
      "59\n",
      "1.35962\n",
      "[ 0.57780534]\n",
      "[ 0.08485705]\n",
      "60\n",
      "1.35962\n",
      "[ 0.57780546]\n",
      "[ 0.0848572]\n",
      "61\n",
      "1.35962\n",
      "[ 0.57780558]\n",
      "[ 0.0848573]\n",
      "62\n",
      "1.35962\n",
      "[ 0.5778057]\n",
      "[ 0.08485739]\n",
      "63\n",
      "1.35962\n",
      "[ 0.57780576]\n",
      "[ 0.08485747]\n",
      "64\n",
      "1.35962\n",
      "[ 0.57780582]\n",
      "[ 0.08485753]\n",
      "65\n",
      "1.35962\n",
      "[ 0.57780588]\n",
      "[ 0.08485759]\n",
      "66\n",
      "1.35962\n",
      "[ 0.57780594]\n",
      "[ 0.08485764]\n",
      "67\n",
      "1.35962\n",
      "[ 0.577806]\n",
      "[ 0.08485767]\n",
      "68\n",
      "1.35962\n",
      "[ 0.577806]\n",
      "[ 0.08485771]\n",
      "69\n",
      "1.35962\n",
      "[ 0.577806]\n",
      "[ 0.08485774]\n",
      "70\n",
      "1.35962\n",
      "[ 0.57780606]\n",
      "[ 0.08485775]\n",
      "71\n",
      "1.35962\n",
      "[ 0.57780606]\n",
      "[ 0.08485777]\n",
      "72\n",
      "1.35962\n",
      "[ 0.57780606]\n",
      "[ 0.08485778]\n",
      "73\n",
      "1.35962\n",
      "[ 0.57780606]\n",
      "[ 0.0848578]\n",
      "74\n",
      "1.35962\n",
      "[ 0.57780606]\n",
      "[ 0.0848578]\n",
      "75\n",
      "1.35962\n",
      "[ 0.57780606]\n",
      "[ 0.0848578]\n",
      "76\n",
      "1.35962\n",
      "[ 0.57780606]\n",
      "[ 0.0848578]\n",
      "77\n",
      "1.35962\n",
      "[ 0.57780606]\n",
      "[ 0.0848578]\n",
      "78\n",
      "1.35962\n",
      "[ 0.57780606]\n",
      "[ 0.0848578]\n",
      "79\n",
      "1.35962\n",
      "[ 0.57780606]\n",
      "[ 0.0848578]\n",
      "80\n",
      "1.35962\n",
      "[ 0.57780606]\n",
      "[ 0.0848578]\n",
      "81\n",
      "1.35962\n",
      "[ 0.57780606]\n",
      "[ 0.0848578]\n",
      "82\n",
      "1.35962\n",
      "[ 0.57780606]\n",
      "[ 0.0848578]\n",
      "83\n",
      "1.35962\n",
      "[ 0.57780606]\n",
      "[ 0.0848578]\n",
      "84\n",
      "1.35962\n",
      "[ 0.57780606]\n",
      "[ 0.0848578]\n",
      "85\n",
      "1.35962\n",
      "[ 0.57780606]\n",
      "[ 0.0848578]\n",
      "86\n",
      "1.35962\n",
      "[ 0.57780606]\n",
      "[ 0.0848578]\n",
      "87\n",
      "1.35962\n",
      "[ 0.57780606]\n",
      "[ 0.0848578]\n",
      "88\n",
      "1.35962\n",
      "[ 0.57780606]\n",
      "[ 0.0848578]\n",
      "89\n",
      "1.35962\n",
      "[ 0.57780606]\n",
      "[ 0.0848578]\n",
      "90\n",
      "1.35962\n",
      "[ 0.57780606]\n",
      "[ 0.0848578]\n",
      "91\n",
      "1.35962\n",
      "[ 0.57780606]\n",
      "[ 0.0848578]\n",
      "92\n",
      "1.35962\n",
      "[ 0.57780606]\n",
      "[ 0.0848578]\n",
      "93\n",
      "1.35962\n",
      "[ 0.57780606]\n",
      "[ 0.0848578]\n",
      "94\n",
      "1.35962\n",
      "[ 0.57780606]\n",
      "[ 0.0848578]\n",
      "95\n",
      "1.35962\n",
      "[ 0.57780606]\n",
      "[ 0.0848578]\n",
      "96\n",
      "1.35962\n",
      "[ 0.57780606]\n",
      "[ 0.0848578]\n",
      "97\n",
      "1.35962\n",
      "[ 0.57780606]\n",
      "[ 0.0848578]\n",
      "98\n",
      "1.35962\n",
      "[ 0.57780606]\n",
      "[ 0.0848578]\n",
      "99\n",
      "1.35962\n",
      "[ 0.57780606]\n",
      "[ 0.0848578]\n"
     ]
    }
   ],
   "source": [
    "for epoch in range(100):\n",
    "    sess.run(train, feed_dict={\n",
    "        x:X_train,\n",
    "        y:y_train\n",
    "    })\n",
    "    print(epoch)\n",
    "    print(loss.eval(session=sess,feed_dict={x:X_train,y:y_train}))\n",
    "    print(sess.run(W))\n",
    "    print(sess.run(b))"
   ]
  },
  {
   "cell_type": "code",
   "execution_count": 75,
   "metadata": {},
   "outputs": [
    {
     "name": "stdout",
     "output_type": "stream",
     "text": [
      "0.250941\n"
     ]
    }
   ],
   "source": [
    "print(loss.eval(session=sess,feed_dict={x:X_test,y:y_test}))"
   ]
  },
  {
   "cell_type": "code",
   "execution_count": 76,
   "metadata": {},
   "outputs": [
    {
     "name": "stdout",
     "output_type": "stream",
     "text": [
      "[ 0.4712247   0.88792092  0.62388974 -0.17933443  0.39393604]\n",
      "[ 0.14714283  0.87566553  0.54402263 -0.24192059  0.02587876]\n"
     ]
    }
   ],
   "source": [
    "y_test_pred=linear_model.eval(session=sess,feed_dict={x:X_test})\n",
    "print(y_test_pred)\n",
    "print(y_test)"
   ]
  },
  {
   "cell_type": "code",
   "execution_count": 77,
   "metadata": {},
   "outputs": [
    {
     "name": "stdout",
     "output_type": "stream",
     "text": [
      "[ 0.57780606] [ 0.0848578]\n"
     ]
    }
   ],
   "source": [
    "w_=sess.run(W)\n",
    "b_=sess.run(b)\n",
    "print(w_,b_)"
   ]
  },
  {
   "cell_type": "code",
   "execution_count": 78,
   "metadata": {},
   "outputs": [
    {
     "data": {
      "image/png": "[encoded data removed]",
      "text/plain": [
       "<matplotlib.figure.Figure at 0x7fd7241005f8>"
      ]
     },
     "metadata": {},
     "output_type": "display_data"
    }
   ],
   "source": [
    "xval=np.linspace(-2,2,1001)\n",
    "yval=w_*xval+b_\n",
    "\n",
    "plt.plot(xval,yval,color='r',label='linear model')\n",
    "plt.scatter(X_train,y_train,color='k',marker='o',label='train set')\n",
    "plt.scatter(X_test,y_test,color='b',marker='^',label='test set')\n",
    "\n",
    "plt.xlim((-2,2))\n",
    "plt.ylim((-1.5,1.5))\n",
    "plt.legend()\n",
    "plt.title('linear model with tensorflow')\n",
    "\n",
    "plt.show()"
   ]
  },
  {
   "cell_type": "code",
   "execution_count": 79,
   "metadata": {},
   "outputs": [],
   "source": [
    "sess.close()"
   ]
  },
  {
   "cell_type": "code",
   "execution_count": 82,
   "metadata": {},
   "outputs": [],
   "source": [
    "X=np.array([[0,0],[0,1],[1,0],[1,1]]) #4 x 2\n",
    "Y=np.array([[0],[1],[1],[1]])"
   ]
  },
  {
   "cell_type": "code",
   "execution_count": 84,
   "metadata": {},
   "outputs": [],
   "source": [
    "tf.set_random_seed(1234)\n",
    "w=tf.Variable(tf.truncated_normal([2,1],seed=0),name='Weights')\n",
    "b=tf.Variable(tf.zeros([1]),name='Bias')\n",
    "\n",
    "x=tf.placeholder(tf.float32,shape=[None,2],name='Input')\n",
    "t=tf.placeholder(tf.float32,shape=[None,1],name='Target')\n",
    "\n",
    "y=tf.nn.sigmoid(tf.matmul(x,w)+b)\n",
    "\n",
    "cross_entropy=-tf.reduce_mean(t*tf.log(y)+(1-t)*tf.log(1-y))\n",
    "\n",
    "optimaizer=tf.train.GradientDescentOptimizer(0.1)\n",
    "train_step=optimizer.minimize(cross_entropy)\n",
    "\n",
    "correct_prediction=tf.equal(tf.to_float(tf.greater(y,0.5)),t)"
   ]
  },
  {
   "cell_type": "code",
   "execution_count": 85,
   "metadata": {},
   "outputs": [],
   "source": [
    "init=tf.global_variables_initializer()\n",
    "sess=tf.Session()\n",
    "sess.run(init)"
   ]
  },
  {
   "cell_type": "code",
   "execution_count": 89,
   "metadata": {},
   "outputs": [
    {
     "name": "stdout",
     "output_type": "stream",
     "text": [
      "w=\n",
      " [[-0.30200204]\n",
      " [ 1.99549484]]\n",
      "b= [ 0.]\n",
      "prob=\n",
      " [[ 0.5       ]\n",
      " [ 0.88032323]\n",
      " [ 0.42506817]\n",
      " [ 0.84468293]]\n",
      "cross_entropy= 0.461228\n",
      "[[ True]\n",
      " [ True]\n",
      " [False]\n",
      " [ True]]\n"
     ]
    }
   ],
   "source": [
    "print(\"w=\\n\",sess.run(w))\n",
    "print('b=',sess.run(b))\n",
    "prob=y.eval(session=sess,feed_dict={x:X})\n",
    "print(\"prob=\\n\",prob)\n",
    "print(\"cross_entropy=\",sess.run(cross_entropy, feed_dict={x:X,t:Y}))\n",
    "classified=correct_prediction.eval(session=sess, feed_dict={x:X,t:Y})\n",
    "print(classified)"
   ]
  },
  {
   "cell_type": "code",
   "execution_count": null,
   "metadata": {},
   "outputs": [],
   "source": []
  }
 ],
 "metadata": {
  "kernelspec": {
   "display_name": "Python 3",
   "language": "python",
   "name": "python3"
  },
  "language_info": {
   "codemirror_mode": {
    "name": "ipython",
    "version": 3
   },
   "file_extension": ".py",
   "mimetype": "text/x-python",
   "name": "python",
   "nbconvert_exporter": "python",
   "pygments_lexer": "ipython3",
   "version": "3.6.5"
  }
 },
 "nbformat": 4,
 "nbformat_minor": 2
}
