{
 "cells": [
  {
   "cell_type": "code",
   "execution_count": 1,
   "metadata": {},
   "outputs": [
    {
     "name": "stderr",
     "output_type": "stream",
     "text": [
      "C:\\Users\\JinGyu Choi\\Anaconda3\\lib\\site-packages\\h5py\\__init__.py:36: FutureWarning: Conversion of the second argument of issubdtype from `float` to `np.floating` is deprecated. In future, it will be treated as `np.float64 == np.dtype(float).type`.\n",
      "  from ._conv import register_converters as _register_converters\n",
      "Using TensorFlow backend.\n"
     ]
    }
   ],
   "source": [
    "import numpy as np\n",
    "import matplotlib.pyplot as plt\n",
    "\n",
    "from keras.models import Sequential\n",
    "from keras.layers import Dense, Activation\n",
    "from keras.optimizers import SGD"
   ]
  },
  {
   "cell_type": "code",
   "execution_count": 2,
   "metadata": {},
   "outputs": [],
   "source": [
    "#OR\n",
    "X=np.array([[0,0],[0,1],[1,0],[1,1]])\n",
    "Y=np.array([[0],[1],[1],[1]])"
   ]
  },
  {
   "cell_type": "code",
   "execution_count": 3,
   "metadata": {},
   "outputs": [],
   "source": [
    "model=Sequential([Dense(input_dim=2, units=1),Activation('sigmoid')])"
   ]
  },
  {
   "cell_type": "code",
   "execution_count": 4,
   "metadata": {},
   "outputs": [
    {
     "name": "stdout",
     "output_type": "stream",
     "text": [
      "_________________________________________________________________\n",
      "Layer (type)                 Output Shape              Param #   \n",
      "=================================================================\n",
      "dense_1 (Dense)              (None, 1)                 3         \n",
      "_________________________________________________________________\n",
      "activation_1 (Activation)    (None, 1)                 0         \n",
      "=================================================================\n",
      "Total params: 3\n",
      "Trainable params: 3\n",
      "Non-trainable params: 0\n",
      "_________________________________________________________________\n"
     ]
    }
   ],
   "source": [
    "model.summary()"
   ]
  },
  {
   "cell_type": "code",
   "execution_count": 5,
   "metadata": {},
   "outputs": [],
   "source": [
    "model.compile?"
   ]
  },
  {
   "cell_type": "code",
   "execution_count": 6,
   "metadata": {},
   "outputs": [],
   "source": [
    "model.compile(loss='binary_crossentropy',optimizer=SGD(lr=0.1))"
   ]
  },
  {
   "cell_type": "code",
   "execution_count": 7,
   "metadata": {},
   "outputs": [
    {
     "name": "stdout",
     "output_type": "stream",
     "text": [
      "4/4 [==============================] - 0s 55ms/step\n",
      "[[0]\n",
      " [1]\n",
      " [0]\n",
      " [1]]\n",
      "[[ True]\n",
      " [ True]\n",
      " [False]\n",
      " [ True]]\n",
      "4/4 [==============================] - 0s 4ms/step\n",
      "[[0.5       ]\n",
      " [0.79124594]\n",
      " [0.3650289 ]\n",
      " [0.685432  ]]\n"
     ]
    }
   ],
   "source": [
    "classes=model.predict_classes(X,verbose=1)\n",
    "print(classes)\n",
    "print(Y==classes)\n",
    "\n",
    "prob=model.predict_proba(X,verbose=1)\n",
    "print(prob)"
   ]
  },
  {
   "cell_type": "code",
   "execution_count": 8,
   "metadata": {},
   "outputs": [
    {
     "name": "stdout",
     "output_type": "stream",
     "text": [
      "4/4 [==============================] - 0s 49ms/step\n",
      "loss =  0.5781946182250977\n"
     ]
    }
   ],
   "source": [
    "loss = model.evaluate(X,Y,verbose=1)\n",
    "print('loss = ',loss)"
   ]
  },
  {
   "cell_type": "code",
   "execution_count": 9,
   "metadata": {},
   "outputs": [
    {
     "name": "stdout",
     "output_type": "stream",
     "text": [
      "Epoch 1/100\n",
      "4/4 [==============================] - 0s 67ms/step - loss: 0.5782\n",
      "Epoch 2/100\n",
      "4/4 [==============================] - 0s 0us/step - loss: 0.5683\n",
      "Epoch 3/100\n",
      "4/4 [==============================] - 0s 500us/step - loss: 0.5590\n",
      "Epoch 4/100\n",
      "4/4 [==============================] - 0s 3ms/step - loss: 0.5502\n",
      "Epoch 5/100\n",
      "4/4 [==============================] - 0s 1ms/step - loss: 0.5419\n",
      "Epoch 6/100\n",
      "4/4 [==============================] - 0s 500us/step - loss: 0.5340\n",
      "Epoch 7/100\n",
      "4/4 [==============================] - 0s 1ms/step - loss: 0.5266\n",
      "Epoch 8/100\n",
      "4/4 [==============================] - 0s 1000us/step - loss: 0.5196\n",
      "Epoch 9/100\n",
      "4/4 [==============================] - 0s 1000us/step - loss: 0.5129\n",
      "Epoch 10/100\n",
      "4/4 [==============================] - 0s 1ms/step - loss: 0.5066\n",
      "Epoch 11/100\n",
      "4/4 [==============================] - 0s 999us/step - loss: 0.5006\n",
      "Epoch 12/100\n",
      "4/4 [==============================] - 0s 1ms/step - loss: 0.4949\n",
      "Epoch 13/100\n",
      "4/4 [==============================] - 0s 750us/step - loss: 0.4895\n",
      "Epoch 14/100\n",
      "4/4 [==============================] - 0s 1000us/step - loss: 0.4843\n",
      "Epoch 15/100\n",
      "4/4 [==============================] - 0s 1000us/step - loss: 0.4794\n",
      "Epoch 16/100\n",
      "4/4 [==============================] - 0s 500us/step - loss: 0.4747\n",
      "Epoch 17/100\n",
      "4/4 [==============================] - 0s 749us/step - loss: 0.4702\n",
      "Epoch 18/100\n",
      "4/4 [==============================] - 0s 500us/step - loss: 0.4659\n",
      "Epoch 19/100\n",
      "4/4 [==============================] - 0s 1000us/step - loss: 0.4617\n",
      "Epoch 20/100\n",
      "4/4 [==============================] - 0s 750us/step - loss: 0.4578\n",
      "Epoch 21/100\n",
      "4/4 [==============================] - 0s 999us/step - loss: 0.4540\n",
      "Epoch 22/100\n",
      "4/4 [==============================] - 0s 1000us/step - loss: 0.4504\n",
      "Epoch 23/100\n",
      "4/4 [==============================] - 0s 750us/step - loss: 0.4469\n",
      "Epoch 24/100\n",
      "4/4 [==============================] - 0s 999us/step - loss: 0.4435\n",
      "Epoch 25/100\n",
      "4/4 [==============================] - 0s 750us/step - loss: 0.4403\n",
      "Epoch 26/100\n",
      "4/4 [==============================] - 0s 999us/step - loss: 0.4371\n",
      "Epoch 27/100\n",
      "4/4 [==============================] - 0s 1000us/step - loss: 0.4341\n",
      "Epoch 28/100\n",
      "4/4 [==============================] - 0s 999us/step - loss: 0.4312\n",
      "Epoch 29/100\n",
      "4/4 [==============================] - 0s 1000us/step - loss: 0.4284\n",
      "Epoch 30/100\n",
      "4/4 [==============================] - 0s 750us/step - loss: 0.4256\n",
      "Epoch 31/100\n",
      "4/4 [==============================] - 0s 1000us/step - loss: 0.4230\n",
      "Epoch 32/100\n",
      "4/4 [==============================] - 0s 1ms/step - loss: 0.4204\n",
      "Epoch 33/100\n",
      "4/4 [==============================] - 0s 500us/step - loss: 0.4180\n",
      "Epoch 34/100\n",
      "4/4 [==============================] - 0s 1ms/step - loss: 0.4156\n",
      "Epoch 35/100\n",
      "4/4 [==============================] - 0s 1000us/step - loss: 0.4132\n",
      "Epoch 36/100\n",
      "4/4 [==============================] - 0s 749us/step - loss: 0.4109\n",
      "Epoch 37/100\n",
      "4/4 [==============================] - 0s 500us/step - loss: 0.4087\n",
      "Epoch 38/100\n",
      "4/4 [==============================] - 0s 1ms/step - loss: 0.4066\n",
      "Epoch 39/100\n",
      "4/4 [==============================] - 0s 500us/step - loss: 0.4045\n",
      "Epoch 40/100\n",
      "4/4 [==============================] - 0s 999us/step - loss: 0.4024\n",
      "Epoch 41/100\n",
      "4/4 [==============================] - 0s 1ms/step - loss: 0.4004\n",
      "Epoch 42/100\n",
      "4/4 [==============================] - 0s 500us/step - loss: 0.3985\n",
      "Epoch 43/100\n",
      "4/4 [==============================] - 0s 999us/step - loss: 0.3966\n",
      "Epoch 44/100\n",
      "4/4 [==============================] - 0s 500us/step - loss: 0.3947\n",
      "Epoch 45/100\n",
      "4/4 [==============================] - 0s 1000us/step - loss: 0.3929\n",
      "Epoch 46/100\n",
      "4/4 [==============================] - 0s 750us/step - loss: 0.3911\n",
      "Epoch 47/100\n",
      "4/4 [==============================] - 0s 1000us/step - loss: 0.3893\n",
      "Epoch 48/100\n",
      "4/4 [==============================] - 0s 500us/step - loss: 0.3876\n",
      "Epoch 49/100\n",
      "4/4 [==============================] - 0s 1000us/step - loss: 0.3860\n",
      "Epoch 50/100\n",
      "4/4 [==============================] - 0s 500us/step - loss: 0.3843\n",
      "Epoch 51/100\n",
      "4/4 [==============================] - 0s 1000us/step - loss: 0.3827\n",
      "Epoch 52/100\n",
      "4/4 [==============================] - 0s 1ms/step - loss: 0.3811\n",
      "Epoch 53/100\n",
      "4/4 [==============================] - 0s 1ms/step - loss: 0.3796\n",
      "Epoch 54/100\n",
      "4/4 [==============================] - 0s 749us/step - loss: 0.3780\n",
      "Epoch 55/100\n",
      "4/4 [==============================] - 0s 500us/step - loss: 0.3765\n",
      "Epoch 56/100\n",
      "4/4 [==============================] - 0s 1ms/step - loss: 0.3750\n",
      "Epoch 57/100\n",
      "4/4 [==============================] - 0s 500us/step - loss: 0.3736\n",
      "Epoch 58/100\n",
      "4/4 [==============================] - 0s 1000us/step - loss: 0.3722\n",
      "Epoch 59/100\n",
      "4/4 [==============================] - 0s 999us/step - loss: 0.3707\n",
      "Epoch 60/100\n",
      "4/4 [==============================] - 0s 1000us/step - loss: 0.3693\n",
      "Epoch 61/100\n",
      "4/4 [==============================] - 0s 999us/step - loss: 0.3680\n",
      "Epoch 62/100\n",
      "4/4 [==============================] - 0s 999us/step - loss: 0.3666\n",
      "Epoch 63/100\n",
      "4/4 [==============================] - 0s 1000us/step - loss: 0.3653\n",
      "Epoch 64/100\n",
      "4/4 [==============================] - 0s 750us/step - loss: 0.3640\n",
      "Epoch 65/100\n",
      "4/4 [==============================] - 0s 750us/step - loss: 0.3627\n",
      "Epoch 66/100\n",
      "4/4 [==============================] - 0s 1000us/step - loss: 0.3614\n",
      "Epoch 67/100\n",
      "4/4 [==============================] - 0s 1ms/step - loss: 0.3601\n",
      "Epoch 68/100\n",
      "4/4 [==============================] - 0s 500us/step - loss: 0.3589\n",
      "Epoch 69/100\n",
      "4/4 [==============================] - 0s 750us/step - loss: 0.3576\n",
      "Epoch 70/100\n",
      "4/4 [==============================] - 0s 999us/step - loss: 0.3564\n",
      "Epoch 71/100\n",
      "4/4 [==============================] - 0s 750us/step - loss: 0.3552\n",
      "Epoch 72/100\n",
      "4/4 [==============================] - 0s 750us/step - loss: 0.3540\n",
      "Epoch 73/100\n",
      "4/4 [==============================] - 0s 999us/step - loss: 0.3528\n",
      "Epoch 74/100\n",
      "4/4 [==============================] - 0s 749us/step - loss: 0.3517\n",
      "Epoch 75/100\n",
      "4/4 [==============================] - 0s 500us/step - loss: 0.3505\n",
      "Epoch 76/100\n",
      "4/4 [==============================] - 0s 1ms/step - loss: 0.3494\n",
      "Epoch 77/100\n",
      "4/4 [==============================] - 0s 500us/step - loss: 0.3482\n",
      "Epoch 78/100\n",
      "4/4 [==============================] - 0s 1ms/step - loss: 0.3471\n",
      "Epoch 79/100\n",
      "4/4 [==============================] - 0s 1000us/step - loss: 0.3460\n",
      "Epoch 80/100\n",
      "4/4 [==============================] - 0s 750us/step - loss: 0.3449\n",
      "Epoch 81/100\n",
      "4/4 [==============================] - 0s 999us/step - loss: 0.3438\n",
      "Epoch 82/100\n",
      "4/4 [==============================] - 0s 1000us/step - loss: 0.3427\n",
      "Epoch 83/100\n",
      "4/4 [==============================] - 0s 1000us/step - loss: 0.3417\n",
      "Epoch 84/100\n",
      "4/4 [==============================] - 0s 999us/step - loss: 0.3406\n",
      "Epoch 85/100\n",
      "4/4 [==============================] - 0s 500us/step - loss: 0.3395\n",
      "Epoch 86/100\n",
      "4/4 [==============================] - 0s 1000us/step - loss: 0.3385\n",
      "Epoch 87/100\n",
      "4/4 [==============================] - 0s 2ms/step - loss: 0.3375\n",
      "Epoch 88/100\n",
      "4/4 [==============================] - 0s 999us/step - loss: 0.3364\n",
      "Epoch 89/100\n",
      "4/4 [==============================] - 0s 500us/step - loss: 0.3354\n",
      "Epoch 90/100\n",
      "4/4 [==============================] - 0s 1ms/step - loss: 0.3344\n",
      "Epoch 91/100\n",
      "4/4 [==============================] - 0s 1000us/step - loss: 0.3334\n",
      "Epoch 92/100\n",
      "4/4 [==============================] - 0s 1000us/step - loss: 0.3324\n",
      "Epoch 93/100\n",
      "4/4 [==============================] - 0s 1000us/step - loss: 0.3314\n",
      "Epoch 94/100\n",
      "4/4 [==============================] - 0s 999us/step - loss: 0.3304\n",
      "Epoch 95/100\n",
      "4/4 [==============================] - 0s 1000us/step - loss: 0.3295\n",
      "Epoch 96/100\n",
      "4/4 [==============================] - 0s 500us/step - loss: 0.3285\n",
      "Epoch 97/100\n",
      "4/4 [==============================] - 0s 999us/step - loss: 0.3276\n",
      "Epoch 98/100\n",
      "4/4 [==============================] - 0s 1000us/step - loss: 0.3266\n",
      "Epoch 99/100\n",
      "4/4 [==============================] - 0s 1000us/step - loss: 0.3257\n",
      "Epoch 100/100\n",
      "4/4 [==============================] - 0s 1000us/step - loss: 0.3247\n"
     ]
    },
    {
     "data": {
      "text/plain": [
       "<keras.callbacks.History at 0x291e96b9eb8>"
      ]
     },
     "execution_count": 9,
     "metadata": {},
     "output_type": "execute_result"
    }
   ],
   "source": [
    "model.fit(X,Y,epochs=100,verbose=1)"
   ]
  },
  {
   "cell_type": "code",
   "execution_count": 10,
   "metadata": {},
   "outputs": [
    {
     "name": "stdout",
     "output_type": "stream",
     "text": [
      "[[1]\n",
      " [1]\n",
      " [1]\n",
      " [1]] \n",
      " [[0.5521723 ]\n",
      " [0.89651316]\n",
      " [0.71989685]\n",
      " [0.9475275 ]] \n",
      " 0.32378390431404114\n"
     ]
    }
   ],
   "source": [
    "classes=model.predict_classes(X,verbose=0)\n",
    "prob=model.predict_proba(X,verbose=0)\n",
    "loss=model.evaluate(X,Y,verbose=0)\n",
    "print(classes,'\\n',prob,'\\n',loss)"
   ]
  },
  {
   "cell_type": "code",
   "execution_count": 11,
   "metadata": {},
   "outputs": [
    {
     "name": "stdout",
     "output_type": "stream",
     "text": [
      "_________________________________________________________________\n",
      "Layer (type)                 Output Shape              Param #   \n",
      "=================================================================\n",
      "dense_2 (Dense)              (None, 1)                 3         \n",
      "_________________________________________________________________\n",
      "activation_2 (Activation)    (None, 1)                 0         \n",
      "=================================================================\n",
      "Total params: 3\n",
      "Trainable params: 3\n",
      "Non-trainable params: 0\n",
      "_________________________________________________________________\n"
     ]
    }
   ],
   "source": [
    "model=Sequential()\n",
    "model.add(Dense(input_dim=2, units=1))\n",
    "model.add(Activation('sigmoid'))\n",
    "model.summary()"
   ]
  },
  {
   "cell_type": "code",
   "execution_count": 12,
   "metadata": {},
   "outputs": [],
   "source": [
    "model.compile(loss='binary_crossentropy',optimizer=SGD(lr=0.1))"
   ]
  },
  {
   "cell_type": "code",
   "execution_count": 13,
   "metadata": {},
   "outputs": [],
   "source": [
    "hist=model.fit(X,Y,epochs=1000,verbose=0)"
   ]
  },
  {
   "cell_type": "code",
   "execution_count": 14,
   "metadata": {},
   "outputs": [
    {
     "name": "stdout",
     "output_type": "stream",
     "text": [
      "4/4 [==============================] - 0s 10ms/step\n",
      "4/4 [==============================] - 0s 500us/step\n",
      "4/4 [==============================] - 0s 18ms/step\n",
      "[[0]\n",
      " [1]\n",
      " [1]\n",
      " [1]] \n",
      " [[0.19072193]\n",
      " [0.9268539 ]\n",
      " [0.9252775 ]\n",
      " [0.99850035]] \n",
      " 0.09168361127376556\n"
     ]
    }
   ],
   "source": [
    "classes=model.predict_classes(X,verbose=1)\n",
    "prob=model.predict_proba(X,verbose=1)\n",
    "loss=model.evaluate(X,Y,verbose=1)\n",
    "print(classes,'\\n',prob,'\\n',loss)"
   ]
  },
  {
   "cell_type": "code",
   "execution_count": 15,
   "metadata": {},
   "outputs": [
    {
     "name": "stdout",
     "output_type": "stream",
     "text": [
      "dict_keys(['loss'])\n"
     ]
    }
   ],
   "source": [
    "print(hist.history.keys())"
   ]
  },
  {
   "cell_type": "code",
   "execution_count": 16,
   "metadata": {},
   "outputs": [
    {
     "name": "stdout",
     "output_type": "stream",
     "text": [
      "[0.83319509 0.80636895 0.78147042 0.75837338 0.73695385 0.71709144\n",
      " 0.69867063 0.6815815  0.66572028 0.65098923 0.63729763 0.62456048\n",
      " 0.61269975 0.60164315 0.59132427 0.58168209 0.57266092 0.56420934\n",
      " 0.55628085 0.54883289 0.54182625 0.53522569 0.52899867 0.52311575\n",
      " 0.51754975 0.51227635 0.50727284 0.50251889 0.49799559 0.49368593\n",
      " 0.4895741  0.4856458  0.48188785 0.47828814 0.47483569 0.47152025\n",
      " 0.46833253 0.46526378 0.46230614 0.45945239 0.45669574 0.45403004\n",
      " 0.45144945 0.44894877 0.44652295 0.44416752 0.44187832 0.43965143\n",
      " 0.43748313 0.43537027 0.43330938 0.43129784 0.42933282 0.42741188\n",
      " 0.42553264 0.42369276 0.42189044 0.42012364 0.41839054 0.41668952\n",
      " 0.41501898 0.41337752 0.41176373 0.41017634 0.40861416 0.40707606\n",
      " 0.40556091 0.40406781 0.4025957  0.40114388 0.39971125 0.39829725\n",
      " 0.39690113 0.39552215 0.39415956 0.39281291 0.39148149 0.39016485\n",
      " 0.38886231 0.3875736  0.38629809 0.38503537 0.38378507 0.38254675\n",
      " 0.38132006 0.38010466 0.37890008 0.37770617 0.3765226  0.37534893\n",
      " 0.37418514 0.37303072 0.37188554 0.37074941 0.36962199 0.36850315\n",
      " 0.3673926  0.36629021 0.36519587 0.36410922 0.36303025 0.36195868\n",
      " 0.36089444 0.35983741 0.3587873  0.3577441  0.35670763 0.35567772\n",
      " 0.3546544  0.35363746 0.3526268  0.35162216 0.35062373 0.34963119\n",
      " 0.34864455 0.3476637  0.34668854 0.34571898 0.34475499 0.34379637\n",
      " 0.34284317 0.34189531 0.34095258 0.34001511 0.33908272 0.33815533\n",
      " 0.33723292 0.33631542 0.33540282 0.33449501 0.33359188 0.33269346\n",
      " 0.33179975 0.33091056 0.33002597 0.32914579 0.32827014 0.32739887\n",
      " 0.32653189 0.32566935 0.32481101 0.32395691 0.32310709 0.32226133\n",
      " 0.32141975 0.32058227 0.31974876 0.3189193  0.3180939  0.31727237\n",
      " 0.31645471 0.31564108 0.3148312  0.3140251  0.31322291 0.31242433\n",
      " 0.31162959 0.31083855 0.31005114 0.3092674  0.30848727 0.30771077\n",
      " 0.30693781 0.30616844 0.30540246 0.30464005 0.30388111 0.30312559\n",
      " 0.3023735  0.30162477 0.30087945 0.30013746 0.29939878 0.29866341\n",
      " 0.29793131 0.2972025  0.29647687 0.29575455 0.29503533 0.29431933\n",
      " 0.2936064  0.29289669 0.29219013 0.29148656 0.29078609 0.29008865\n",
      " 0.28939426 0.28870296 0.28801453 0.28732914 0.28664675 0.28596717\n",
      " 0.28529066 0.28461698 0.28394616 0.2832782  0.28261316 0.28195092\n",
      " 0.28129148 0.28063488 0.27998105 0.27932999 0.27868158 0.27803597\n",
      " 0.2773931  0.27675289 0.27611536 0.27548057 0.27484843 0.2742188\n",
      " 0.27359188 0.27296758 0.27234587 0.2717267  0.27111006 0.27049607\n",
      " 0.2698845  0.26927546 0.26866901 0.26806498 0.26746345 0.26686439\n",
      " 0.26626772 0.26567352 0.2650817  0.2644923  0.26390526 0.26332062\n",
      " 0.26273844 0.26215851 0.26158091 0.26100564 0.26043269 0.25986201\n",
      " 0.25929368 0.25872755 0.25816372 0.2576021  0.25704277 0.25648561\n",
      " 0.25593066 0.25537789 0.25482732 0.25427893 0.25373274 0.25318864\n",
      " 0.25264665 0.25210685 0.25156909 0.25103351 0.25049999 0.24996853\n",
      " 0.24943915 0.2489118  0.2483865  0.24786323 0.24734202 0.24682282\n",
      " 0.24630553 0.2457903  0.24527705 0.2447658  0.24425642 0.24374902\n",
      " 0.24324356 0.24274002 0.24223837 0.24173871 0.24124081 0.24074489\n",
      " 0.24025081 0.23975864 0.23926824 0.23877974 0.23829308 0.2378082\n",
      " 0.23732515 0.23684391 0.23636445 0.23588684 0.2354109  0.23493679\n",
      " 0.23446445 0.23399383 0.23352493 0.23305781 0.2325924  0.23212868\n",
      " 0.23166667 0.23120631 0.23074767 0.23029073 0.22983547 0.2293818\n",
      " 0.22892986 0.22847949 0.22803077 0.22758369 0.22713821 0.22669435\n",
      " 0.22625209 0.22581139 0.22537231 0.22493485 0.22449888 0.2240645\n",
      " 0.22363168 0.22320032 0.2227705  0.22234227 0.22191562 0.22149037\n",
      " 0.22106673 0.22064447 0.22022375 0.21980454 0.21938679 0.21897045\n",
      " 0.21855564 0.21814227 0.21773033 0.2173198  0.21691072 0.21650302\n",
      " 0.21609679 0.21569201 0.21528852 0.21488649 0.21448585 0.21408656\n",
      " 0.21368866 0.21329215 0.21289697 0.21250317 0.21211067 0.21171956\n",
      " 0.21132976 0.2109413  0.21055414 0.21016829 0.20978376 0.20940052\n",
      " 0.20901862 0.20863795 0.20825861 0.20788054 0.20750369 0.20712812\n",
      " 0.20675382 0.20638078 0.20600899 0.20563839 0.20526907 0.20490098\n",
      " 0.2045341  0.20416844 0.20380396 0.20344076 0.20307866 0.20271784\n",
      " 0.20235816 0.20199966 0.20164239 0.20128617 0.20093119 0.20057738\n",
      " 0.20022471 0.19987321 0.19952279 0.19917355 0.19882546 0.19847849\n",
      " 0.1981326  0.19778781 0.19744422 0.19710168 0.19676021 0.19641989\n",
      " 0.19608068 0.19574252 0.19540544 0.1950694  0.19473453 0.19440067\n",
      " 0.19406782 0.19373608 0.19340542 0.19307575 0.19274713 0.19241954\n",
      " 0.192093   0.1917675  0.19144303 0.19111949 0.190797   0.19047555\n",
      " 0.19015512 0.18983567 0.18951723 0.18919972 0.1888832  0.18856776\n",
      " 0.18825321 0.18793964 0.18762703 0.1873154  0.18700475 0.18669501\n",
      " 0.18638626 0.18607846 0.18577157 0.18546563 0.18516067 0.18485659\n",
      " 0.18455343 0.18425119 0.18394993 0.18364954 0.18335007 0.1830515\n",
      " 0.18275382 0.18245703 0.18216115 0.1818662  0.18157205 0.18127882\n",
      " 0.18098649 0.180695   0.18040442 0.18011469 0.17982578 0.17953776\n",
      " 0.17925064 0.17896435 0.1786789  0.17839426 0.17811048 0.1778276\n",
      " 0.17754546 0.17726421 0.17698371 0.17670411 0.17642532 0.17614731\n",
      " 0.17587014 0.17559379 0.17531824 0.17504349 0.17476955 0.17449641\n",
      " 0.17422402 0.17395246 0.17368165 0.17341164 0.17314242 0.17287394\n",
      " 0.17260623 0.17233932 0.17207316 0.17180783 0.17154318 0.1712793\n",
      " 0.17101619 0.17075381 0.17049217 0.17023134 0.1699712  0.16971178\n",
      " 0.16945316 0.1691952  0.16893801 0.16868153 0.1684258  0.16817072\n",
      " 0.16791645 0.16766283 0.16740991 0.16715775 0.16690633 0.16665548\n",
      " 0.16640545 0.16615602 0.16590735 0.16565937 0.16541204 0.16516545\n",
      " 0.16491945 0.16467422 0.16442963 0.16418573 0.16394249 0.16369995\n",
      " 0.16345805 0.16321684 0.16297624 0.1627363  0.1624971  0.16225846\n",
      " 0.1620205  0.1617832  0.16154656 0.16131055 0.16107515 0.16084041\n",
      " 0.16060632 0.16037285 0.16013998 0.1599078  0.15967619 0.15944527\n",
      " 0.1592149  0.15898517 0.15875605 0.1585276  0.15829971 0.15807241\n",
      " 0.15784578 0.15761966 0.15739426 0.15716934 0.15694506 0.15672144\n",
      " 0.15649827 0.15627587 0.15605393 0.15583262 0.15561189 0.15539175\n",
      " 0.1551722  0.15495318 0.15473473 0.15451691 0.15429962 0.15408289\n",
      " 0.15386674 0.15365116 0.15343615 0.1532217  0.15300778 0.15279445\n",
      " 0.15258166 0.15236939 0.15215772 0.15194654 0.15173595 0.15152588\n",
      " 0.15131637 0.15110736 0.15089893 0.15069105 0.15048365 0.15027681\n",
      " 0.15007046 0.14986467 0.14965943 0.1494547  0.14925051 0.14904678\n",
      " 0.14884359 0.1486409  0.14843871 0.14823711 0.14803597 0.1478353\n",
      " 0.14763521 0.14743555 0.14723644 0.14703786 0.14683971 0.14664212\n",
      " 0.14644498 0.14624834 0.14605218 0.14585653 0.14566134 0.14546667\n",
      " 0.14527246 0.14507878 0.14488553 0.14469278 0.14450052 0.14430872\n",
      " 0.14411736 0.1439265  0.14373612 0.14354619 0.14335679 0.14316778\n",
      " 0.14297923 0.14279118 0.14260358 0.14241643 0.14222974 0.1420435\n",
      " 0.14185776 0.14167245 0.14148758 0.14130312 0.14111918 0.14093563\n",
      " 0.14075255 0.1405699  0.14038773 0.14020596 0.14002466 0.13984375\n",
      " 0.13966328 0.13948329 0.13930374 0.13912457 0.13894586 0.13876751\n",
      " 0.13858968 0.13841224 0.13823521 0.13805857 0.13788244 0.13770667\n",
      " 0.13753134 0.13735643 0.13718191 0.1370078  0.13683413 0.13666086\n",
      " 0.13648799 0.13631549 0.13614345 0.13597178 0.13580053 0.13562974\n",
      " 0.13545924 0.13528922 0.13511956 0.13495028 0.13478142 0.13461298\n",
      " 0.13444492 0.13427722 0.13410997 0.13394308 0.13377655 0.13361046\n",
      " 0.1334447  0.13327932 0.13311435 0.13294974 0.13278553 0.13262169\n",
      " 0.13245827 0.13229516 0.13213243 0.13197008 0.13180812 0.1316465\n",
      " 0.13148531 0.13132446 0.13116397 0.13100386 0.13084406 0.13068466\n",
      " 0.13052562 0.13036695 0.13020863 0.13005067 0.12989309 0.12973584\n",
      " 0.12957893 0.1294224  0.12926623 0.12911041 0.12895495 0.12879983\n",
      " 0.12864506 0.12849058 0.12833647 0.12818274 0.12802936 0.12787631\n",
      " 0.12772356 0.12757123 0.12741916 0.12726751 0.1271161  0.12696511\n",
      " 0.12681444 0.12666407 0.12651402 0.12636432 0.12621498 0.12606594\n",
      " 0.12591726 0.12576887 0.1256208  0.12547311 0.12532569 0.12517865\n",
      " 0.12503187 0.12488544 0.12473936 0.12459356 0.12444808 0.12430289\n",
      " 0.12415804 0.12401351 0.12386929 0.12372543 0.12358187 0.12343857\n",
      " 0.1232956  0.12315294 0.12301062 0.12286858 0.12272683 0.1225854\n",
      " 0.12244427 0.12230346 0.12216296 0.12202273 0.1218828  0.12174319\n",
      " 0.1216039  0.12146489 0.12132613 0.12118774 0.12104956 0.12091178\n",
      " 0.12077421 0.12063696 0.12050002 0.12036332 0.12022698 0.12009087\n",
      " 0.11995508 0.1198196  0.11968432 0.11954938 0.11941473 0.11928035\n",
      " 0.11914627 0.11901249 0.11887893 0.11874569 0.11861272 0.11848004\n",
      " 0.1183476  0.11821549 0.11808363 0.11795206 0.11782074 0.11768968\n",
      " 0.1175589  0.1174284  0.11729822 0.11716825 0.11703859 0.11690918\n",
      " 0.11678001 0.11665111 0.11652254 0.11639419 0.11626608 0.11613826\n",
      " 0.11601071 0.11588344 0.11575638 0.11562961 0.11550314 0.11537687\n",
      " 0.11525087 0.11512513 0.11499967 0.11487444 0.11474944 0.11462477\n",
      " 0.11450027 0.11437605 0.11425209 0.11412845 0.11400492 0.11388175\n",
      " 0.11375883 0.1136361  0.11351363 0.11339144 0.11326945 0.11314774\n",
      " 0.11302628 0.11290505 0.11278404 0.11266334 0.11254277 0.11242256\n",
      " 0.11230254 0.11218276 0.11206324 0.11194395 0.11182487 0.11170603\n",
      " 0.11158746 0.11146907 0.111351   0.11123308 0.11111546 0.11099801\n",
      " 0.11088081 0.11076391 0.11064715 0.11053065 0.1104144  0.1102984\n",
      " 0.11018258 0.11006703 0.10995167 0.10983656 0.10972167 0.10960699\n",
      " 0.10949248 0.10937829 0.10926428 0.10915052 0.109037   0.10892364\n",
      " 0.10881053 0.10869768 0.10858499 0.10847253 0.10836029 0.10824831\n",
      " 0.10813646 0.1080249  0.10791354 0.1078024  0.10769147 0.10758072\n",
      " 0.10747024 0.10735995 0.10724984 0.10714    0.10703031 0.10692089\n",
      " 0.10681166 0.1067026  0.10659382 0.10648517 0.10637677 0.10626858\n",
      " 0.10616061 0.10605279 0.10594521 0.10583784 0.10573067 0.10562371\n",
      " 0.10551694 0.10541037 0.10530404 0.10519786 0.10509194 0.10498615\n",
      " 0.10488061 0.10477525 0.10467008 0.10456514 0.10446039 0.10435579\n",
      " 0.10425143 0.10414725 0.10404329 0.10393952 0.10383593 0.10373254\n",
      " 0.10362932 0.10352629 0.10342354 0.10332088 0.10321847 0.10311618\n",
      " 0.10301415 0.10291231 0.10281064 0.10270914 0.10260789 0.10250674\n",
      " 0.10240587 0.10230505 0.10220453 0.10210417 0.10200401 0.10190398\n",
      " 0.1018042  0.10170458 0.10160512 0.10150587 0.10140678 0.10130791\n",
      " 0.10120918 0.10111065 0.10101226 0.10091414 0.10081613 0.10071833\n",
      " 0.10062066 0.10052324 0.10042595 0.10032885 0.10023192 0.10013512\n",
      " 0.10003859 0.09994219 0.09984601 0.09974989 0.09965402 0.09955831\n",
      " 0.09946281 0.09936744 0.09927225 0.09917724 0.09908243 0.09898773\n",
      " 0.09889328 0.0987989  0.09870473 0.09861077 0.09851693 0.09842324\n",
      " 0.09832977 0.09823646 0.09814331 0.09805031 0.09795748 0.09786481\n",
      " 0.09777233 0.09767997 0.09758784 0.09749584 0.097404   0.09731232\n",
      " 0.09722081 0.09712945 0.0970382  0.09694725 0.09685637 0.09676565\n",
      " 0.09667511 0.09658469 0.09649446 0.09640443 0.09631452 0.09622476\n",
      " 0.09613515 0.09604573 0.09595643 0.09586731 0.09577833 0.09568952\n",
      " 0.0956009  0.09551235 0.09542398 0.0953358  0.09524774 0.0951599\n",
      " 0.09507215 0.09498455 0.09489711 0.09480981 0.0947227  0.09463575\n",
      " 0.0945489  0.09446223 0.09437568 0.09428929 0.09420307 0.09411701\n",
      " 0.09403104 0.09394528 0.09385962 0.09377415 0.09368881 0.09360358\n",
      " 0.09351854 0.09343365 0.0933489  0.09326425 0.09317982 0.09309547\n",
      " 0.0930113  0.09292722 0.09284335 0.0927596  0.09267594 0.09259252\n",
      " 0.09250921 0.092426   0.09234296 0.09226003 0.0921773  0.09209467\n",
      " 0.09201217 0.09192985 0.09184764 0.09176557]\n"
     ]
    },
    {
     "name": "stdout",
     "output_type": "stream",
     "text": [
      "(1000,)\n"
     ]
    }
   ],
   "source": [
    "hist_loss=np.array(hist.history['loss'])\n",
    "print(hist_loss)\n",
    "print(hist_loss.shape)"
   ]
  },
  {
   "cell_type": "code",
   "execution_count": 17,
   "metadata": {},
   "outputs": [
    {
     "data": {
      "image/png": "[encoded data removed]",
      "text/plain": [
       "<Figure size 432x288 with 1 Axes>"
      ]
     },
     "metadata": {},
     "output_type": "display_data"
    }
   ],
   "source": [
    "plt.plot(hist_loss)\n",
    "plt.xlabel('number of epochs')\n",
    "plt.ylabel('loss')\n",
    "plt.show()"
   ]
  },
  {
   "cell_type": "code",
   "execution_count": 18,
   "metadata": {},
   "outputs": [],
   "source": [
    "#XOR\n",
    "X=np.array([[0,0],[0,1],[1,0],[1,1]])\n",
    "Y=np.array([[0],[1],[1],[0]])"
   ]
  },
  {
   "cell_type": "code",
   "execution_count": 19,
   "metadata": {},
   "outputs": [],
   "source": [
    "in_dim=2\n",
    "out_dim=1\n",
    "hid_dim=2"
   ]
  },
  {
   "cell_type": "code",
   "execution_count": 20,
   "metadata": {},
   "outputs": [
    {
     "name": "stdout",
     "output_type": "stream",
     "text": [
      "_________________________________________________________________\n",
      "Layer (type)                 Output Shape              Param #   \n",
      "=================================================================\n",
      "dense_3 (Dense)              (None, 2)                 6         \n",
      "_________________________________________________________________\n",
      "dense_4 (Dense)              (None, 1)                 3         \n",
      "=================================================================\n",
      "Total params: 9\n",
      "Trainable params: 9\n",
      "Non-trainable params: 0\n",
      "_________________________________________________________________\n"
     ]
    }
   ],
   "source": [
    "model=Sequential()\n",
    "model.add(Dense(input_dim=in_dim, units=hid_dim, activation='sigmoid'))\n",
    "model.add(Dense(units=out_dim, activation='sigmoid'))\n",
    "\n",
    "model.summary()"
   ]
  },
  {
   "cell_type": "code",
   "execution_count": 21,
   "metadata": {},
   "outputs": [],
   "source": [
    "lr=0.1\n",
    "model.compile(loss='binary_crossentropy',optimizer=SGD(lr))"
   ]
  },
  {
   "cell_type": "code",
   "execution_count": 22,
   "metadata": {},
   "outputs": [],
   "source": [
    "n_epochs=20000\n",
    "hist=model.fit(X,Y,epochs=n_epochs, verbose=0)"
   ]
  },
  {
   "cell_type": "code",
   "execution_count": 23,
   "metadata": {},
   "outputs": [
    {
     "name": "stdout",
     "output_type": "stream",
     "text": [
      "4/4 [==============================] - 0s 17ms/step\n",
      "4/4 [==============================] - 0s 0us/step\n",
      "4/4 [==============================] - 0s 27ms/step\n",
      "[[0]\n",
      " [1]\n",
      " [1]\n",
      " [0]] \n",
      " [[0.00492919]\n",
      " [0.99359703]\n",
      " [0.9936034 ]\n",
      " [0.00563669]] \n",
      " 0.005858678370714188\n"
     ]
    }
   ],
   "source": [
    "classes=model.predict_classes(X, verbose=1)\n",
    "prob=model.predict_proba(X,verbose=1)\n",
    "loss=model.evaluate(X,Y,verbose=1)\n",
    "print(classes,'\\n',prob,'\\n',loss)"
   ]
  },
  {
   "cell_type": "code",
   "execution_count": 24,
   "metadata": {},
   "outputs": [
    {
     "name": "stdout",
     "output_type": "stream",
     "text": [
      "dict_keys(['loss'])\n"
     ]
    }
   ],
   "source": [
    "print(hist.history.keys())"
   ]
  },
  {
   "cell_type": "code",
   "execution_count": 25,
   "metadata": {},
   "outputs": [
    {
     "data": {
      "image/png": "[encoded data removed]",
      "text/plain": [
       "<Figure size 432x288 with 1 Axes>"
      ]
     },
     "metadata": {},
     "output_type": "display_data"
    }
   ],
   "source": [
    "hist_loss=np.array(hist.history['loss'])\n",
    "plt.plot(hist_loss)\n",
    "plt.xlabel('number of epochs')\n",
    "plt.ylabel('loss')\n",
    "plt.show()"
   ]
  },
  {
   "cell_type": "code",
   "execution_count": 26,
   "metadata": {},
   "outputs": [],
   "source": [
    "#IRIS DATA, 이건 존나 어렵다 시발"
   ]
  },
  {
   "cell_type": "code",
   "execution_count": 27,
   "metadata": {},
   "outputs": [],
   "source": [
    "from sklearn.datasets import load_iris\n",
    "from sklearn.model_selection import train_test_split"
   ]
  },
  {
   "cell_type": "code",
   "execution_count": 29,
   "metadata": {},
   "outputs": [],
   "source": [
    "iris=load_iris()\n",
    "\n",
    "x=iris.data\n",
    "y=iris.target\n",
    "target_names=iris.target_names"
   ]
  },
  {
   "cell_type": "code",
   "execution_count": 30,
   "metadata": {},
   "outputs": [],
   "source": [
    "X_train,X_test,y_train,y_test=train_test_split(x,y,random_state=21,test_size=0.25)"
   ]
  },
  {
   "cell_type": "code",
   "execution_count": 32,
   "metadata": {},
   "outputs": [],
   "source": [
    "Y_train=np.eye(3)[y_train].astype(int)\n",
    "Y_test=np.eye(3)[y_test].astype(int)"
   ]
  },
  {
   "cell_type": "code",
   "execution_count": 58,
   "metadata": {},
   "outputs": [],
   "source": [
    "Sequential?"
   ]
  },
  {
   "cell_type": "code",
   "execution_count": 33,
   "metadata": {},
   "outputs": [
    {
     "name": "stdout",
     "output_type": "stream",
     "text": [
      "_________________________________________________________________\n",
      "Layer (type)                 Output Shape              Param #   \n",
      "=================================================================\n",
      "dense_5 (Dense)              (None, 12)                60        \n",
      "_________________________________________________________________\n",
      "activation_3 (Activation)    (None, 12)                0         \n",
      "_________________________________________________________________\n",
      "dense_6 (Dense)              (None, 3)                 39        \n",
      "_________________________________________________________________\n",
      "activation_4 (Activation)    (None, 3)                 0         \n",
      "=================================================================\n",
      "Total params: 99\n",
      "Trainable params: 99\n",
      "Non-trainable params: 0\n",
      "_________________________________________________________________\n"
     ]
    }
   ],
   "source": [
    "#modelling\n",
    "in_dim=4\n",
    "out_dim=3\n",
    "h_dim=12\n",
    "\n",
    "model=Sequential()\n",
    "model.add(Dense(input_dim=in_dim, units=h_dim))\n",
    "model.add(Activation('sigmoid'))\n",
    "model.add(Dense(input_dim=h_dim, units=out_dim))\n",
    "model.add(Activation('softmax'))\n",
    "model.summary()"
   ]
  },
  {
   "cell_type": "code",
   "execution_count": 44,
   "metadata": {},
   "outputs": [],
   "source": [
    "lrate=0.1\n",
    "\n",
    "model.compile(loss='categorical_crossentropy', optimizer=SGD(lrate), metrics=['accuracy'])"
   ]
  },
  {
   "cell_type": "code",
   "execution_count": 45,
   "metadata": {},
   "outputs": [],
   "source": [
    "n_epoch=1000\n",
    "hist=model.fit(X_train,Y_train,epochs=n_epoch, verbose=0)"
   ]
  },
  {
   "cell_type": "code",
   "execution_count": 46,
   "metadata": {},
   "outputs": [
    {
     "name": "stdout",
     "output_type": "stream",
     "text": [
      "dict_keys(['loss', 'acc'])\n",
      "{'loss': [0.02495774207636714, 0.026979868433305194, 0.035289851549480646, 0.02910528890788555, 0.033635699356506975, 0.022895307413169315, 0.030299322147454535, 0.026546501155410494, 0.022590835445693562, 0.026819367161286727, 0.02480198349803686, 0.024047861274863993, 0.021996870636940002, 0.024423149547406604, 0.021431271652025834, 0.027130293792911937, 0.022617679621492113, 0.032812416553497314, 0.034427372738718987, 0.04106267528342349, 0.020973764626043185, 0.029476969369820187, 0.026603820800249065, 0.022244288186941828, 0.030686677433550358, 0.023780699287142073, 0.02734361562345709, 0.024069556700331823, 0.027766861686749116, 0.026833276197846447, 0.02188366704753467, 0.030172182380088737, 0.025832741920437132, 0.02533431673821594, 0.022764417741979872, 0.02614537222377424, 0.024778724515012333, 0.02551077552405851, 0.028375284613243172, 0.021697845309972763, 0.03578180606876101, 0.022126494773796627, 0.022002622884299074, 0.022452273106734668, 0.022496460803917477, 0.028458686279399053, 0.028514467445867404, 0.020833694775189673, 0.026849060718502318, 0.023293594563645974, 0.05357302552355187, 0.023790125069873675, 0.022503277552979335, 0.02184470303888832, 0.02193708744432245, 0.026197824460853423, 0.024332330163036073, 0.023536892541285073, 0.02511487781469311, 0.02883593019630228, 0.024465912354311774, 0.02577452840549605, 0.03593257788036551, 0.020877069693857005, 0.02203667350113392, 0.024189540717218603, 0.02319064164268119, 0.031140322464385202, 0.027546392221535956, 0.025736906698771884, 0.03242713512320604, 0.02338681456499866, 0.02144959189796022, 0.0231549149113042, 0.031325408656682284, 0.022594846785068512, 0.027468090810413872, 0.02456909803939717, 0.02339297639472144, 0.024831449879067286, 0.023814270805035318, 0.022910502473158494, 0.04082925883787019, 0.024536498423133577, 0.027520028076001575, 0.023779422976076603, 0.02288959494658879, 0.03679169631297035, 0.028936548557664667, 0.027752733656338284, 0.028170890773513486, 0.02514588530175388, 0.025508013886532614, 0.021109499669234668, 0.02117279770651034, 0.022583559421556338, 0.03201265769478466, 0.021611886098980904, 0.02943134547344276, 0.03097962574767215, 0.0232018203075443, 0.023423347821725265, 0.02408825872199876, 0.03354084624775818, 0.024947873183659146, 0.024121324864349196, 0.021370244678109884, 0.023274961227018918, 0.0256563379828419, 0.022874641232192516, 0.020376527681946754, 0.022471929900348186, 0.026842189420546805, 0.020722548876489912, 0.026568225851016387, 0.03128964986119952, 0.025877385267189572, 0.02146522102079221, 0.03139718262744801, 0.024376864478524243, 0.024726514837571552, 0.02374208758452109, 0.02275622290159975, 0.022459814058882848, 0.0261679579104696, 0.023751482300992523, 0.029084010315792903, 0.03490480930278344, 0.029052243834095343, 0.023022170577730452, 0.021529467111187323, 0.023783656768500805, 0.022384284928973232, 0.021428854138191258, 0.02457305250157203, 0.030335479149860994, 0.035633196655128686, 0.023020071908831596, 0.02982251944818667, 0.02975808390017067, 0.02142697838800294, 0.027732013558436717, 0.026082527690700123, 0.023336445380534445, 0.021253188273736408, 0.030961812606879642, 0.02508824584739549, 0.029737314209342003, 0.02143133055817868, 0.02384742721915245, 0.029464938810893467, 0.02065613679587841, 0.03177759317415101, 0.040843763488477895, 0.02361913557563509, 0.021059048495122364, 0.026783109243427004, 0.030452130628483638, 0.02404214920742171, 0.034688837959298065, 0.025833901150950363, 0.034118764102458954, 0.023714964144996235, 0.021655744340802942, 0.02672503941825458, 0.021867276834590093, 0.02245680721742766, 0.028099288498716696, 0.024945621777858053, 0.02075300658387797, 0.023529124313167164, 0.021741868928074837, 0.03460390506578343, 0.020470927602478435, 0.024692549237183163, 0.04248240324003356, 0.02489275485277176, 0.022149839405236498, 0.022345483036977903, 0.023127348561372076, 0.026135794153170928, 0.027810113770621165, 0.020892749673553875, 0.02556178080184119, 0.02947453755353178, 0.021376611398799077, 0.03063346678391099, 0.02175466583243438, 0.020341480816049234, 0.02417124142604215, 0.020818779644157206, 0.022242637484201362, 0.023631030128204396, 0.03147083866809096, 0.037635695189237595, 0.024230978252100095, 0.03436110937036574, 0.03219844858228628, 0.022556582000106573, 0.02019092926223363, 0.02356080644364868, 0.02261589713660734, 0.02560996317437717, 0.02279727570047336, 0.02021394151129893, 0.019918442703783512, 0.023102428631058762, 0.02796719130128622, 0.027358401799574494, 0.021096011490694115, 0.03342192353946822, 0.02309612530682768, 0.020705113653093576, 0.028443088355873312, 0.02195309421845845, 0.02648045016186578, 0.031391912938228676, 0.022944509850016663, 0.030294384408210005, 0.020648593648469875, 0.020921747931944474, 0.02520511352590152, 0.023170704620757272, 0.02204402828855174, 0.031617302381034405, 0.024507555312344005, 0.02175959219623889, 0.0222186166793108, 0.026674988413495675, 0.02265359803901187, 0.02295234945735761, 0.022818601291094507, 0.025446143400456225, 0.036696169791477065, 0.02250250748225621, 0.023230293965233222, 0.020462265238165855, 0.026038723665156534, 0.025778363325766156, 0.021257959173194, 0.02215326045240675, 0.027097809527601515, 0.02197465074381658, 0.03407086485198566, 0.022847391166059033, 0.020290964549141272, 0.02458809901561056, 0.02943696653736489, 0.01978225021490029, 0.01967631496622094, 0.023868959862738848, 0.026425474855516638, 0.023939740311886584, 0.020628338746194328, 0.024237999127113392, 0.02246610221586057, 0.020664522158248082, 0.022304206820470945, 0.020146579880799566, 0.026981881154435023, 0.020911594719759057, 0.02153150531064187, 0.026983573234507015, 0.028548062779009342, 0.027492990318153585, 0.02982096773173128, 0.019601063137607917, 0.022536589364920343, 0.020246684684285095, 0.02039395478953208, 0.027216259789253985, 0.05267109375979219, 0.02006920107773372, 0.02428019672100033, 0.022935135423072746, 0.030869417424712862, 0.024360081447022303, 0.026172356014805182, 0.020028434826859405, 0.020094677340239286, 0.02361762403909649, 0.023935600616303936, 0.03385172704500811, 0.03152661704059158, 0.041581334080547094, 0.01988009356760553, 0.02319818508944341, 0.02520675305277109, 0.025140257818358287, 0.020257846718387946, 0.02140836397718106, 0.024072401292089905, 0.024257308404360498, 0.02207528693335397, 0.019974282277481898, 0.027136849904698983, 0.03713347323771034, 0.024094938300549984, 0.02159631159156561, 0.024351002648472786, 0.028685022877263173, 0.02489834787723209, 0.019370529717499658, 0.023192012549511025, 0.021222800016403198, 0.020237633426274573, 0.020308463302041804, 0.02287766896188259, 0.023008515127003193, 0.025202101795002818, 0.03181913322103875, 0.023713064014113376, 0.020893157659364597, 0.019783159451825277, 0.026214462305818285, 0.03419874568602869, 0.027145570809287683, 0.02199096229326512, 0.021620810347875313, 0.0200475508879338, 0.023574188883815492, 0.02264663404119866, 0.02720555636499609, 0.027950623205729892, 0.03010588704741427, 0.0246757481779371, 0.047816422900983264, 0.019290654620687877, 0.02574024728632399, 0.02225796745291778, 0.020687463028090342, 0.026790235856814042, 0.02048727830073663, 0.024009319820574353, 0.02217750158160925, 0.03768260737082788, 0.05135410772969148, 0.019539057543235167, 0.025965342664026787, 0.021696187821882113, 0.02010432058679206, 0.023818942119500468, 0.02377702821312206, 0.0198871839259352, 0.021260983609993542, 0.024169250391423702, 0.02741669517542635, 0.03069167391264013, 0.02602061482944659, 0.03236430164958749, 0.02419873739459685, 0.022430190749998604, 0.025754216526235853, 0.020084614300036004, 0.019615829240397682, 0.020368720837203518, 0.020455160244767154, 0.021524452870445594, 0.02046933371041502, 0.022225637454539537, 0.032908471301198006, 0.024885643373376558, 0.03191356294389282, 0.019331883639097214, 0.01951659337750503, 0.02648539362209184, 0.02404940584009247, 0.026028437273842946, 0.024414300386394774, 0.024989055735724314, 0.021800089560981308, 0.02009706531784364, 0.0229829555111272, 0.01944350198443447, 0.021741085020559176, 0.02370485443887966, 0.02249254153243133, 0.023373119266969816, 0.020528884338481084, 0.021546946589036713, 0.02539973533047097, 0.021434183731409057, 0.023008471687457392, 0.02510685646640403, 0.023475689846756204, 0.027600406303203533, 0.020930375504706587, 0.01966660868908678, 0.020639429800212383, 0.02241965596164976, 0.024737294164619276, 0.0262508892587253, 0.02321549877524376, 0.021278799045830965, 0.026752786577812264, 0.029862357835684503, 0.022757855110934803, 0.02301365609413811, 0.022963096786822592, 0.023493466632706777, 0.02580678941948073, 0.021203726463552033, 0.021222568516220366, 0.023767313520823206, 0.03206855817032712, 0.02284825992371355, 0.036126805802008936, 0.02132630261725613, 0.0223576229597841, 0.0207736681082419, 0.027311774902045727, 0.023835383355617523, 0.03258330361651523, 0.03211831876875034, 0.02626961037250502, 0.0218667533315186, 0.02209239193637456, 0.026601142649139677, 0.02395056963099965, 0.028167630412748883, 0.02214968337544373, 0.027355008891650608, 0.022654220727937564, 0.020845834747888148, 0.01933509616979531, 0.02166244966377105, 0.019161956418039545, 0.022225259936281612, 0.01889286968590958, 0.024830495971920236, 0.02134008226650102, 0.025527519639581442, 0.029597814061811993, 0.02685292504195656, 0.0226488234475255, 0.020523292677743093, 0.02321456213082586, 0.027711100344147, 0.021999230342251912, 0.02177699881472758, 0.023358470727024332, 0.024748306455356733, 0.02127295340012227, 0.021479254056300436, 0.021658423955419233, 0.02324712515941688, 0.020137339497783353, 0.019651258497365882, 0.023889550540064062, 0.022921770328788886, 0.019710994458624294, 0.02447978952633483, 0.026411500626376698, 0.02381188316004617, 0.023353075741657188, 0.02776928121290569, 0.027233810829264776, 0.019499483651348522, 0.020640711167028973, 0.019183618681771413, 0.020841651995267187, 0.028501195051441237, 0.023784088336729577, 0.0224042468305145, 0.021628938349229947, 0.0221586496170078, 0.02565266378223896, 0.03414843337876456, 0.021627513957875117, 0.024504116736352444, 0.0187450661989195, 0.018687439018062184, 0.03221074890877519, 0.021192502097359726, 0.03666978728558336, 0.020415496014590775, 0.01951610004263265, 0.023119600223643438, 0.025225254041807994, 0.022427049931138754, 0.018957360913710936, 0.027258812050734247, 0.023217861939753805, 0.02352516645831721, 0.02436856323453997, 0.023768388400120393, 0.01928201743534633, 0.023195110527532443, 0.030578108238322393, 0.022269607854208777, 0.02097907808742353, 0.020353360933118632, 0.020550482773355076, 0.020026251507390822, 0.0186730275994965, 0.025403701384285732, 0.020693385042250156, 0.030086804580475603, 0.01988700151975666, 0.019941544559385096, 0.021221779819045748, 0.020118070766329765, 0.026242054799305543, 0.021039287692734172, 0.023154820980770246, 0.02349414536729455, 0.018755066873771802, 0.02160028082185558, 0.024983157869428396, 0.024822354183665345, 0.019704563543200493, 0.02072524478925126, 0.0266495586505958, 0.02147217800042459, 0.028666572645306587, 0.01916584305997406, 0.019417941171143736, 0.021078405768743584, 0.019861804753808037, 0.02160094685054251, 0.019140739792159626, 0.02171236981770822, 0.0338513869792223, 0.02187963149377278, 0.0222415386566094, 0.01836539206228086, 0.019011345109902322, 0.019728764359440123, 0.023766575647251948, 0.020138482929074338, 0.020043044816702604, 0.019170327644262995, 0.02418765578685062, 0.0197476090730301, 0.02711267676204443, 0.024641965915049826, 0.020428168254771402, 0.021768672691125954, 0.024227481401924576, 0.028796351115618433, 0.01913046357887132, 0.03220435032354934, 0.019196676422974894, 0.021967305668762753, 0.022982660814055374, 0.0218313763450299, 0.018548108770378997, 0.025693272040890797, 0.020186443280960833, 0.021275660023093224, 0.027899167899574553, 0.020076919214001725, 0.024441277807844535, 0.05728484424097197, 0.03370150285107749, 0.02166572319609778, 0.02177204281490828, 0.020237606284873828, 0.018882347536938533, 0.019553392194211483, 0.025644722627475858, 0.02081919993673052, 0.02155505006001996, 0.021985252520867755, 0.03208145672189338, 0.021406171045133045, 0.03199943337988641, 0.02460375684313476, 0.022863829641469886, 0.02136756679309266, 0.023995851299592426, 0.0380329023381429, 0.01845166366547346, 0.027304588351398706, 0.019150496028097614, 0.018603555725089142, 0.0207676962018013, 0.027557092885087644, 0.020590796135365963, 0.018337719408529147, 0.01887980263148035, 0.022091884964278767, 0.026022701989859343, 0.02042972535959312, 0.018496700346336832, 0.019773011494960104, 0.026236442316855704, 0.022948300815187395, 0.02084498466657741, 0.019416054178561484, 0.027508139410721406, 0.02150736190378666, 0.03285954842743065, 0.03903872559645346, 0.018601498566567898, 0.02185464690306357, 0.020034479243414744, 0.02251306176185608, 0.02238217930841659, 0.022153131663799286, 0.026969819362940534, 0.02052211089591895, 0.022095959101404463, 0.03145416386957679, 0.021012749772385826, 0.023832432393516814, 0.020531454572587142, 0.01831427539166595, 0.018501044949516654, 0.02429607723440443, 0.025555542570405772, 0.0184939364636583, 0.018010710632162436, 0.021461176087281535, 0.025495485070028474, 0.02271076017392001, 0.020912390002714738, 0.01900585281795689, 0.02505147783085704, 0.029559636488556862, 0.029028551852596656, 0.022456648094313487, 0.02438264074070113, 0.028029947940792357, 0.027311976832736815, 0.022524088754185607, 0.031912557947050245, 0.03162226553208062, 0.02023158169218472, 0.01911445407729064, 0.02024049804146801, 0.02731727130178894, 0.04095390984522445, 0.019377559955630983, 0.019417818768748214, 0.020795856303136264, 0.02080905730170863, 0.0445799446564966, 0.022237750302468027, 0.02196729396070753, 0.02724004114445831, 0.020113510744912282, 0.020639521202870777, 0.025934635794588497, 0.03888540342450142, 0.019511380532224263, 0.025856485590338707, 0.024121408483811786, 0.019911093105162894, 0.018402486008458903, 0.019322811858728528, 0.019520272301243886, 0.019833811026598726, 0.017928337478744134, 0.02222911188645022, 0.020670875441282988, 0.020983201318553517, 0.02260541350447706, 0.018473709534321512, 0.024169181739645346, 0.022503625601530075, 0.03624617148722921, 0.017906343431345055, 0.024769377695130452, 0.028859872637050494, 0.01936058234423399, 0.020396680172000612, 0.029817081588719572, 0.018622669324811016, 0.030487765757633106, 0.019747539423406124, 0.02750459749118558, 0.018616988456674984, 0.02067180792801082, 0.01823634441409792, 0.025222285384578363, 0.018012025260499546, 0.020604442738528763, 0.021309370690557574, 0.018942480773798058, 0.028583277282970294, 0.02451728510537318, 0.02563180767797998, 0.024448158219456673, 0.022011838454220976, 0.020973623331104006, 0.02178751045305814, 0.01930899598768779, 0.018528122255312546, 0.01806861148881061, 0.02797911169805697, 0.019850969248052155, 0.02746974028247808, 0.02091473693560277, 0.02018068328366748, 0.018720418347844055, 0.01999469700136355, 0.021608542118753706, 0.026862123315887793, 0.020446579537487457, 0.022754420526325703, 0.028112939558923244, 0.01883514504879713, 0.024692475629438247, 0.022012002233948027, 0.02901863998600415, 0.023184662285659994, 0.04140781744250229, 0.02633535406286163, 0.023962588581655706, 0.022087775337110673, 0.01979678516675319, 0.020843637292273343, 0.018469557897853, 0.019297328112380847, 0.021034157036670616, 0.021705317310988903, 0.020035247185400555, 0.02715018527981426, 0.021101083739527633, 0.019215372257999012, 0.018089254120630876, 0.022387690842151642, 0.024953955252255713, 0.028381491346018656, 0.025052016201828207, 0.018722398805298975, 0.021111395808735063, 0.018632816882537945, 0.019113298239452497, 0.021994210180959532, 0.025340624885367497, 0.02119437269201236, 0.019121959672442505, 0.024067331371562823, 0.018642706463911703, 0.018061324272171726, 0.022832238314939395, 0.029809430707246065, 0.022524415216009532, 0.02556741357381855, 0.017788535250084742, 0.019442070541637286, 0.019780443316059455, 0.026030614706022397, 0.020500463699655875, 0.02382252924144268, 0.01935884928596871, 0.023177922437233583, 0.022624201008251736, 0.026096914961401905, 0.022889588294284686, 0.018372667421187674, 0.02557571465149522, 0.017725637581731592, 0.01901127926872245, 0.024467097329241887, 0.018315508163401058, 0.020106001308054795, 0.019254621184830154, 0.01940712652036122, 0.02697966686849083, 0.02356530849023589, 0.02224551701718675, 0.020114734220052406, 0.0217105538717338, 0.024263389209019288, 0.024995622358151844, 0.020432319774824594, 0.018167109860639487, 0.021992175174610957, 0.021837696166975156, 0.029734941848021532, 0.020718486846557686, 0.01830864484821047, 0.021039682107844522, 0.021876385003062233, 0.027092645410448313, 0.03470405550407512, 0.027266783373696462, 0.01822099116231714, 0.023908366316131184, 0.027126530218603357, 0.021114901772567203, 0.02158244459756783, 0.01765829650685191, 0.02133671028007354, 0.026024586787181243, 0.028498497791588306, 0.022162724885025194, 0.020401918262775456, 0.025415165815502405, 0.020087862270884216, 0.020387943501451185, 0.022787375508674552, 0.023652943383370127, 0.020617929819439138, 0.029366762044706514, 0.02209322859666177, 0.01829118507781199, 0.021190506738743613, 0.02279996339763914, 0.019745657752667154, 0.017586005718580315, 0.020923583103077754, 0.025464661685483798, 0.017529631732031703, 0.024099263229540417, 0.020399477665445635, 0.026654625976724283, 0.02102554481410022, 0.02249347185716033, 0.022524494478212937, 0.024813669600657055, 0.021417371263461455, 0.024594436466161693, 0.021842150882418667, 0.01853116841188499, 0.019429718277284076, 0.023063025237726315, 0.02153421477747283, 0.026176424430949346, 0.02310170472732612, 0.023837980149047717, 0.01873561500438622, 0.021581004772867476, 0.02340439168204154, 0.01967769435473851, 0.019830879821841205, 0.027933332437117184, 0.023922345734068325, 0.024919840640255382, 0.03806258884391615, 0.018710303785545484, 0.02621970571843641, 0.02150749694555998, 0.017297205415421298, 0.023093067375676974, 0.028089280539591397, 0.02039384948355811, 0.03021644674507635, 0.024705305762056793, 0.02280425892344543, 0.02035929126265858, 0.023438822278486832, 0.020710859447717667, 0.023353431639926776, 0.024290878758100525, 0.0316535910325391, 0.020603696948715618, 0.017395799713475362, 0.02103202204619135, 0.02867591946518847, 0.030087854114494154, 0.025148278634463037, 0.028935479233041406, 0.019417460641956756, 0.019233760557004383, 0.019227156149489538, 0.01885846709566457, 0.027015764798436846, 0.04476914079194622, 0.020902977724160467, 0.02987786934577993, 0.025878754311374257, 0.02493343229538628, 0.02141042266573225, 0.05713950177388532, 0.029983557893761566, 0.021185182833245823, 0.02167659000094448, 0.019830950402787755, 0.018979530216061642, 0.0187206951668486, 0.01908264003161873, 0.0203226066660136, 0.018335526010819843, 0.019675340303885087, 0.024455813424927846, 0.018030363800270215, 0.01830582307385547, 0.019915202499500344, 0.023294180099453245, 0.020785130294305936, 0.03049172115113054, 0.025971978902816772, 0.050630667845585516, 0.02148291016263621, 0.01696030200192971, 0.026978157593735626, 0.01993479227115001, 0.026767162340027944, 0.019331947567739656, 0.020051749024008, 0.023253341005848988, 0.019351255680833544, 0.019779704910303866, 0.02215860863881452, 0.016908497183716724, 0.018963056483439038, 0.036688596243038774, 0.018617549245910987, 0.01725712767802179, 0.01706083571272237, 0.037516260419839194, 0.02528295133795057, 0.01999371645173856, 0.016899957986814634, 0.018753295930634652, 0.0374233444620456, 0.020991528938923563, 0.03081929131544062, 0.025142602755555084, 0.018218263185450008, 0.023747841162340983, 0.022247977953936373, 0.02089251604463373, 0.016868053802422116, 0.026467736012169292, 0.018729464949241707, 0.019952863421557204, 0.02346933726221323, 0.03827048372477293, 0.026748163093413626, 0.026050221707139696, 0.030865842809102366, 0.01944149937480688, 0.01932239401087697, 0.019822389419589723, 0.023013240907208195, 0.022818270272442272, 0.023829654324799776, 0.021805110121411935, 0.04343680079494204, 0.018619383552244732, 0.01922748896426388, 0.020611237626456256, 0.025883315031283667, 0.02051492521007146, 0.02423480020037719, 0.021310292849583284, 0.027679373377135823, 0.04876539097832782, 0.022520149126648903, 0.017193509598395655, 0.018668883879269873, 0.02080648618617228, 0.01949533397730972, 0.0229206728482885, 0.017941213212907314, 0.020747654838487506, 0.024166870529630353, 0.020465563716632978, 0.02478772428418909, 0.020768323647124425, 0.01707487433616604, 0.02442186126219375, 0.025036779066015567, 0.018350325657853057, 0.026136670228359953, 0.01760167774877378, 0.019714123303336755, 0.034037131774571856, 0.032023667224815915, 0.017919102417571203, 0.021500064858368466, 0.029939248426152126, 0.018393090859587704, 0.023906522929402336, 0.02232577252600874, 0.018089829478412867, 0.01801797774221216, 0.020478289241769483, 0.01752238075381943, 0.02070694084146193, 0.020135810332638875, 0.017772390972822905, 0.019809874032424495, 0.02257516421377659, 0.025547861520733153, 0.0198596689983138, 0.017601079972726957, 0.017043980403936336, 0.016856875204082047, 0.0205189778602549, 0.0254875443642959, 0.01659029013743358, 0.018535993195005825, 0.01969368157110044, 0.021474258774625405, 0.04091922340116331, 0.04724238220868366, 0.02193143681090857, 0.01861226186156273, 0.0226479937721576, 0.02028165099077991, 0.017019162686275586, 0.017125214649630443, 0.018689605806555067, 0.02586371637880802], 'acc': [0.9910714285714286, 0.9910714285714286, 0.9821428571428571, 0.9821428571428571, 0.9910714285714286, 0.9910714285714286, 0.9910714285714286, 0.9910714285714286, 0.9910714285714286, 0.9910714285714286, 0.9910714285714286, 0.9910714285714286, 1.0, 0.9910714285714286, 1.0, 0.9910714285714286, 0.9910714285714286, 0.9732142857142857, 0.9821428571428571, 0.9821428571428571, 1.0, 0.9910714285714286, 0.9910714285714286, 0.9910714285714286, 0.9821428571428571, 0.9821428571428571, 0.9821428571428571, 0.9910714285714286, 0.9910714285714286, 0.9910714285714286, 0.9910714285714286, 0.9821428571428571, 0.9910714285714286, 0.9821428571428571, 0.9910714285714286, 0.9910714285714286, 0.9910714285714286, 0.9910714285714286, 0.9910714285714286, 1.0, 0.9821428571428571, 0.9910714285714286, 0.9910714285714286, 0.9910714285714286, 0.9821428571428571, 1.0, 0.9910714285714286, 0.9910714285714286, 0.9910714285714286, 0.9910714285714286, 0.9642857142857143, 0.9910714285714286, 0.9910714285714286, 1.0, 0.9910714285714286, 0.9910714285714286, 0.9821428571428571, 0.9910714285714286, 0.9910714285714286, 0.9821428571428571, 0.9910714285714286, 0.9910714285714286, 0.9821428571428571, 1.0, 0.9910714285714286, 0.9821428571428571, 0.9910714285714286, 0.9821428571428571, 0.9910714285714286, 0.9910714285714286, 0.9821428571428571, 1.0, 1.0, 1.0, 0.9821428571428571, 1.0, 0.9910714285714286, 0.9910714285714286, 0.9910714285714286, 0.9910714285714286, 0.9910714285714286, 0.9910714285714286, 0.9821428571428571, 1.0, 0.9910714285714286, 0.9910714285714286, 0.9910714285714286, 0.9821428571428571, 0.9910714285714286, 0.9821428571428571, 0.9821428571428571, 0.9910714285714286, 0.9910714285714286, 0.9910714285714286, 0.9910714285714286, 0.9910714285714286, 0.9821428571428571, 0.9910714285714286, 0.9910714285714286, 0.9910714285714286, 0.9910714285714286, 0.9910714285714286, 0.9910714285714286, 0.9732142857142857, 0.9910714285714286, 0.9910714285714286, 1.0, 0.9910714285714286, 1.0, 1.0, 0.9910714285714286, 0.9910714285714286, 0.9910714285714286, 1.0, 0.9910714285714286, 0.9910714285714286, 0.9821428571428571, 0.9910714285714286, 0.9821428571428571, 0.9910714285714286, 0.9910714285714286, 0.9910714285714286, 0.9910714285714286, 0.9910714285714286, 0.9910714285714286, 0.9910714285714286, 0.9910714285714286, 0.9821428571428571, 0.9821428571428571, 0.9910714285714286, 0.9910714285714286, 0.9910714285714286, 0.9910714285714286, 1.0, 0.9821428571428571, 0.9821428571428571, 0.9821428571428571, 0.9910714285714286, 0.9821428571428571, 0.9821428571428571, 1.0, 0.9910714285714286, 0.9821428571428571, 0.9910714285714286, 1.0, 0.9732142857142857, 0.9910714285714286, 0.9821428571428571, 0.9910714285714286, 0.9910714285714286, 0.9910714285714286, 1.0, 0.9821428571428571, 0.9821428571428571, 0.9910714285714286, 0.9910714285714286, 0.9821428571428571, 0.9821428571428571, 0.9910714285714286, 0.9732142857142857, 0.9910714285714286, 0.9732142857142857, 0.9910714285714286, 0.9910714285714286, 0.9910714285714286, 0.9910714285714286, 0.9910714285714286, 0.9821428571428571, 0.9821428571428571, 0.9910714285714286, 1.0, 0.9910714285714286, 0.9821428571428571, 1.0, 0.9910714285714286, 0.9732142857142857, 0.9821428571428571, 0.9821428571428571, 0.9910714285714286, 0.9910714285714286, 1.0, 0.9910714285714286, 0.9910714285714286, 0.9910714285714286, 0.9910714285714286, 1.0, 0.9910714285714286, 0.9910714285714286, 0.9910714285714286, 0.9910714285714286, 1.0, 0.9910714285714286, 1.0, 0.9821428571428571, 0.9821428571428571, 0.9910714285714286, 0.9910714285714286, 0.9910714285714286, 0.9910714285714286, 0.9910714285714286, 0.9910714285714286, 0.9910714285714286, 0.9910714285714286, 0.9910714285714286, 1.0, 1.0, 0.9910714285714286, 0.9910714285714286, 0.9821428571428571, 1.0, 0.9910714285714286, 0.9910714285714286, 0.9910714285714286, 0.9910714285714286, 0.9910714285714286, 0.9821428571428571, 0.9821428571428571, 1.0, 0.9821428571428571, 0.9910714285714286, 1.0, 0.9910714285714286, 0.9821428571428571, 0.9910714285714286, 0.9910714285714286, 0.9821428571428571, 0.9910714285714286, 1.0, 0.9821428571428571, 0.9910714285714286, 0.9910714285714286, 0.9910714285714286, 0.9910714285714286, 0.9732142857142857, 0.9910714285714286, 0.9910714285714286, 1.0, 0.9910714285714286, 0.9910714285714286, 0.9910714285714286, 0.9910714285714286, 0.9821428571428571, 0.9910714285714286, 0.9821428571428571, 0.9910714285714286, 1.0, 0.9910714285714286, 0.9910714285714286, 1.0, 1.0, 0.9910714285714286, 0.9821428571428571, 0.9910714285714286, 0.9910714285714286, 0.9910714285714286, 0.9910714285714286, 1.0, 0.9910714285714286, 1.0, 0.9910714285714286, 0.9910714285714286, 0.9910714285714286, 0.9821428571428571, 0.9821428571428571, 0.9821428571428571, 0.9821428571428571, 0.9910714285714286, 1.0, 0.9910714285714286, 0.9910714285714286, 0.9910714285714286, 0.9821428571428571, 1.0, 0.9821428571428571, 0.9910714285714286, 0.9910714285714286, 0.9821428571428571, 0.9910714285714286, 1.0, 1.0, 0.9910714285714286, 0.9910714285714286, 0.9821428571428571, 0.9821428571428571, 0.9821428571428571, 1.0, 0.9821428571428571, 0.9910714285714286, 0.9910714285714286, 0.9910714285714286, 0.9910714285714286, 0.9910714285714286, 0.9910714285714286, 1.0, 1.0, 0.9910714285714286, 0.9821428571428571, 0.9910714285714286, 1.0, 0.9910714285714286, 0.9910714285714286, 0.9910714285714286, 1.0, 0.9910714285714286, 0.9910714285714286, 0.9910714285714286, 0.9910714285714286, 0.9910714285714286, 0.9910714285714286, 0.9910714285714286, 0.9821428571428571, 0.9821428571428571, 0.9910714285714286, 1.0, 0.9910714285714286, 0.9910714285714286, 0.9910714285714286, 0.9910714285714286, 1.0, 1.0, 0.9910714285714286, 0.9821428571428571, 0.9910714285714286, 0.9821428571428571, 0.9910714285714286, 0.9910714285714286, 0.9821428571428571, 1.0, 0.9910714285714286, 0.9910714285714286, 0.9910714285714286, 0.9910714285714286, 0.9910714285714286, 0.9910714285714286, 0.9910714285714286, 0.9821428571428571, 0.9821428571428571, 0.9910714285714286, 0.9910714285714286, 1.0, 1.0, 0.9910714285714286, 0.9910714285714286, 0.9910714285714286, 1.0, 0.9910714285714286, 0.9821428571428571, 0.9821428571428571, 0.9821428571428571, 0.9910714285714286, 0.9910714285714286, 1.0, 0.9910714285714286, 0.9910714285714286, 0.9910714285714286, 1.0, 1.0, 0.9910714285714286, 0.9910714285714286, 1.0, 0.9821428571428571, 0.9910714285714286, 0.9821428571428571, 0.9910714285714286, 1.0, 0.9910714285714286, 0.9821428571428571, 0.9821428571428571, 0.9910714285714286, 0.9821428571428571, 0.9821428571428571, 1.0, 0.9910714285714286, 1.0, 1.0, 0.9910714285714286, 0.9910714285714286, 0.9910714285714286, 0.9910714285714286, 0.9910714285714286, 0.9910714285714286, 0.9910714285714286, 0.9821428571428571, 0.9821428571428571, 0.9910714285714286, 0.9821428571428571, 0.9910714285714286, 1.0, 1.0, 0.9821428571428571, 0.9910714285714286, 0.9910714285714286, 0.9910714285714286, 0.9910714285714286, 0.9821428571428571, 0.9910714285714286, 0.9821428571428571, 0.9910714285714286, 0.9910714285714286, 1.0, 0.9910714285714286, 1.0, 0.9910714285714286, 0.9910714285714286, 0.9821428571428571, 0.9910714285714286, 0.9821428571428571, 0.9910714285714286, 0.9910714285714286, 1.0, 0.9910714285714286, 0.9910714285714286, 0.9910714285714286, 0.9821428571428571, 0.9821428571428571, 0.9910714285714286, 0.9821428571428571, 0.9910714285714286, 0.9910714285714286, 0.9821428571428571, 0.9910714285714286, 0.9910714285714286, 0.9910714285714286, 0.9910714285714286, 0.9910714285714286, 0.9910714285714286, 0.9910714285714286, 0.9910714285714286, 1.0, 0.9910714285714286, 0.9910714285714286, 0.9821428571428571, 0.9821428571428571, 0.9910714285714286, 0.9821428571428571, 0.9910714285714286, 0.9910714285714286, 0.9821428571428571, 1.0, 1.0, 0.9910714285714286, 0.9910714285714286, 1.0, 0.9910714285714286, 0.9821428571428571, 0.9910714285714286, 0.9910714285714286, 0.9910714285714286, 0.9910714285714286, 0.9910714285714286, 1.0, 0.9821428571428571, 0.9821428571428571, 0.9910714285714286, 0.9821428571428571, 0.9910714285714286, 0.9910714285714286, 1.0, 0.9910714285714286, 0.9910714285714286, 0.9910714285714286, 0.9821428571428571, 0.9910714285714286, 0.9821428571428571, 1.0, 0.9910714285714286, 0.9910714285714286, 0.9910714285714286, 0.9910714285714286, 0.9910714285714286, 1.0, 0.9910714285714286, 0.9821428571428571, 0.9910714285714286, 0.9910714285714286, 0.9910714285714286, 1.0, 0.9910714285714286, 0.9821428571428571, 0.9910714285714286, 1.0, 0.9821428571428571, 0.9910714285714286, 0.9910714285714286, 0.9910714285714286, 0.9910714285714286, 0.9910714285714286, 0.9910714285714286, 0.9821428571428571, 0.9910714285714286, 0.9910714285714286, 0.9910714285714286, 1.0, 0.9910714285714286, 1.0, 0.9910714285714286, 0.9910714285714286, 0.9910714285714286, 1.0, 1.0, 0.9821428571428571, 0.9910714285714286, 0.9910714285714286, 0.9910714285714286, 0.9910714285714286, 0.9910714285714286, 1.0, 0.9821428571428571, 0.9910714285714286, 0.9910714285714286, 0.9910714285714286, 0.9910714285714286, 1.0, 0.9910714285714286, 0.9910714285714286, 0.9910714285714286, 1.0, 0.9910714285714286, 1.0, 0.9910714285714286, 1.0, 0.9910714285714286, 0.9821428571428571, 1.0, 0.9910714285714286, 0.9910714285714286, 0.9910714285714286, 0.9910714285714286, 0.9910714285714286, 0.9910714285714286, 0.9910714285714286, 0.9910714285714286, 0.9910714285714286, 1.0, 0.9910714285714286, 1.0, 1.0, 0.9910714285714286, 0.9910714285714286, 0.9821428571428571, 1.0, 0.9910714285714286, 0.9910714285714286, 0.9910714285714286, 0.9910714285714286, 0.9910714285714286, 1.0, 0.9910714285714286, 1.0, 0.9910714285714286, 0.9910714285714286, 0.9910714285714286, 0.9910714285714286, 0.9821428571428571, 0.9821428571428571, 0.9910714285714286, 0.9910714285714286, 0.9910714285714286, 0.9910714285714286, 1.0, 0.9910714285714286, 1.0, 0.9910714285714286, 0.9910714285714286, 0.9821428571428571, 1.0, 0.9732142857142857, 0.9821428571428571, 0.9910714285714286, 0.9910714285714286, 0.9910714285714286, 0.9821428571428571, 1.0, 0.9910714285714286, 1.0, 0.9910714285714286, 1.0, 0.9821428571428571, 0.9910714285714286, 0.9910714285714286, 1.0, 0.9821428571428571, 0.9910714285714286, 0.9910714285714286, 1.0, 1.0, 0.9910714285714286, 0.9821428571428571, 1.0, 1.0, 0.9821428571428571, 1.0, 0.9821428571428571, 0.9910714285714286, 1.0, 0.9910714285714286, 1.0, 0.9910714285714286, 0.9821428571428571, 1.0, 0.9910714285714286, 0.9910714285714286, 0.9910714285714286, 0.9821428571428571, 0.9910714285714286, 0.9910714285714286, 0.9910714285714286, 1.0, 0.9910714285714286, 0.9910714285714286, 0.9910714285714286, 1.0, 1.0, 0.9910714285714286, 0.9910714285714286, 0.9910714285714286, 0.9910714285714286, 1.0, 0.9910714285714286, 0.9821428571428571, 0.9821428571428571, 0.9821428571428571, 1.0, 0.9821428571428571, 0.9821428571428571, 0.9910714285714286, 0.9821428571428571, 0.9821428571428571, 1.0, 1.0, 0.9910714285714286, 0.9821428571428571, 0.9821428571428571, 0.9910714285714286, 0.9910714285714286, 0.9910714285714286, 0.9910714285714286, 0.9732142857142857, 0.9910714285714286, 0.9910714285714286, 0.9910714285714286, 0.9910714285714286, 1.0, 0.9821428571428571, 0.9910714285714286, 1.0, 0.9821428571428571, 0.9910714285714286, 0.9910714285714286, 1.0, 1.0, 0.9910714285714286, 0.9910714285714286, 1.0, 0.9821428571428571, 0.9910714285714286, 0.9910714285714286, 0.9910714285714286, 1.0, 0.9910714285714286, 0.9910714285714286, 0.9821428571428571, 0.9910714285714286, 0.9910714285714286, 0.9821428571428571, 0.9910714285714286, 0.9910714285714286, 0.9821428571428571, 0.9910714285714286, 0.9821428571428571, 0.9910714285714286, 0.9821428571428571, 1.0, 0.9910714285714286, 1.0, 0.9821428571428571, 0.9910714285714286, 0.9910714285714286, 0.9821428571428571, 1.0, 0.9821428571428571, 0.9910714285714286, 0.9821428571428571, 0.9910714285714286, 0.9910714285714286, 0.9910714285714286, 0.9910714285714286, 0.9910714285714286, 1.0, 1.0, 0.9821428571428571, 0.9910714285714286, 0.9910714285714286, 0.9910714285714286, 0.9910714285714286, 1.0, 0.9910714285714286, 0.9910714285714286, 0.9910714285714286, 0.9910714285714286, 0.9910714285714286, 0.9910714285714286, 0.9910714285714286, 0.9910714285714286, 1.0, 0.9910714285714286, 0.9910714285714286, 0.9910714285714286, 0.9910714285714286, 0.9910714285714286, 0.9910714285714286, 1.0, 0.9910714285714286, 1.0, 1.0, 0.9821428571428571, 0.9910714285714286, 1.0, 0.9910714285714286, 0.9821428571428571, 1.0, 1.0, 0.9910714285714286, 0.9910714285714286, 0.9910714285714286, 0.9910714285714286, 1.0, 0.9821428571428571, 0.9910714285714286, 1.0, 1.0, 0.9821428571428571, 0.9910714285714286, 1.0, 0.9910714285714286, 1.0, 0.9910714285714286, 0.9910714285714286, 0.9821428571428571, 1.0, 0.9910714285714286, 0.9910714285714286, 0.9910714285714286, 1.0, 0.9821428571428571, 0.9910714285714286, 0.9910714285714286, 1.0, 0.9821428571428571, 0.9910714285714286, 0.9821428571428571, 0.9910714285714286, 1.0, 0.9910714285714286, 1.0, 0.9910714285714286, 0.9821428571428571, 0.9910714285714286, 0.9910714285714286, 1.0, 1.0, 0.9821428571428571, 0.9821428571428571, 0.9910714285714286, 0.9910714285714286, 0.9910714285714286, 0.9821428571428571, 0.9910714285714286, 0.9910714285714286, 1.0, 0.9910714285714286, 0.9821428571428571, 0.9821428571428571, 0.9910714285714286, 1.0, 0.9910714285714286, 0.9910714285714286, 0.9910714285714286, 0.9821428571428571, 0.9910714285714286, 0.9910714285714286, 0.9821428571428571, 0.9910714285714286, 0.9910714285714286, 0.9910714285714286, 1.0, 0.9910714285714286, 0.9910714285714286, 0.9821428571428571, 0.9910714285714286, 0.9910714285714286, 0.9821428571428571, 0.9910714285714286, 0.9910714285714286, 0.9821428571428571, 0.9910714285714286, 0.9910714285714286, 0.9821428571428571, 0.9910714285714286, 1.0, 0.9910714285714286, 0.9821428571428571, 0.9910714285714286, 0.9910714285714286, 0.9910714285714286, 0.9821428571428571, 0.9910714285714286, 0.9910714285714286, 0.9910714285714286, 0.9821428571428571, 0.9910714285714286, 0.9910714285714286, 0.9910714285714286, 0.9821428571428571, 0.9910714285714286, 0.9821428571428571, 0.9910714285714286, 0.9910714285714286, 1.0, 0.9821428571428571, 0.9910714285714286, 0.9910714285714286, 0.9821428571428571, 0.9910714285714286, 0.9910714285714286, 0.9910714285714286, 0.9910714285714286, 1.0, 0.9910714285714286, 0.9910714285714286, 0.9821428571428571, 0.9910714285714286, 0.9821428571428571, 1.0, 0.9821428571428571, 1.0, 0.9910714285714286, 0.9910714285714286, 0.9910714285714286, 0.9910714285714286, 0.9732142857142857, 0.9910714285714286, 0.9910714285714286, 0.9910714285714286, 0.9821428571428571, 0.9910714285714286, 0.9910714285714286, 0.9910714285714286, 0.9910714285714286, 0.9910714285714286, 0.9910714285714286, 1.0, 0.9910714285714286, 0.9821428571428571, 0.9821428571428571, 0.9910714285714286, 0.9910714285714286, 0.9910714285714286, 1.0, 0.9910714285714286, 0.9821428571428571, 0.9732142857142857, 0.9910714285714286, 0.9821428571428571, 0.9821428571428571, 0.9821428571428571, 0.9910714285714286, 0.9732142857142857, 0.9821428571428571, 1.0, 0.9910714285714286, 0.9910714285714286, 0.9910714285714286, 0.9910714285714286, 0.9910714285714286, 0.9910714285714286, 0.9910714285714286, 0.9910714285714286, 0.9910714285714286, 0.9910714285714286, 0.9910714285714286, 0.9910714285714286, 0.9910714285714286, 0.9910714285714286, 0.9910714285714286, 0.9910714285714286, 0.9821428571428571, 0.9910714285714286, 1.0, 0.9910714285714286, 0.9910714285714286, 1.0, 0.9910714285714286, 0.9910714285714286, 0.9821428571428571, 1.0, 0.9910714285714286, 0.9821428571428571, 1.0, 0.9910714285714286, 0.9732142857142857, 0.9910714285714286, 1.0, 1.0, 0.9732142857142857, 0.9910714285714286, 1.0, 1.0, 0.9910714285714286, 0.9821428571428571, 0.9910714285714286, 0.9821428571428571, 0.9910714285714286, 0.9910714285714286, 0.9910714285714286, 0.9910714285714286, 1.0, 1.0, 0.9910714285714286, 1.0, 0.9910714285714286, 0.9910714285714286, 0.9821428571428571, 0.9910714285714286, 0.9910714285714286, 0.9821428571428571, 0.9910714285714286, 1.0, 1.0, 0.9821428571428571, 0.9910714285714286, 0.9910714285714286, 0.9821428571428571, 0.9821428571428571, 0.9910714285714286, 0.9821428571428571, 0.9910714285714286, 0.9821428571428571, 0.9910714285714286, 0.9821428571428571, 0.9910714285714286, 0.9821428571428571, 0.9821428571428571, 0.9910714285714286, 1.0, 1.0, 0.9910714285714286, 0.9910714285714286, 0.9910714285714286, 1.0, 0.9910714285714286, 0.9910714285714286, 1.0, 0.9910714285714286, 0.9910714285714286, 0.9910714285714286, 0.9910714285714286, 0.9910714285714286, 1.0, 0.9821428571428571, 1.0, 0.9910714285714286, 0.9821428571428571, 0.9910714285714286, 1.0, 1.0, 0.9910714285714286, 0.9910714285714286, 0.9910714285714286, 0.9910714285714286, 0.9910714285714286, 1.0, 1.0, 0.9910714285714286, 0.9910714285714286, 1.0, 0.9910714285714286, 0.9910714285714286, 1.0, 0.9910714285714286, 0.9910714285714286, 1.0, 1.0, 1.0, 0.9821428571428571, 0.9910714285714286, 1.0, 0.9910714285714286, 0.9910714285714286, 0.9910714285714286, 0.9821428571428571, 0.9732142857142857, 1.0, 0.9910714285714286, 0.9910714285714286, 0.9910714285714286, 0.9910714285714286, 0.9910714285714286, 0.9910714285714286, 0.9910714285714286]}\n"
     ]
    }
   ],
   "source": [
    "print(hist.history.keys())\n",
    "print(hist.history)"
   ]
  },
  {
   "cell_type": "code",
   "execution_count": 52,
   "metadata": {},
   "outputs": [
    {
     "data": {
      "image/png": "[encoded data removed]",
      "text/plain": [
       "<Figure size 432x288 with 2 Axes>"
      ]
     },
     "metadata": {},
     "output_type": "display_data"
    }
   ],
   "source": [
    "hist_loss=np.array(hist.history['loss'])\n",
    "hist_acc=np.array(hist.history['acc'])\n",
    "\n",
    "plt.subplot(121)\n",
    "plt.plot(hist_loss,label='loss')\n",
    "\n",
    "plt.subplot(122)\n",
    "plt.plot(hist_acc,label='accuracy')\n",
    "\n",
    "plt.show()"
   ]
  },
  {
   "cell_type": "code",
   "execution_count": 55,
   "metadata": {},
   "outputs": [
    {
     "name": "stdout",
     "output_type": "stream",
     "text": [
      "112/112 [==============================] - 0s 143us/step\n",
      "38/38 [==============================] - 0s 342us/step\n",
      "0.018750265972422703 \n",
      " 0.9910714285714286\n",
      "0.16431751768839986 \n",
      " 0.947368417915545\n"
     ]
    }
   ],
   "source": [
    "loss_train, acc_train= model.evaluate(X_train,Y_train,verbose=1)\n",
    "loss_test, acc_test=model.evaluate(X_test,Y_test,verbose=1)\n",
    "print(loss_train, '\\n', acc_train)\n",
    "print(loss_test, '\\n', acc_test)"
   ]
  },
  {
   "cell_type": "code",
   "execution_count": 56,
   "metadata": {},
   "outputs": [
    {
     "name": "stdout",
     "output_type": "stream",
     "text": [
      "38/38 [==============================] - 0s 2ms/step\n",
      "[1 0 0 0 1 1 0 2 0 0 1 1 2 2 0 1 2 1 0 2 2 1 2 1 0 1 0 0 1 2 0 2 2 0 2 1 1\n",
      " 2]\n",
      "[1 0 0 0 1 1 0 2 0 0 1 1 2 2 0 1 2 1 0 2 2 1 1 1 0 1 0 0 1 2 0 2 1 0 2 1 1\n",
      " 2]\n"
     ]
    }
   ],
   "source": [
    "classes_test=model.predict_classes(X_test,verbose=1)\n",
    "print(classes_test)\n",
    "print(y_test)"
   ]
  },
  {
   "cell_type": "code",
   "execution_count": 57,
   "metadata": {},
   "outputs": [
    {
     "name": "stdout",
     "output_type": "stream",
     "text": [
      "(4,)\n"
     ]
    }
   ],
   "source": [
    "weight= np.array(model.get_weights())\n",
    "print(weight.shape)"
   ]
  },
  {
   "cell_type": "code",
   "execution_count": 59,
   "metadata": {},
   "outputs": [
    {
     "name": "stdout",
     "output_type": "stream",
     "text": [
      "(4, 12)\n",
      "[[ 1.1198754e+00  3.2627612e-01 -2.5794342e-01 -8.3542138e-01\n",
      "   2.3414333e+00 -1.6715617e+00 -5.6442612e-01  8.6324856e-02\n",
      "   1.3345797e+00  7.3803848e-01  1.8604945e-01  5.1446649e-04]\n",
      " [ 1.0335218e+00  3.1949803e-02 -1.2906535e+00 -3.8587758e-01\n",
      "   1.8938519e+00 -1.3718693e+00  1.3137548e-01  7.8681886e-02\n",
      "   2.1368913e-01  5.1057154e-01  4.3126231e-01  1.6912584e+00]\n",
      " [-1.8357439e+00 -6.2794721e-01  1.9585904e+00  1.3780016e+00\n",
      "  -3.5973849e+00  2.5788522e+00 -2.5719150e-03 -3.5953674e-01\n",
      "  -1.6321076e+00 -1.8681643e+00 -6.0583025e-01 -1.7554275e+00]\n",
      " [-1.7557381e+00 -5.6313217e-01  3.0495554e-01  8.1876200e-01\n",
      "  -3.2907755e+00  2.5741038e+00 -4.5848540e-03 -3.0543730e-01\n",
      "  -1.7363467e+00 -1.0643814e+00 -6.7143017e-01 -1.2626687e+00]]\n",
      "(12,)\n",
      "[ 1.2636129   0.06707462 -0.10584534 -0.5750426   2.957127   -2.22174\n",
      " -0.05583819  0.14638154  1.2976594   0.13483988  0.2765603   0.17275473]\n",
      "(12, 3)\n",
      "[[ 2.1246836   1.005594   -3.1123254 ]\n",
      " [ 0.21419889 -0.6056426  -0.73583865]\n",
      " [-3.035327    1.235094    1.3027003 ]\n",
      " [-2.6635883  -0.26221702  2.1547084 ]\n",
      " [ 1.4864678   3.6031754  -4.8885126 ]\n",
      " [-1.9641881  -2.694481    3.7740498 ]\n",
      " [-0.17012285  0.284406   -0.01511671]\n",
      " [ 0.04018658 -0.3981405  -1.0118375 ]\n",
      " [ 1.0546653   1.9019988  -1.8500997 ]\n",
      " [ 2.8001242  -0.8988979  -0.68317264]\n",
      " [ 0.6655494  -0.38104567 -1.312684  ]\n",
      " [ 2.933809   -2.1298916  -1.1215388 ]]\n",
      "(3,)\n",
      "[-0.7491983  0.1190929  0.6301104]\n"
     ]
    }
   ],
   "source": [
    "for k in range(4):\n",
    "    print(weight[k].shape)\n",
    "    print(weight[k])"
   ]
  },
  {
   "cell_type": "code",
   "execution_count": null,
   "metadata": {},
   "outputs": [],
   "source": []
  }
 ],
 "metadata": {
  "kernelspec": {
   "display_name": "Python 3",
   "language": "python",
   "name": "python3"
  },
  "language_info": {
   "codemirror_mode": {
    "name": "ipython",
    "version": 3
   },
   "file_extension": ".py",
   "mimetype": "text/x-python",
   "name": "python",
   "nbconvert_exporter": "python",
   "pygments_lexer": "ipython3",
   "version": "3.6.5"
  }
 },
 "nbformat": 4,
 "nbformat_minor": 2
}
