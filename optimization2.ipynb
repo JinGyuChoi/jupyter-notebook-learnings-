{
 "cells": [
  {
   "cell_type": "code",
   "execution_count": 1,
   "metadata": {},
   "outputs": [],
   "source": [
    "from ortools.constraint_solver import pywrapcp"
   ]
  },
  {
   "cell_type": "code",
   "execution_count": 2,
   "metadata": {},
   "outputs": [],
   "source": [
    "solver = pywrapcp.Solver('simple_cp_example')"
   ]
  },
  {
   "cell_type": "code",
   "execution_count": 3,
   "metadata": {},
   "outputs": [],
   "source": [
    "x=solver.IntVar(0,2,'x') #2도 포함. 0,1,2중 하나의 정수값을 갖는 변수x\n",
    "y=solver.IntVar(0,2,'y')\n",
    "z=solver.IntVar(0,2,'z')"
   ]
  },
  {
   "cell_type": "code",
   "execution_count": 4,
   "metadata": {},
   "outputs": [],
   "source": [
    "solver.Add(x != y) #crate the constaints."
   ]
  },
  {
   "cell_type": "code",
   "execution_count": 5,
   "metadata": {},
   "outputs": [
    {
     "data": {
      "text/plain": [
       "True"
      ]
     },
     "execution_count": 5,
     "metadata": {},
     "output_type": "execute_result"
    }
   ],
   "source": [
    "#decision builder: solver.Phase(변수, 변수 탐색 조건, 변수값 탐색 조건)\n",
    "db = solver.Phase([x,y,z], solver.INT_VAR_DEFAULT, solver.INT_VALUE_DEFAULT)\n",
    "solver.Solve(db)"
   ]
  },
  {
   "cell_type": "code",
   "execution_count": 6,
   "metadata": {},
   "outputs": [
    {
     "name": "stdout",
     "output_type": "stream",
     "text": [
      "x(0) y(1) z(0)\n"
     ]
    }
   ],
   "source": [
    "solver.NextSolution()\n",
    "print(x,y,z)"
   ]
  },
  {
   "cell_type": "code",
   "execution_count": 7,
   "metadata": {},
   "outputs": [
    {
     "name": "stdout",
     "output_type": "stream",
     "text": [
      "x = 0 , y = 1 , z = 1\n",
      "x = 0 , y = 1 , z = 2\n",
      "x = 0 , y = 2 , z = 0\n",
      "x = 0 , y = 2 , z = 1\n",
      "x = 0 , y = 2 , z = 2\n",
      "x = 1 , y = 0 , z = 0\n",
      "x = 1 , y = 0 , z = 1\n",
      "x = 1 , y = 0 , z = 2\n",
      "x = 1 , y = 2 , z = 0\n",
      "x = 1 , y = 2 , z = 1\n",
      "x = 1 , y = 2 , z = 2\n",
      "x = 2 , y = 0 , z = 0\n",
      "x = 2 , y = 0 , z = 1\n",
      "x = 2 , y = 0 , z = 2\n",
      "x = 2 , y = 1 , z = 0\n",
      "x = 2 , y = 1 , z = 1\n",
      "x = 2 , y = 1 , z = 2\n",
      "17\n"
     ]
    }
   ],
   "source": [
    "count=0\n",
    "while solver.NextSolution():\n",
    "    count += 1\n",
    "    print('x =',x.Value(), ', y =',y.Value(), ', z =',z.Value())\n",
    "print(count)"
   ]
  },
  {
   "cell_type": "code",
   "execution_count": 8,
   "metadata": {},
   "outputs": [],
   "source": [
    "solver=pywrapcp.Solver('cp is fun')"
   ]
  },
  {
   "cell_type": "code",
   "execution_count": 9,
   "metadata": {},
   "outputs": [],
   "source": [
    "kBase = 10 #10진수 연산이라서"
   ]
  },
  {
   "cell_type": "code",
   "execution_count": 10,
   "metadata": {},
   "outputs": [],
   "source": [
    "digits = range(0, kBase)\n",
    "digits_without_zero = range(1,kBase)\n",
    "c=solver.IntVar(1,kBase-1,'C')\n",
    "p=solver.IntVar(0,kBase-1,'P')\n",
    "i=solver.IntVar(1,kBase-1,'I')\n",
    "s=solver.IntVar(0,kBase-1,'S')\n",
    "f=solver.IntVar(1,kBase-1,'F')\n",
    "u=solver.IntVar(0,kBase-1,'U')\n",
    "n=solver.IntVar(0,kBase-1,'N')\n",
    "t=solver.IntVar(1,kBase-1,'T')\n",
    "r=solver.IntVar(0,kBase-1,'R')\n",
    "e=solver.IntVar(0,kBase-1,'E')"
   ]
  },
  {
   "cell_type": "code",
   "execution_count": 11,
   "metadata": {},
   "outputs": [],
   "source": [
    "letters=[c,p,i,s,f,u,n,t,r,e]\n",
    "solver.Add(solver.AllDifferent(letters))"
   ]
  },
  {
   "cell_type": "code",
   "execution_count": 12,
   "metadata": {},
   "outputs": [],
   "source": [
    "solver.Add(p+s+n+kBase*(c+i+u)+kBase**2*f == e+kBase*u+kBase**2*r+kBase**3*t)"
   ]
  },
  {
   "cell_type": "code",
   "execution_count": 13,
   "metadata": {},
   "outputs": [
    {
     "data": {
      "text/plain": [
       "True"
      ]
     },
     "execution_count": 13,
     "metadata": {},
     "output_type": "execute_result"
    }
   ],
   "source": [
    "db=solver.Phase(letters, solver.INT_VAR_DEFAULT, solver.INT_VALUE_DEFAULT)\n",
    "solver.Solve(db)"
   ]
  },
  {
   "cell_type": "code",
   "execution_count": 14,
   "metadata": {},
   "outputs": [],
   "source": [
    "def print_solution(solver, letters):\n",
    "    count=0\n",
    "    while solver.NextSolution():\n",
    "        count+=1\n",
    "        print(letters)\n",
    "    print('number of solution : ',count)"
   ]
  },
  {
   "cell_type": "code",
   "execution_count": 15,
   "metadata": {},
   "outputs": [
    {
     "name": "stdout",
     "output_type": "stream",
     "text": [
      "[C(2), P(3), I(7), S(4), F(9), U(6), N(8), T(1), R(0), E(5)]\n",
      "[C(2), P(3), I(7), S(5), F(9), U(4), N(8), T(1), R(0), E(6)]\n",
      "[C(2), P(3), I(7), S(5), F(9), U(8), N(6), T(1), R(0), E(4)]\n",
      "[C(2), P(3), I(7), S(6), F(9), U(8), N(5), T(1), R(0), E(4)]\n",
      "[C(2), P(3), I(7), S(8), F(9), U(4), N(5), T(1), R(0), E(6)]\n",
      "[C(2), P(3), I(7), S(8), F(9), U(6), N(4), T(1), R(0), E(5)]\n",
      "[C(2), P(4), I(7), S(3), F(9), U(6), N(8), T(1), R(0), E(5)]\n",
      "[C(2), P(4), I(7), S(8), F(9), U(6), N(3), T(1), R(0), E(5)]\n",
      "[C(2), P(5), I(7), S(3), F(9), U(4), N(8), T(1), R(0), E(6)]\n",
      "[C(2), P(5), I(7), S(3), F(9), U(8), N(6), T(1), R(0), E(4)]\n",
      "[C(2), P(5), I(7), S(6), F(9), U(8), N(3), T(1), R(0), E(4)]\n",
      "[C(2), P(5), I(7), S(8), F(9), U(4), N(3), T(1), R(0), E(6)]\n",
      "[C(2), P(6), I(7), S(3), F(9), U(8), N(5), T(1), R(0), E(4)]\n",
      "[C(2), P(6), I(7), S(5), F(9), U(8), N(3), T(1), R(0), E(4)]\n",
      "[C(2), P(8), I(7), S(3), F(9), U(4), N(5), T(1), R(0), E(6)]\n",
      "[C(2), P(8), I(7), S(3), F(9), U(6), N(4), T(1), R(0), E(5)]\n",
      "[C(2), P(8), I(7), S(4), F(9), U(6), N(3), T(1), R(0), E(5)]\n",
      "[C(2), P(8), I(7), S(5), F(9), U(4), N(3), T(1), R(0), E(6)]\n",
      "[C(3), P(2), I(6), S(5), F(9), U(8), N(7), T(1), R(0), E(4)]\n",
      "[C(3), P(2), I(6), S(7), F(9), U(8), N(5), T(1), R(0), E(4)]\n",
      "[C(3), P(4), I(6), S(5), F(9), U(2), N(8), T(1), R(0), E(7)]\n",
      "[C(3), P(4), I(6), S(8), F(9), U(2), N(5), T(1), R(0), E(7)]\n",
      "[C(3), P(5), I(6), S(2), F(9), U(8), N(7), T(1), R(0), E(4)]\n",
      "[C(3), P(5), I(6), S(4), F(9), U(2), N(8), T(1), R(0), E(7)]\n",
      "[C(3), P(5), I(6), S(7), F(9), U(8), N(2), T(1), R(0), E(4)]\n",
      "[C(3), P(5), I(6), S(8), F(9), U(2), N(4), T(1), R(0), E(7)]\n",
      "[C(3), P(7), I(6), S(2), F(9), U(8), N(5), T(1), R(0), E(4)]\n",
      "[C(3), P(7), I(6), S(5), F(9), U(8), N(2), T(1), R(0), E(4)]\n",
      "[C(3), P(8), I(6), S(4), F(9), U(2), N(5), T(1), R(0), E(7)]\n",
      "[C(3), P(8), I(6), S(5), F(9), U(2), N(4), T(1), R(0), E(7)]\n",
      "[C(4), P(3), I(5), S(6), F(9), U(2), N(8), T(1), R(0), E(7)]\n",
      "[C(4), P(3), I(5), S(8), F(9), U(2), N(6), T(1), R(0), E(7)]\n",
      "[C(4), P(6), I(5), S(3), F(9), U(2), N(8), T(1), R(0), E(7)]\n",
      "[C(4), P(6), I(5), S(8), F(9), U(2), N(3), T(1), R(0), E(7)]\n",
      "[C(4), P(8), I(5), S(3), F(9), U(2), N(6), T(1), R(0), E(7)]\n",
      "[C(4), P(8), I(5), S(6), F(9), U(2), N(3), T(1), R(0), E(7)]\n",
      "[C(5), P(3), I(4), S(6), F(9), U(2), N(8), T(1), R(0), E(7)]\n",
      "[C(5), P(3), I(4), S(8), F(9), U(2), N(6), T(1), R(0), E(7)]\n",
      "[C(5), P(6), I(4), S(3), F(9), U(2), N(8), T(1), R(0), E(7)]\n",
      "[C(5), P(6), I(4), S(8), F(9), U(2), N(3), T(1), R(0), E(7)]\n",
      "[C(5), P(8), I(4), S(3), F(9), U(2), N(6), T(1), R(0), E(7)]\n",
      "[C(5), P(8), I(4), S(6), F(9), U(2), N(3), T(1), R(0), E(7)]\n",
      "[C(6), P(2), I(3), S(5), F(9), U(8), N(7), T(1), R(0), E(4)]\n",
      "[C(6), P(2), I(3), S(7), F(9), U(8), N(5), T(1), R(0), E(4)]\n",
      "[C(6), P(4), I(3), S(5), F(9), U(2), N(8), T(1), R(0), E(7)]\n",
      "[C(6), P(4), I(3), S(8), F(9), U(2), N(5), T(1), R(0), E(7)]\n",
      "[C(6), P(5), I(3), S(2), F(9), U(8), N(7), T(1), R(0), E(4)]\n",
      "[C(6), P(5), I(3), S(4), F(9), U(2), N(8), T(1), R(0), E(7)]\n",
      "[C(6), P(5), I(3), S(7), F(9), U(8), N(2), T(1), R(0), E(4)]\n",
      "[C(6), P(5), I(3), S(8), F(9), U(2), N(4), T(1), R(0), E(7)]\n",
      "[C(6), P(7), I(3), S(2), F(9), U(8), N(5), T(1), R(0), E(4)]\n",
      "[C(6), P(7), I(3), S(5), F(9), U(8), N(2), T(1), R(0), E(4)]\n",
      "[C(6), P(8), I(3), S(4), F(9), U(2), N(5), T(1), R(0), E(7)]\n",
      "[C(6), P(8), I(3), S(5), F(9), U(2), N(4), T(1), R(0), E(7)]\n",
      "[C(7), P(3), I(2), S(4), F(9), U(6), N(8), T(1), R(0), E(5)]\n",
      "[C(7), P(3), I(2), S(5), F(9), U(4), N(8), T(1), R(0), E(6)]\n",
      "[C(7), P(3), I(2), S(5), F(9), U(8), N(6), T(1), R(0), E(4)]\n",
      "[C(7), P(3), I(2), S(6), F(9), U(8), N(5), T(1), R(0), E(4)]\n",
      "[C(7), P(3), I(2), S(8), F(9), U(4), N(5), T(1), R(0), E(6)]\n",
      "[C(7), P(3), I(2), S(8), F(9), U(6), N(4), T(1), R(0), E(5)]\n",
      "[C(7), P(4), I(2), S(3), F(9), U(6), N(8), T(1), R(0), E(5)]\n",
      "[C(7), P(4), I(2), S(8), F(9), U(6), N(3), T(1), R(0), E(5)]\n",
      "[C(7), P(5), I(2), S(3), F(9), U(4), N(8), T(1), R(0), E(6)]\n",
      "[C(7), P(5), I(2), S(3), F(9), U(8), N(6), T(1), R(0), E(4)]\n",
      "[C(7), P(5), I(2), S(6), F(9), U(8), N(3), T(1), R(0), E(4)]\n",
      "[C(7), P(5), I(2), S(8), F(9), U(4), N(3), T(1), R(0), E(6)]\n",
      "[C(7), P(6), I(2), S(3), F(9), U(8), N(5), T(1), R(0), E(4)]\n",
      "[C(7), P(6), I(2), S(5), F(9), U(8), N(3), T(1), R(0), E(4)]\n",
      "[C(7), P(8), I(2), S(3), F(9), U(4), N(5), T(1), R(0), E(6)]\n",
      "[C(7), P(8), I(2), S(3), F(9), U(6), N(4), T(1), R(0), E(5)]\n",
      "[C(7), P(8), I(2), S(4), F(9), U(6), N(3), T(1), R(0), E(5)]\n",
      "[C(7), P(8), I(2), S(5), F(9), U(4), N(3), T(1), R(0), E(6)]\n",
      "number of solution :  72\n"
     ]
    }
   ],
   "source": [
    "print_solution(solver, letters)"
   ]
  },
  {
   "cell_type": "code",
   "execution_count": 16,
   "metadata": {},
   "outputs": [],
   "source": [
    "solver=pywrapcp.Solver('sudoku')"
   ]
  },
  {
   "cell_type": "code",
   "execution_count": 22,
   "metadata": {},
   "outputs": [
    {
     "name": "stdout",
     "output_type": "stream",
     "text": [
      "[0, 1, 2, 3]\n"
     ]
    }
   ],
   "source": [
    "box_size=2 #한 박스 안에서 행과 열에 들어갈 숫자의 수\n",
    "line_size=box_size**2 #각 행이나 열에 들어갈 숫자의 수\n",
    "line=list(range(0,line_size))\n",
    "box=list(range(0,box_size))\n",
    "print(line)"
   ]
  },
  {
   "cell_type": "code",
   "execution_count": 35,
   "metadata": {},
   "outputs": [],
   "source": [
    "grid={}\n",
    "for i in line:\n",
    "    for j in line:\n",
    "        grid[(i,j)]=solver.IntVar(1,line_size,f'grid{i}{j}') \n",
    "        #다음문장 설명 참조, 1부터 4까지. 4포함"
   ]
  },
  {
   "cell_type": "code",
   "execution_count": 19,
   "metadata": {},
   "outputs": [
    {
     "data": {
      "text/plain": [
       "'2018 nims academy is very good!'"
      ]
     },
     "execution_count": 19,
     "metadata": {},
     "output_type": "execute_result"
    }
   ],
   "source": [
    "#f'{} {}' 설명\n",
    "year=2018\n",
    "title='nims academy'\n",
    "description=f'{year} {title} is very good!'\n",
    "description"
   ]
  },
  {
   "cell_type": "code",
   "execution_count": 20,
   "metadata": {},
   "outputs": [
    {
     "name": "stdout",
     "output_type": "stream",
     "text": [
      "keys: dict_keys([(0, 0), (0, 1), (0, 2), (0, 3), (1, 0), (1, 1), (1, 2), (1, 3), (2, 0), (2, 1), (2, 2), (2, 3), (3, 0), (3, 1), (3, 2), (3, 3)]) \n",
      " values: dict_values([grid00(1..4), grid01(1..4), grid02(1..4), grid03(1..4), grid10(1..4), grid11(1..4), grid12(1..4), grid13(1..4), grid20(1..4), grid21(1..4), grid22(1..4), grid23(1..4), grid30(1..4), grid31(1..4), grid32(1..4), grid33(1..4)])\n"
     ]
    }
   ],
   "source": [
    "print('keys:',grid.keys(),'\\n values:',grid.values())"
   ]
  },
  {
   "cell_type": "code",
   "execution_count": 25,
   "metadata": {},
   "outputs": [
    {
     "name": "stdout",
     "output_type": "stream",
     "text": [
      "['(0,0)']\n",
      "['(0,1)']\n",
      "['(0,2)']\n",
      "['(0,3)']\n",
      "['(1,0)']\n",
      "['(1,1)']\n",
      "['(1,2)']\n",
      "['(1,3)']\n",
      "['(2,0)']\n",
      "['(2,1)']\n",
      "['(2,2)']\n",
      "['(2,3)']\n",
      "['(3,0)']\n",
      "['(3,1)']\n",
      "['(3,2)']\n",
      "['(3,3)']\n"
     ]
    }
   ],
   "source": [
    "for i in line:\n",
    "    solver.Add(solver.AllDifferent([grid[(i,j)] for j in line])) #다음 줄 설명 참조\n",
    "    for j in line:\n",
    "        print([f'({i},{j})']) #각 행 마다 모든 숫자들이 다 다름."
   ]
  },
  {
   "cell_type": "code",
   "execution_count": 26,
   "metadata": {},
   "outputs": [
    {
     "data": {
      "text/plain": [
       "[0, 1, 2, 3]"
      ]
     },
     "execution_count": 26,
     "metadata": {},
     "output_type": "execute_result"
    }
   ],
   "source": [
    "#문법설명\n",
    "a=[i for i in range(4)]\n",
    "a"
   ]
  },
  {
   "cell_type": "code",
   "execution_count": 27,
   "metadata": {},
   "outputs": [],
   "source": [
    "for j in line:\n",
    "    solver.Add(solver.AllDifferent([grid[(i,j)] for i in line]))\n",
    "    #각 열 마다 숫자들이 다 다름."
   ]
  },
  {
   "cell_type": "code",
   "execution_count": 28,
   "metadata": {},
   "outputs": [],
   "source": [
    "for i in box:\n",
    "    for j in box:\n",
    "        one_box=[]\n",
    "        for ii in box:\n",
    "            for jj in box:\n",
    "                one_box.append(grid[(i*box_size + ii, j*box_size + jj)])\n",
    "        solver.Add(solver.AllDifferent(one_box))"
   ]
  },
  {
   "cell_type": "code",
   "execution_count": 29,
   "metadata": {},
   "outputs": [],
   "source": [
    "all_vars=[grid[(i,j)]for i in line for j in line]\n",
    "db=solver.Phase(all_vars, solver.INT_VAR_DEFAULT, solver.INT_VALUE_DEFAULT)"
   ]
  },
  {
   "cell_type": "code",
   "execution_count": 30,
   "metadata": {},
   "outputs": [
    {
     "data": {
      "text/plain": [
       "True"
      ]
     },
     "execution_count": 30,
     "metadata": {},
     "output_type": "execute_result"
    }
   ],
   "source": [
    "solver.Solve(db)"
   ]
  },
  {
   "cell_type": "code",
   "execution_count": 31,
   "metadata": {},
   "outputs": [],
   "source": [
    "#solver.NextSolution()\n",
    "#for i in line:\n",
    "     #print([int(grid[(i,j)].Value())for j in line])"
   ]
  },
  {
   "cell_type": "code",
   "execution_count": 33,
   "metadata": {},
   "outputs": [
    {
     "name": "stdout",
     "output_type": "stream",
     "text": [
      "288\n",
      "Assignment(grid00 (1) | grid01 (2) | grid02 (3) | grid03 (4) | grid10 (3) | grid11 (4) | grid12 (1) | grid13 (2) | grid20 (2) | grid21 (1) | grid22 (4) | grid23 (3) | grid30 (4) | grid31 (3) | grid32 (2) | grid33 (1) | )\n",
      "Assignment(grid00 (4) | grid01 (3) | grid02 (2) | grid03 (1) | grid10 (2) | grid11 (1) | grid12 (4) | grid13 (3) | grid20 (3) | grid21 (4) | grid22 (1) | grid23 (2) | grid30 (1) | grid31 (2) | grid32 (3) | grid33 (4) | )\n"
     ]
    }
   ],
   "source": [
    "#추가 참조\n",
    "solution=solver.Assignment()\n",
    "solution.Add(all_vars)\n",
    "collector=solver.AllSolutionCollector(solution)\n",
    "\n",
    "solver.Solve(db,[collector])\n",
    "print(collector.SolutionCount())\n",
    "print(collector.Solution(0))\n",
    "print(collector.Solution(287))"
   ]
  },
  {
   "cell_type": "code",
   "execution_count": 34,
   "metadata": {},
   "outputs": [
    {
     "name": "stdout",
     "output_type": "stream",
     "text": [
      "[4, 3, 2, 1]\n",
      "[2, 1, 4, 3]\n",
      "[3, 2, 1, 4]\n",
      "[1, 4, 3, 2]\n"
     ]
    }
   ],
   "source": [
    "for i in line: #i가 첫번째\n",
    "    print([int(collector.Value(286,grid[(i,j)])) for j in line])\n",
    "    #j가 두번째, 286번째 solution의 스도쿠모형."
   ]
  },
  {
   "cell_type": "code",
   "execution_count": null,
   "metadata": {},
   "outputs": [],
   "source": []
  }
 ],
 "metadata": {
  "kernelspec": {
   "display_name": "Python 3",
   "language": "python",
   "name": "python3"
  },
  "language_info": {
   "codemirror_mode": {
    "name": "ipython",
    "version": 3
   },
   "file_extension": ".py",
   "mimetype": "text/x-python",
   "name": "python",
   "nbconvert_exporter": "python",
   "pygments_lexer": "ipython3",
   "version": "3.6.5"
  }
 },
 "nbformat": 4,
 "nbformat_minor": 2
}
