{
 "cells": [
  {
   "cell_type": "code",
   "execution_count": 1,
   "metadata": {},
   "outputs": [
    {
     "name": "stderr",
     "output_type": "stream",
     "text": [
      "C:\\Users\\JinGyu Choi\\Anaconda3\\lib\\site-packages\\h5py\\__init__.py:36: FutureWarning: Conversion of the second argument of issubdtype from `float` to `np.floating` is deprecated. In future, it will be treated as `np.float64 == np.dtype(float).type`.\n",
      "  from ._conv import register_converters as _register_converters\n",
      "Using TensorFlow backend.\n"
     ]
    }
   ],
   "source": [
    "import numpy as np\n",
    "import matplotlib.pyplot as plt\n",
    "\n",
    "from keras.models import Sequential\n",
    "from keras.layers import Dense, Activation\n",
    "from keras.optimizers import SGD\n",
    "\n",
    "from keras import initializers\n",
    "from keras import regularizers\n",
    "\n",
    "from keras.layers import Dropout\n",
    "from keras.optimizers import RMSprop, Adagrad, Adam\n",
    "from keras.callbacks import EarlyStopping\n",
    "\n",
    "from sklearn.model_selection import train_test_split"
   ]
  },
  {
   "cell_type": "code",
   "execution_count": 2,
   "metadata": {},
   "outputs": [],
   "source": [
    "from sklearn.datasets import load_iris"
   ]
  },
  {
   "cell_type": "code",
   "execution_count": 3,
   "metadata": {},
   "outputs": [
    {
     "name": "stdout",
     "output_type": "stream",
     "text": [
      "[0 0 0 0 0 0 0 0 0 0 0 0 0 0 0 0 0 0 0 0 0 0 0 0 0 0 0 0 0 0 0 0 0 0 0 0 0\n",
      " 0 0 0 0 0 0 0 0 0 0 0 0 0 1 1 1 1 1 1 1 1 1 1 1 1 1 1 1 1 1 1 1 1 1 1 1 1\n",
      " 1 1 1 1 1 1 1 1 1 1 1 1 1 1 1 1 1 1 1 1 1 1 1 1 1 1 2 2 2 2 2 2 2 2 2 2 2\n",
      " 2 2 2 2 2 2 2 2 2 2 2 2 2 2 2 2 2 2 2 2 2 2 2 2 2 2 2 2 2 2 2 2 2 2 2 2 2\n",
      " 2 2]\n"
     ]
    }
   ],
   "source": [
    "iris=load_iris()\n",
    "x=iris.data\n",
    "y=iris.target\n",
    "target_names=iris.target_names\n",
    "print(y)"
   ]
  },
  {
   "cell_type": "code",
   "execution_count": 4,
   "metadata": {},
   "outputs": [],
   "source": [
    "X_train,X_test,y_train,y_test=train_test_split(x,y,random_state=10,test_size=0.2)"
   ]
  },
  {
   "cell_type": "code",
   "execution_count": 5,
   "metadata": {},
   "outputs": [],
   "source": [
    "Y_train=np.eye(3)[y_train].astype(int)\n",
    "Y_test=np.eye(3)[y_test].astype(int)"
   ]
  },
  {
   "cell_type": "code",
   "execution_count": 6,
   "metadata": {},
   "outputs": [
    {
     "name": "stdout",
     "output_type": "stream",
     "text": [
      "_________________________________________________________________\n",
      "Layer (type)                 Output Shape              Param #   \n",
      "=================================================================\n",
      "dense_1 (Dense)              (None, 16)                80        \n",
      "_________________________________________________________________\n",
      "activation_1 (Activation)    (None, 16)                0         \n",
      "_________________________________________________________________\n",
      "dense_2 (Dense)              (None, 3)                 51        \n",
      "_________________________________________________________________\n",
      "activation_2 (Activation)    (None, 3)                 0         \n",
      "=================================================================\n",
      "Total params: 131\n",
      "Trainable params: 131\n",
      "Non-trainable params: 0\n",
      "_________________________________________________________________\n"
     ]
    }
   ],
   "source": [
    "in_dim=4\n",
    "out_dim=3\n",
    "h_dim=16\n",
    "\n",
    "model=Sequential()\n",
    "model.add(Dense(input_dim=in_dim, units=h_dim, kernel_initializer=initializers.truncated_normal(mean=0, stddev=0.05, seed=21),\n",
    "                bias_initializer='zeros'))\n",
    "model.add(Activation('sigmoid'))\n",
    "model.add(Dense(units=out_dim, kernel_initializer=initializers.truncated_normal(mean=0, stddev=0.05, seed=52),\n",
    "                bias_initializer='zeros'))\n",
    "model.add(Activation('softmax'))\n",
    "model.summary()"
   ]
  },
  {
   "cell_type": "code",
   "execution_count": 7,
   "metadata": {},
   "outputs": [],
   "source": [
    "opt=SGD(lr=0.1)\n",
    "model.compile(loss='categorical_crossentropy', optimizer=opt, metrics=['accuracy'])"
   ]
  },
  {
   "cell_type": "code",
   "execution_count": 8,
   "metadata": {},
   "outputs": [
    {
     "name": "stdout",
     "output_type": "stream",
     "text": [
      "[[-0.06651231  0.06084896 -0.02027105  0.0429353   0.00484679  0.03771814\n",
      "   0.04159919  0.04786976 -0.03979918  0.05438533  0.02591087 -0.02320846\n",
      "  -0.0983348   0.04131412  0.01668444 -0.02029468]\n",
      " [-0.00114676  0.0499071  -0.09091502 -0.01994444 -0.00986788  0.01910614\n",
      "   0.00326421 -0.06318492 -0.03992816 -0.03367455  0.0283653   0.01777256\n",
      "  -0.0328366   0.01893912 -0.00831938 -0.04864088]\n",
      " [ 0.01954323 -0.01041132  0.02627815  0.04530815 -0.02908938 -0.01692891\n",
      "   0.01367663 -0.09941607  0.09239485  0.02014716  0.03926263 -0.09033368\n",
      "   0.00022338 -0.0357491   0.04413448 -0.0015355 ]\n",
      " [ 0.0762908  -0.0480655   0.00265197 -0.07798473 -0.03276191 -0.00071364\n",
      "   0.05602922  0.02409859 -0.02290691  0.01899253  0.04512818  0.05136125\n",
      "  -0.03117363  0.03559926  0.00875094 -0.05917511]]\n",
      "[0. 0. 0. 0. 0. 0. 0. 0. 0. 0. 0. 0. 0. 0. 0. 0.]\n",
      "[[-0.04273521  0.01987622 -0.01489236]\n",
      " [ 0.05379617 -0.05647922  0.08901107]\n",
      " [-0.0623383  -0.03034982  0.02403201]\n",
      " [ 0.02695994  0.03014457 -0.01204273]\n",
      " [-0.07340004  0.05321525 -0.00780042]\n",
      " [ 0.00843835 -0.08504941 -0.04071971]\n",
      " [-0.03800111  0.03386156 -0.04037478]\n",
      " [-0.02711869 -0.03675804 -0.03088982]\n",
      " [-0.06558067  0.04646193  0.05637279]\n",
      " [ 0.06360018  0.0257365  -0.06681998]\n",
      " [-0.0068774  -0.05539972 -0.07000583]\n",
      " [-0.0515411   0.00811401  0.01583209]\n",
      " [-0.08864677 -0.08035683  0.00511496]\n",
      " [-0.04712981 -0.07639968  0.00267376]\n",
      " [ 0.03307593  0.00902819 -0.0080389 ]\n",
      " [ 0.05170096 -0.02012947  0.01685987]]\n",
      "[0. 0. 0.]\n"
     ]
    }
   ],
   "source": [
    "print(model.get_weights()[0])\n",
    "print(model.get_weights()[1])\n",
    "print(model.get_weights()[2])\n",
    "print(model.get_weights()[3])"
   ]
  },
  {
   "cell_type": "code",
   "execution_count": 9,
   "metadata": {},
   "outputs": [],
   "source": [
    "#model.get_weights?"
   ]
  },
  {
   "cell_type": "code",
   "execution_count": 10,
   "metadata": {},
   "outputs": [],
   "source": [
    "n_epochs = 1000\n",
    "hist=model.fit(X_train,Y_train, validation_split=0.25, epochs=n_epochs, verbose=0)"
   ]
  },
  {
   "cell_type": "code",
   "execution_count": 11,
   "metadata": {},
   "outputs": [
    {
     "name": "stdout",
     "output_type": "stream",
     "text": [
      "dict_keys(['val_loss', 'val_acc', 'loss', 'acc'])\n"
     ]
    }
   ],
   "source": [
    "print(hist.history.keys())"
   ]
  },
  {
   "cell_type": "code",
   "execution_count": 12,
   "metadata": {},
   "outputs": [
    {
     "data": {
      "image/png": "[encoded data removed]",
      "text/plain": [
       "<Figure size 432x288 with 2 Axes>"
      ]
     },
     "metadata": {},
     "output_type": "display_data"
    }
   ],
   "source": [
    "hist_loss=np.array(hist.history['loss'])\n",
    "hist_loss_val=np.array(hist.history['val_loss'])\n",
    "\n",
    "plt.subplot(121)\n",
    "plt.plot(hist_loss , label='training')\n",
    "plt.plot(hist_loss_val, label='validation')\n",
    "\n",
    "plt.xlabel('number of epochs')\n",
    "plt.title('loss')\n",
    "plt.legend()\n",
    "\n",
    "plt.subplot(122)\n",
    "hist_acc=np.array(hist.history['acc'])\n",
    "hist_acc_val=np.array(hist.history['val_acc'])\n",
    "\n",
    "plt.plot(hist_acc, label='training')\n",
    "plt.plot(hist_acc_val, label='validation')\n",
    "\n",
    "plt.xlabel('number of epoches')\n",
    "plt.title('accuracy')\n",
    "plt.legend()\n",
    "\n",
    "plt.show()"
   ]
  },
  {
   "cell_type": "code",
   "execution_count": 13,
   "metadata": {},
   "outputs": [
    {
     "name": "stdout",
     "output_type": "stream",
     "text": [
      "loss (train, test) : \n",
      " 0.07578594858447711 , 0.06998015940189362\n",
      "accuracy (train, test) : \n",
      " 0.9916666666666667 , 0.9666666388511658\n"
     ]
    }
   ],
   "source": [
    "loss_train,acc_train=model.evaluate(X_train,Y_train,verbose=0)\n",
    "loss_test, acc_test= model.evaluate(X_test, Y_test, verbose=0)\n",
    "print('loss (train, test) : \\n',loss_train, ',' , loss_test)\n",
    "print('accuracy (train, test) : \\n',acc_train, ',' , acc_test)"
   ]
  },
  {
   "cell_type": "code",
   "execution_count": 14,
   "metadata": {},
   "outputs": [
    {
     "name": "stdout",
     "output_type": "stream",
     "text": [
      "[1 2 0 1 0 1 2 1 0 1 1 2 1 0 0 2 1 0 0 0 2 2 2 0 1 0 1 1 1 2]\n",
      "[1 2 0 1 0 1 1 1 0 1 1 2 1 0 0 2 1 0 0 0 2 2 2 0 1 0 1 1 1 2]\n"
     ]
    }
   ],
   "source": [
    "classes_test=model.predict_classes(X_test,verbose=0)\n",
    "print(classes_test)\n",
    "print(y_test)"
   ]
  },
  {
   "cell_type": "code",
   "execution_count": 15,
   "metadata": {},
   "outputs": [],
   "source": [
    "n_epochs = 100\n",
    "n_batch = 32\n",
    "hist=model.fit(X_train,Y_train,validation_split=0.25, epochs=n_epochs, batch_size= n_batch, verbose=0)"
   ]
  },
  {
   "cell_type": "code",
   "execution_count": 17,
   "metadata": {},
   "outputs": [
    {
     "name": "stdout",
     "output_type": "stream",
     "text": [
      "_________________________________________________________________\n",
      "Layer (type)                 Output Shape              Param #   \n",
      "=================================================================\n",
      "dense_5 (Dense)              (None, 16)                80        \n",
      "_________________________________________________________________\n",
      "activation_4 (Activation)    (None, 16)                0         \n",
      "_________________________________________________________________\n",
      "dense_6 (Dense)              (None, 3)                 51        \n",
      "_________________________________________________________________\n",
      "activation_5 (Activation)    (None, 3)                 0         \n",
      "=================================================================\n",
      "Total params: 131\n",
      "Trainable params: 131\n",
      "Non-trainable params: 0\n",
      "_________________________________________________________________\n"
     ]
    }
   ],
   "source": [
    "in_dim=4\n",
    "out_dim=3\n",
    "h_dim=16\n",
    "\n",
    "model=Sequential()\n",
    "model.add(Dense(input_dim=in_dim, units=h_dim, kernel_initializer=initializers.truncated_normal(mean=0, stddev=0.05, seed=21),\n",
    "               bias_initializer='zeros'))\n",
    "model.add(Activation('relu'))\n",
    "\n",
    "model.add(Dense(units=out_dim, kernel_initializer=initializers.truncated_normal(mean=0, stddev=0.05, seed=52),\n",
    "               bias_initializer='zeros'))\n",
    "model.add(Activation('softmax'))\n",
    "model.summary()"
   ]
  },
  {
   "cell_type": "code",
   "execution_count": 26,
   "metadata": {},
   "outputs": [
    {
     "name": "stdout",
     "output_type": "stream",
     "text": [
      "_________________________________________________________________\n",
      "Layer (type)                 Output Shape              Param #   \n",
      "=================================================================\n",
      "dense_9 (Dense)              (None, 16)                80        \n",
      "_________________________________________________________________\n",
      "activation_8 (Activation)    (None, 16)                0         \n",
      "_________________________________________________________________\n",
      "dense_10 (Dense)             (None, 3)                 51        \n",
      "_________________________________________________________________\n",
      "activation_9 (Activation)    (None, 3)                 0         \n",
      "=================================================================\n",
      "Total params: 131\n",
      "Trainable params: 131\n",
      "Non-trainable params: 0\n",
      "_________________________________________________________________\n"
     ]
    }
   ],
   "source": [
    "in_dim=4\n",
    "out_dim=3\n",
    "h_dim=16\n",
    "\n",
    "model=Sequential()\n",
    "model.add(Dense(input_dim=in_dim, units=h_dim, kernel_initializer=initializers.truncated_normal(mean=0, stddev=0.05, seed=21),\n",
    "               kernel_regularizer=regularizers.l2(0.01),\n",
    "               bias_initializer='zeros',\n",
    "               bias_regularizer=regularizers.l2(0.01)))\n",
    "model.add(Activation('relu'))\n",
    "\n",
    "model.add(Dense(units=out_dim, kernel_initializer=initializers.truncated_normal(mean=0, stddev=0.01, seed=52),\n",
    "               kernel_regularizer=regularizers.l2(0.01),\n",
    "               bias_initializer='zeros',\n",
    "               bias_regularizer=regularizers.l2(0.01)))\n",
    "model.add(Activation('softmax'))\n",
    "\n",
    "model.summary()"
   ]
  },
  {
   "cell_type": "code",
   "execution_count": 32,
   "metadata": {},
   "outputs": [
    {
     "name": "stdout",
     "output_type": "stream",
     "text": [
      "_________________________________________________________________\n",
      "Layer (type)                 Output Shape              Param #   \n",
      "=================================================================\n",
      "dense_13 (Dense)             (None, 16)                80        \n",
      "_________________________________________________________________\n",
      "activation_12 (Activation)   (None, 16)                0         \n",
      "_________________________________________________________________\n",
      "dropout_1 (Dropout)          (None, 16)                0         \n",
      "_________________________________________________________________\n",
      "dense_14 (Dense)             (None, 3)                 51        \n",
      "_________________________________________________________________\n",
      "activation_13 (Activation)   (None, 3)                 0         \n",
      "=================================================================\n",
      "Total params: 131\n",
      "Trainable params: 131\n",
      "Non-trainable params: 0\n",
      "_________________________________________________________________\n"
     ]
    }
   ],
   "source": [
    "in_dim=4\n",
    "out_dim=3\n",
    "h_dim=16\n",
    "\n",
    "model=Sequential()\n",
    "model.add(Dense(input_dim=in_dim, units=h_dim, kernel_initializer=initializers.truncated_normal(mean=0, stddev=0.01, seed=21),\n",
    "               kernel_regularizer=regularizers.l2(0.01),\n",
    "               bias_initializer='zeros',\n",
    "               bias_regularizer=regularizers.l2(0.01)))\n",
    "model.add(Activation('relu'))\n",
    "model.add(Dropout(0.2))\n",
    "\n",
    "model.add(Dense(units=out_dim, kernel_initializer=initializers.truncated_normal(mean=0, stddev=0.01, seed=52),\n",
    "               kernel_regularizer=regularizers.l2(0.01),\n",
    "               bias_initializer='zeros',\n",
    "               bias_regularizer=regularizers.l2(0.01)))\n",
    "model.add(Activation('softmax'))\n",
    "\n",
    "model.summary()"
   ]
  },
  {
   "cell_type": "code",
   "execution_count": 33,
   "metadata": {},
   "outputs": [],
   "source": [
    "#RMSprop(lr=0.001, rho=0.9, epsilon=None, decay=0.0)\n",
    "opt=RMSprop(lr=0.1)\n",
    "model.compile(loss='categorical_crossentropy', optimizer=opt, metrics=['accuracy'])"
   ]
  },
  {
   "cell_type": "code",
   "execution_count": 34,
   "metadata": {},
   "outputs": [],
   "source": [
    "#Adam(lr=0.001, beta_1=0.9, beta_2=0.999, epsilon=None, decay=0.0,)\n",
    "opt=Adam(lr=0.1)\n",
    "model.compile(loss='categorical_crossentropy', optimizer=opt, metrics=['accuracy'])"
   ]
  },
  {
   "cell_type": "code",
   "execution_count": 36,
   "metadata": {},
   "outputs": [],
   "source": [
    "#EarlyStopping?"
   ]
  },
  {
   "cell_type": "code",
   "execution_count": 35,
   "metadata": {},
   "outputs": [
    {
     "name": "stdout",
     "output_type": "stream",
     "text": [
      "Train on 90 samples, validate on 30 samples\n",
      "Epoch 1/100\n",
      "90/90 [==============================] - 1s 12ms/step - loss: 1.1284 - acc: 0.3111 - val_loss: 1.1413 - val_acc: 0.4000\n",
      "Epoch 2/100\n",
      "90/90 [==============================] - 0s 156us/step - loss: 1.0694 - acc: 0.4889 - val_loss: 0.8598 - val_acc: 0.9333\n",
      "Epoch 3/100\n",
      "90/90 [==============================] - 0s 400us/step - loss: 0.8083 - acc: 0.6778 - val_loss: 0.6099 - val_acc: 0.7000\n",
      "Epoch 4/100\n",
      "90/90 [==============================] - 0s 155us/step - loss: 0.6130 - acc: 0.6778 - val_loss: 0.4982 - val_acc: 0.9667\n",
      "Epoch 5/100\n",
      "90/90 [==============================] - 0s 167us/step - loss: 0.5834 - acc: 0.8222 - val_loss: 0.4476 - val_acc: 0.8667\n",
      "Epoch 6/100\n",
      "90/90 [==============================] - 0s 155us/step - loss: 0.5375 - acc: 0.8111 - val_loss: 0.5536 - val_acc: 0.7000\n",
      "Epoch 7/100\n",
      "90/90 [==============================] - 0s 155us/step - loss: 0.5400 - acc: 0.7889 - val_loss: 0.5085 - val_acc: 0.8667\n",
      "Epoch 8/100\n",
      "90/90 [==============================] - 0s 144us/step - loss: 0.5606 - acc: 0.7444 - val_loss: 0.5228 - val_acc: 0.7333\n",
      "Epoch 9/100\n",
      "90/90 [==============================] - 0s 155us/step - loss: 0.5662 - acc: 0.8333 - val_loss: 0.4823 - val_acc: 0.9000\n",
      "Epoch 10/100\n",
      "90/90 [==============================] - 0s 144us/step - loss: 0.5211 - acc: 0.8333 - val_loss: 0.4631 - val_acc: 0.9667\n",
      "Epoch 11/100\n",
      "90/90 [==============================] - 0s 200us/step - loss: 0.5034 - acc: 0.8333 - val_loss: 0.4030 - val_acc: 0.9667\n",
      "Epoch 12/100\n",
      "90/90 [==============================] - 0s 167us/step - loss: 0.5770 - acc: 0.8111 - val_loss: 0.3656 - val_acc: 0.9667\n",
      "Epoch 13/100\n",
      "90/90 [==============================] - 0s 178us/step - loss: 0.4429 - acc: 0.9000 - val_loss: 0.4175 - val_acc: 0.9333\n",
      "Epoch 14/100\n",
      "90/90 [==============================] - 0s 155us/step - loss: 0.4882 - acc: 0.8444 - val_loss: 0.4026 - val_acc: 0.9000\n",
      "Epoch 15/100\n",
      "90/90 [==============================] - 0s 200us/step - loss: 0.4410 - acc: 0.9111 - val_loss: 0.3696 - val_acc: 0.9333\n",
      "Epoch 16/100\n",
      "90/90 [==============================] - 0s 167us/step - loss: 0.4608 - acc: 0.8556 - val_loss: 0.3643 - val_acc: 0.9000\n",
      "Epoch 17/100\n",
      "90/90 [==============================] - 0s 111us/step - loss: 0.5058 - acc: 0.8000 - val_loss: 0.3892 - val_acc: 0.9667\n",
      "Epoch 18/100\n",
      "90/90 [==============================] - 0s 178us/step - loss: 0.4627 - acc: 0.8556 - val_loss: 0.4527 - val_acc: 0.9000\n",
      "Epoch 19/100\n",
      "90/90 [==============================] - 0s 233us/step - loss: 0.5271 - acc: 0.8000 - val_loss: 0.3602 - val_acc: 0.9333\n",
      "Epoch 20/100\n",
      "90/90 [==============================] - 0s 155us/step - loss: 0.3715 - acc: 0.8889 - val_loss: 0.2968 - val_acc: 0.9667\n",
      "Epoch 21/100\n",
      "90/90 [==============================] - 0s 144us/step - loss: 0.4617 - acc: 0.8333 - val_loss: 0.3047 - val_acc: 0.9667\n",
      "Epoch 22/100\n",
      "90/90 [==============================] - 0s 155us/step - loss: 0.4362 - acc: 0.8889 - val_loss: 0.3219 - val_acc: 1.0000\n",
      "Epoch 23/100\n",
      "90/90 [==============================] - 0s 144us/step - loss: 0.4692 - acc: 0.8444 - val_loss: 0.3283 - val_acc: 0.9667\n",
      "Epoch 24/100\n",
      "90/90 [==============================] - 0s 178us/step - loss: 0.4406 - acc: 0.8444 - val_loss: 0.3370 - val_acc: 0.9667\n",
      "Epoch 25/100\n",
      "90/90 [==============================] - 0s 167us/step - loss: 0.3953 - acc: 0.8778 - val_loss: 0.3162 - val_acc: 0.9667\n",
      "Epoch 26/100\n",
      "90/90 [==============================] - 0s 144us/step - loss: 0.3562 - acc: 0.9222 - val_loss: 0.2899 - val_acc: 0.9667\n",
      "Epoch 27/100\n",
      "90/90 [==============================] - 0s 144us/step - loss: 0.4125 - acc: 0.8889 - val_loss: 0.2711 - val_acc: 1.0000\n",
      "Epoch 28/100\n",
      "90/90 [==============================] - 0s 155us/step - loss: 0.4059 - acc: 0.9222 - val_loss: 0.3078 - val_acc: 0.9667\n",
      "Epoch 29/100\n",
      "90/90 [==============================] - 0s 155us/step - loss: 0.3612 - acc: 0.9333 - val_loss: 0.3114 - val_acc: 1.0000\n",
      "Epoch 30/100\n",
      "90/90 [==============================] - 0s 155us/step - loss: 0.3948 - acc: 0.9111 - val_loss: 0.2903 - val_acc: 1.0000\n",
      "Epoch 31/100\n",
      "90/90 [==============================] - 0s 322us/step - loss: 0.4366 - acc: 0.8556 - val_loss: 0.2894 - val_acc: 1.0000\n",
      "Epoch 32/100\n",
      "90/90 [==============================] - 0s 189us/step - loss: 0.4488 - acc: 0.8667 - val_loss: 0.3235 - val_acc: 0.9667\n",
      "Epoch 33/100\n",
      "90/90 [==============================] - 0s 122us/step - loss: 0.3974 - acc: 0.9444 - val_loss: 0.3011 - val_acc: 1.0000\n",
      "Epoch 34/100\n",
      "90/90 [==============================] - 0s 167us/step - loss: 0.3827 - acc: 0.9556 - val_loss: 0.2684 - val_acc: 1.0000\n",
      "Epoch 35/100\n",
      "90/90 [==============================] - 0s 155us/step - loss: 0.4419 - acc: 0.8778 - val_loss: 0.2953 - val_acc: 0.9667\n",
      "Epoch 36/100\n",
      "90/90 [==============================] - 0s 189us/step - loss: 0.3937 - acc: 0.9222 - val_loss: 0.3322 - val_acc: 0.9667\n",
      "Epoch 37/100\n",
      "90/90 [==============================] - 0s 155us/step - loss: 0.4337 - acc: 0.9000 - val_loss: 0.3247 - val_acc: 0.9667\n",
      "Epoch 38/100\n",
      "90/90 [==============================] - 0s 178us/step - loss: 0.4838 - acc: 0.8778 - val_loss: 0.3151 - val_acc: 1.0000\n",
      "Epoch 39/100\n",
      "90/90 [==============================] - 0s 144us/step - loss: 0.4409 - acc: 0.8889 - val_loss: 0.3011 - val_acc: 1.0000\n",
      "Epoch 40/100\n",
      "90/90 [==============================] - 0s 144us/step - loss: 0.4313 - acc: 0.8889 - val_loss: 0.3053 - val_acc: 1.0000\n",
      "Epoch 41/100\n",
      "90/90 [==============================] - 0s 155us/step - loss: 0.4519 - acc: 0.8444 - val_loss: 0.3090 - val_acc: 0.9667\n",
      "Epoch 42/100\n",
      "90/90 [==============================] - 0s 144us/step - loss: 0.4678 - acc: 0.8778 - val_loss: 0.3390 - val_acc: 0.9667\n",
      "Epoch 43/100\n",
      "90/90 [==============================] - 0s 167us/step - loss: 0.4181 - acc: 0.9222 - val_loss: 0.3440 - val_acc: 0.9000\n",
      "Epoch 44/100\n",
      "90/90 [==============================] - 0s 178us/step - loss: 0.4865 - acc: 0.8778 - val_loss: 0.2995 - val_acc: 1.0000\n"
     ]
    }
   ],
   "source": [
    "n_epochs=100\n",
    "\n",
    "stopper=EarlyStopping(monitor='val_loss', patience=10)\n",
    "hist=model.fit(X_train,Y_train, validation_split=0.25, epochs=n_epochs, verbose=1, callbacks=[stopper])"
   ]
  },
  {
   "cell_type": "code",
   "execution_count": null,
   "metadata": {},
   "outputs": [],
   "source": []
  }
 ],
 "metadata": {
  "kernelspec": {
   "display_name": "Python 3",
   "language": "python",
   "name": "python3"
  },
  "language_info": {
   "codemirror_mode": {
    "name": "ipython",
    "version": 3
   },
   "file_extension": ".py",
   "mimetype": "text/x-python",
   "name": "python",
   "nbconvert_exporter": "python",
   "pygments_lexer": "ipython3",
   "version": "3.6.5"
  }
 },
 "nbformat": 4,
 "nbformat_minor": 2
}
