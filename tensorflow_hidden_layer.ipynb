{
 "cells": [
  {
   "cell_type": "code",
   "execution_count": 1,
   "metadata": {},
   "outputs": [],
   "source": [
    "import numpy as np\n",
    "import tensorflow as tf"
   ]
  },
  {
   "cell_type": "code",
   "execution_count": 11,
   "metadata": {},
   "outputs": [],
   "source": [
    "X=np.array([[0,0],[0,1],[1,0],[1,1]])\n",
    "Y=np.array([[0],[1],[1],[0]])"
   ]
  },
  {
   "cell_type": "code",
   "execution_count": 30,
   "metadata": {},
   "outputs": [],
   "source": [
    "tf.set_random_seed(1234)\n",
    "in_dim=2\n",
    "in_dim2=3\n",
    "x=tf.placeholder(tf.float32,shape=[None,in_dim]) #1헹2열\n",
    "t=tf.placeholder(tf.float32,shape=[None,1])\n",
    "\n",
    "#입력층-은닉층\n",
    "W=tf.Variable(tf.truncated_normal([in_dim,in_dim2],seed=0)) #2행. 행렬곱에 의해 x의 열의 갯수와 같아야함.(in_dim)\n",
    "b=tf.Variable(tf.zeros([in_dim2]))\n",
    "h=tf.nn.sigmoid(tf.matmul(x,W)+b)\n",
    "\n",
    "#은닉층-출력층\n",
    "V=tf.Variable(tf.truncated_normal([in_dim2,1],seed=23)) #W의 열의 갯수,b의 차원, V의 행의 갯수가 같아야함.(in_dim2)\n",
    "c=tf.Variable(tf.zeros([1]))\n",
    "y=tf.nn.sigmoid(tf.matmul(h,V)+c)\n",
    "\n",
    "cross_entropy=-tf.reduce_mean(t*tf.log(y)+(1-t)*tf.log(1-y))\n",
    "\n",
    "lr=0.1\n",
    "optimizer=tf.train.GradientDescentOptimizer(lr)\n",
    "train_step=optimizer.minimize(cross_entropy)\n",
    "\n",
    "correct_prediction = tf.equal(tf.to_float(tf.greater(y,0.5)),t)"
   ]
  },
  {
   "cell_type": "code",
   "execution_count": 31,
   "metadata": {},
   "outputs": [
    {
     "name": "stdout",
     "output_type": "stream",
     "text": [
      "W=\n",
      " [[-0.30200204  1.99549484 -1.43466127]\n",
      " [ 0.05055132 -0.51051253  0.85555148]]\n",
      "V= [[-1.31181252]\n",
      " [ 0.15874536]\n",
      " [ 0.09491279]]\n"
     ]
    }
   ],
   "source": [
    "init=tf.global_variables_initializer()\n",
    "sess=tf.Session()\n",
    "sess.run(init)\n",
    "print(\"W=\\n\",sess.run(W))\n",
    "print(\"V=\",sess.run(V))"
   ]
  },
  {
   "cell_type": "code",
   "execution_count": 32,
   "metadata": {},
   "outputs": [
    {
     "name": "stdout",
     "output_type": "stream",
     "text": [
      "epoch: 0\n",
      "epoch: 1000\n",
      "epoch: 2000\n",
      "epoch: 3000\n",
      "epoch: 4000\n",
      "epoch: 5000\n",
      "epoch: 6000\n",
      "epoch: 7000\n"
     ]
    }
   ],
   "source": [
    "for epoch in range(8000):\n",
    "    sess.run(train_step, feed_dict={\n",
    "        x:X,\n",
    "        t:Y\n",
    "    })\n",
    "    if epoch%1000==0:\n",
    "        print('epoch:',epoch)"
   ]
  },
  {
   "cell_type": "code",
   "execution_count": 33,
   "metadata": {},
   "outputs": [
    {
     "name": "stdout",
     "output_type": "stream",
     "text": [
      "classified:  [[ True]\n",
      " [ True]\n",
      " [ True]\n",
      " [ True]]\n",
      "\n",
      "output probability:  [[ 0.01637425]\n",
      " [ 0.98344707]\n",
      " [ 0.98384976]\n",
      " [ 0.0132083 ]]\n"
     ]
    }
   ],
   "source": [
    "classified=correct_prediction.eval(session=sess,feed_dict={\n",
    "    x:X,\n",
    "    t:Y\n",
    "})\n",
    "prob=y.eval(session=sess, feed_dict={\n",
    "    x:X\n",
    "})\n",
    "\n",
    "print('classified: ', classified)\n",
    "print()\n",
    "print('output probability: ', prob)"
   ]
  },
  {
   "cell_type": "code",
   "execution_count": 34,
   "metadata": {},
   "outputs": [],
   "source": [
    "sess.close()"
   ]
  },
  {
   "cell_type": "code",
   "execution_count": 35,
   "metadata": {},
   "outputs": [],
   "source": [
    "from sklearn.datasets import load_iris\n",
    "from sklearn.model_selection import train_test_split"
   ]
  },
  {
   "cell_type": "code",
   "execution_count": 36,
   "metadata": {},
   "outputs": [
    {
     "name": "stdout",
     "output_type": "stream",
     "text": [
      "[0 0 0 0 0 0 0 0 0 0 0 0 0 0 0 0 0 0 0 0 0 0 0 0 0 0 0 0 0 0 0 0 0 0 0 0 0\n",
      " 0 0 0 0 0 0 0 0 0 0 0 0 0 1 1 1 1 1 1 1 1 1 1 1 1 1 1 1 1 1 1 1 1 1 1 1 1\n",
      " 1 1 1 1 1 1 1 1 1 1 1 1 1 1 1 1 1 1 1 1 1 1 1 1 1 1 2 2 2 2 2 2 2 2 2 2 2\n",
      " 2 2 2 2 2 2 2 2 2 2 2 2 2 2 2 2 2 2 2 2 2 2 2 2 2 2 2 2 2 2 2 2 2 2 2 2 2\n",
      " 2 2]\n"
     ]
    }
   ],
   "source": [
    "iris=load_iris()\n",
    "\n",
    "x=iris.data\n",
    "y=iris.target\n",
    "target_names=iris.target_names\n",
    "print(y)"
   ]
  },
  {
   "cell_type": "code",
   "execution_count": 20,
   "metadata": {},
   "outputs": [
    {
     "name": "stdout",
     "output_type": "stream",
     "text": [
      "(112, 4)\n",
      "(112,)\n"
     ]
    }
   ],
   "source": [
    "X_train,X_test,y_train,y_test=train_test_split(x,y,random_state=10,test_size=0.25)\n",
    "print(X_train.shape)\n",
    "print(y_train.shape)"
   ]
  },
  {
   "cell_type": "code",
   "execution_count": 38,
   "metadata": {},
   "outputs": [
    {
     "name": "stdout",
     "output_type": "stream",
     "text": [
      "[39 35 38]\n"
     ]
    }
   ],
   "source": [
    "count_train=np.bincount(y_train)\n",
    "print(count_train)"
   ]
  },
  {
   "cell_type": "code",
   "execution_count": 42,
   "metadata": {},
   "outputs": [
    {
     "name": "stdout",
     "output_type": "stream",
     "text": [
      "(112, 4) (112, 3)\n"
     ]
    }
   ],
   "source": [
    "Y_train=np.eye(3)[y_train].astype(int) #3x3 identity matrix 의 y_train -1 번째 row\n",
    "Y_test=np.eye(3)[y_test].astype(int)\n",
    "print(X_train.shape,Y_train.shape)"
   ]
  },
  {
   "cell_type": "code",
   "execution_count": 45,
   "metadata": {},
   "outputs": [],
   "source": [
    "in_dim=4\n",
    "out_dim=3"
   ]
  },
  {
   "cell_type": "code",
   "execution_count": 41,
   "metadata": {},
   "outputs": [],
   "source": [
    "tf.argmax?"
   ]
  },
  {
   "cell_type": "code",
   "execution_count": 54,
   "metadata": {},
   "outputs": [],
   "source": [
    "#model\n",
    "hidden_dim=10\n",
    "\n",
    "tf.set_random_seed(1234)\n",
    "x=tf.placeholder(tf.float32, shape=[None,in_dim])\n",
    "t=tf.placeholder(tf.float32, shape=[None,out_dim])\n",
    "\n",
    "#입력층-은닉층\n",
    "W=tf.Variable(tf.truncated_normal([in_dim,hidden_dim],seed=0))\n",
    "b=tf.Variable(tf.zeros([hidden_dim]))\n",
    "h=tf.nn.sigmoid(tf.matmul(x,W)+b)\n",
    "\n",
    "#은닉층-입력층\n",
    "V=tf.Variable(tf.truncated_normal([hidden_dim,out_dim],seed=23))\n",
    "c=tf.Variable(tf.zeros([out_dim]))\n",
    "y=tf.nn.softmax(tf.matmul(h,V)+c) #softmax : multiclass\n",
    "\n",
    "cross_entropy=-tf.reduce_mean(tf.reduce_sum(t*tf.log(y),reduction_indices=[1]))\n",
    "\n",
    "lr=0.05\n",
    "optimizer=tf.train.GradientDescentOptimizer(lr)\n",
    "train_step=optimizer.minimize(cross_entropy)\n",
    "\n",
    "correct_prediction=tf.equal(tf.argmax(y,1),tf.argmax(t,1))\n",
    "accuracy=tf.reduce_mean(tf.cast(correct_prediction,tf.float32))"
   ]
  },
  {
   "cell_type": "code",
   "execution_count": 48,
   "metadata": {},
   "outputs": [],
   "source": [
    "init=tf.global_variables_initializer()\n",
    "sess=tf.Session()\n",
    "sess.run(init)"
   ]
  },
  {
   "cell_type": "code",
   "execution_count": 52,
   "metadata": {},
   "outputs": [
    {
     "name": "stdout",
     "output_type": "stream",
     "text": [
      "train_set loss = 1.63547 \n",
      "train_set accuracy = 0.348214\n"
     ]
    }
   ],
   "source": [
    "loss_train=cross_entropy.eval(session=sess, feed_dict={\n",
    "    x:X_train,\n",
    "    t:Y_train\n",
    "})\n",
    "accuracy_train=accuracy.eval(session=sess, feed_dict={\n",
    "    x:X_train,\n",
    "    t:Y_train\n",
    "})\n",
    "\n",
    "print(\"train_set loss =\", loss_train, \"\\ntrain_set accuracy =\", accuracy_train)"
   ]
  },
  {
   "cell_type": "code",
   "execution_count": 53,
   "metadata": {},
   "outputs": [],
   "source": [
    "n_epoch =1000"
   ]
  },
  {
   "cell_type": "code",
   "execution_count": null,
   "metadata": {},
   "outputs": [],
   "source": []
  }
 ],
 "metadata": {
  "kernelspec": {
   "display_name": "Python 3",
   "language": "python",
   "name": "python3"
  },
  "language_info": {
   "codemirror_mode": {
    "name": "ipython",
    "version": 3
   },
   "file_extension": ".py",
   "mimetype": "text/x-python",
   "name": "python",
   "nbconvert_exporter": "python",
   "pygments_lexer": "ipython3",
   "version": "3.6.5"
  }
 },
 "nbformat": 4,
 "nbformat_minor": 2
}
