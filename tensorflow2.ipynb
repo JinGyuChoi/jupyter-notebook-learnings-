{
 "cells": [
  {
   "cell_type": "code",
   "execution_count": 1,
   "metadata": {},
   "outputs": [
    {
     "name": "stderr",
     "output_type": "stream",
     "text": [
      "C:\\Users\\JinGyu Choi\\Anaconda3\\lib\\site-packages\\h5py\\__init__.py:36: FutureWarning: Conversion of the second argument of issubdtype from `float` to `np.floating` is deprecated. In future, it will be treated as `np.float64 == np.dtype(float).type`.\n",
      "  from ._conv import register_converters as _register_converters\n"
     ]
    }
   ],
   "source": [
    "import tensorflow as tf"
   ]
  },
  {
   "cell_type": "code",
   "execution_count": 2,
   "metadata": {},
   "outputs": [],
   "source": [
    "import ortools"
   ]
  },
  {
   "cell_type": "code",
   "execution_count": 3,
   "metadata": {},
   "outputs": [
    {
     "name": "stderr",
     "output_type": "stream",
     "text": [
      "Using TensorFlow backend.\n"
     ]
    }
   ],
   "source": [
    "import keras"
   ]
  },
  {
   "cell_type": "code",
   "execution_count": 4,
   "metadata": {},
   "outputs": [],
   "source": [
    "import numpy as np\n",
    "import pandas as pd\n",
    "import matplotlib.pyplot as plt\n",
    "\n",
    "from sklearn.model_selection import train_test_split"
   ]
  },
  {
   "cell_type": "code",
   "execution_count": 5,
   "metadata": {},
   "outputs": [
    {
     "name": "stdout",
     "output_type": "stream",
     "text": [
      "Tensor(\"Const:0\", shape=(), dtype=float32)\n",
      "Tensor(\"Const_1:0\", shape=(), dtype=float32)\n",
      "Tensor(\"add:0\", shape=(), dtype=float32)\n",
      "<class 'tensorflow.python.framework.ops.Tensor'>\n"
     ]
    }
   ],
   "source": [
    "a=tf.constant(3.0, dtype=tf.float32)\n",
    "b=tf.constant(4.0)\n",
    "total=a+b\n",
    "print(a)\n",
    "print(b)\n",
    "print(total)\n",
    "print(type(total))"
   ]
  },
  {
   "cell_type": "code",
   "execution_count": 49,
   "metadata": {},
   "outputs": [
    {
     "name": "stdout",
     "output_type": "stream",
     "text": [
      "3.0\n",
      "7.0\n"
     ]
    }
   ],
   "source": [
    "sess=tf.Session()\n",
    "print(sess.run(a))\n",
    "print(sess.run(total))"
   ]
  },
  {
   "cell_type": "code",
   "execution_count": 50,
   "metadata": {},
   "outputs": [],
   "source": [
    "sess.close()"
   ]
  },
  {
   "cell_type": "code",
   "execution_count": 51,
   "metadata": {},
   "outputs": [
    {
     "name": "stdout",
     "output_type": "stream",
     "text": [
      "Tensor(\"Placeholder_5:0\", dtype=float32) Tensor(\"Placeholder_6:0\", dtype=float32) Tensor(\"add_6:0\", dtype=float32)\n"
     ]
    }
   ],
   "source": [
    "x=tf.placeholder(tf.float32)\n",
    "y=tf.placeholder(tf.float32)\n",
    "\n",
    "z=x+y\n",
    "print(x,y,z)"
   ]
  },
  {
   "cell_type": "code",
   "execution_count": 52,
   "metadata": {},
   "outputs": [],
   "source": [
    "sess=tf.Session()"
   ]
  },
  {
   "cell_type": "code",
   "execution_count": 10,
   "metadata": {},
   "outputs": [
    {
     "name": "stdout",
     "output_type": "stream",
     "text": [
      "7.5\n",
      "[ 4.  14.7 14.5]\n"
     ]
    }
   ],
   "source": [
    "print(sess.run(z, feed_dict={x:3.0 ,y:4.5}))\n",
    "print(sess.run(z, feed_dict={x:[3,5,4.5], y:[1,9.7,10]}))"
   ]
  },
  {
   "cell_type": "code",
   "execution_count": 11,
   "metadata": {},
   "outputs": [
    {
     "name": "stdout",
     "output_type": "stream",
     "text": [
      "7.5\n"
     ]
    }
   ],
   "source": [
    "zvalue=z.eval(session=tf.Session(),feed_dict={x:3, y:4.5})\n",
    "print(zvalue)"
   ]
  },
  {
   "cell_type": "code",
   "execution_count": 12,
   "metadata": {},
   "outputs": [],
   "source": [
    "sess.close()"
   ]
  },
  {
   "cell_type": "code",
   "execution_count": 13,
   "metadata": {},
   "outputs": [],
   "source": [
    "W=tf.Variable([0.2],dtype=tf.float32)\n",
    "b=tf.Variable([-0.2],dtype=tf.float32)\n",
    "x=tf.placeholder(tf.float32)\n",
    "\n",
    "y=W*x+b\n",
    "sess=tf.Session()"
   ]
  },
  {
   "cell_type": "code",
   "execution_count": 14,
   "metadata": {},
   "outputs": [],
   "source": [
    "init=tf.global_variables_initializer()\n",
    "sess.run(init)"
   ]
  },
  {
   "cell_type": "code",
   "execution_count": 15,
   "metadata": {},
   "outputs": [
    {
     "name": "stdout",
     "output_type": "stream",
     "text": [
      "[0.2]\n"
     ]
    }
   ],
   "source": [
    "print(sess.run(y,feed_dict={x:2}))#initialize 먼저 해야함!"
   ]
  },
  {
   "cell_type": "code",
   "execution_count": 16,
   "metadata": {},
   "outputs": [
    {
     "name": "stdout",
     "output_type": "stream",
     "text": [
      "<tf.Variable 'Variable:0' shape=(1,) dtype=float32_ref> <tf.Variable 'Variable_1:0' shape=(1,) dtype=float32_ref>\n",
      "[-0.04]\n"
     ]
    }
   ],
   "source": [
    "print(W,b)\n",
    "print(sess.run(W)*sess.run(b))"
   ]
  },
  {
   "cell_type": "code",
   "execution_count": 17,
   "metadata": {},
   "outputs": [
    {
     "name": "stdout",
     "output_type": "stream",
     "text": [
      "(array([4.], dtype=float32), array([8.5], dtype=float32))\n",
      "[20.5]\n"
     ]
    }
   ],
   "source": [
    "W=tf.assign(W,[4.0])\n",
    "b=tf.assign(b,[8.5])\n",
    "print(sess.run((W,b)))\n",
    "print(sess.run(y,feed_dict={x:3}))"
   ]
  },
  {
   "cell_type": "code",
   "execution_count": 18,
   "metadata": {},
   "outputs": [],
   "source": [
    "sess.close()"
   ]
  },
  {
   "cell_type": "code",
   "execution_count": 19,
   "metadata": {},
   "outputs": [
    {
     "data": {
      "text/html": [
       "<div>\n",
       "<style scoped>\n",
       "    .dataframe tbody tr th:only-of-type {\n",
       "        vertical-align: middle;\n",
       "    }\n",
       "\n",
       "    .dataframe tbody tr th {\n",
       "        vertical-align: top;\n",
       "    }\n",
       "\n",
       "    .dataframe thead th {\n",
       "        text-align: right;\n",
       "    }\n",
       "</style>\n",
       "<table border=\"1\" class=\"dataframe\">\n",
       "  <thead>\n",
       "    <tr style=\"text-align: right;\">\n",
       "      <th></th>\n",
       "      <th>x</th>\n",
       "      <th>y</th>\n",
       "    </tr>\n",
       "  </thead>\n",
       "  <tbody>\n",
       "    <tr>\n",
       "      <th>0</th>\n",
       "      <td>0.431086</td>\n",
       "      <td>0.794687</td>\n",
       "    </tr>\n",
       "    <tr>\n",
       "      <th>1</th>\n",
       "      <td>0.676032</td>\n",
       "      <td>0.339175</td>\n",
       "    </tr>\n",
       "    <tr>\n",
       "      <th>2</th>\n",
       "      <td>-1.215988</td>\n",
       "      <td>-1.176260</td>\n",
       "    </tr>\n",
       "    <tr>\n",
       "      <th>3</th>\n",
       "      <td>0.534917</td>\n",
       "      <td>0.025879</td>\n",
       "    </tr>\n",
       "    <tr>\n",
       "      <th>4</th>\n",
       "      <td>-0.256216</td>\n",
       "      <td>-0.435692</td>\n",
       "    </tr>\n",
       "  </tbody>\n",
       "</table>\n",
       "</div>"
      ],
      "text/plain": [
       "          x         y\n",
       "0  0.431086  0.794687\n",
       "1  0.676032  0.339175\n",
       "2 -1.215988 -1.176260\n",
       "3  0.534917  0.025879\n",
       "4 -0.256216 -0.435692"
      ]
     },
     "execution_count": 19,
     "metadata": {},
     "output_type": "execute_result"
    }
   ],
   "source": [
    "df=pd.read_csv('regression_data1.csv')\n",
    "df.head()"
   ]
  },
  {
   "cell_type": "code",
   "execution_count": 20,
   "metadata": {},
   "outputs": [],
   "source": [
    "X=df.values[:,0]\n",
    "Y=df.values[:,1]"
   ]
  },
  {
   "cell_type": "code",
   "execution_count": 21,
   "metadata": {},
   "outputs": [
    {
     "name": "stdout",
     "output_type": "stream",
     "text": [
      "(20,)\n"
     ]
    }
   ],
   "source": [
    "print(X.shape)"
   ]
  },
  {
   "cell_type": "code",
   "execution_count": 22,
   "metadata": {},
   "outputs": [
    {
     "name": "stdout",
     "output_type": "stream",
     "text": [
      "(15,)\n"
     ]
    }
   ],
   "source": [
    "X_train,X_test,y_train,y_test=train_test_split(X,Y,random_state=21,test_size=0.25)\n",
    "print(X_train.shape)"
   ]
  },
  {
   "cell_type": "code",
   "execution_count": 53,
   "metadata": {},
   "outputs": [],
   "source": [
    "W=tf.Variable([0.3],dtype=tf.float32)\n",
    "b=tf.Variable([-0.2],dtype=tf.float32)\n",
    "\n",
    "x=tf.placeholder(tf.float32)\n",
    "y=tf.placeholder(tf.float32)\n",
    "\n",
    "linear_model=W*x + b"
   ]
  },
  {
   "cell_type": "code",
   "execution_count": 54,
   "metadata": {},
   "outputs": [],
   "source": [
    "squared_deltas=tf.square(linear_model-y)\n",
    "loss=tf.reduce_sum(squared_deltas)"
   ]
  },
  {
   "cell_type": "code",
   "execution_count": 55,
   "metadata": {},
   "outputs": [],
   "source": [
    "optimizer=tf.train.GradientDescentOptimizer(0.01)\n",
    "train=optimizer.minimize(loss)"
   ]
  },
  {
   "cell_type": "code",
   "execution_count": 56,
   "metadata": {},
   "outputs": [],
   "source": [
    "init=tf.global_variables_initializer()\n",
    "sess=tf.Session()\n",
    "sess.run(init)"
   ]
  },
  {
   "cell_type": "code",
   "execution_count": 57,
   "metadata": {},
   "outputs": [
    {
     "name": "stdout",
     "output_type": "stream",
     "text": [
      "W= [0.3]\n",
      "b= [-0.2]\n",
      "2.6862037\n"
     ]
    }
   ],
   "source": [
    "print('W=', sess.run(W))\n",
    "print('b=', sess.run(b))\n",
    "print(loss.eval(session=sess, feed_dict={x:X_train,y:y_train}))"
   ]
  },
  {
   "cell_type": "code",
   "execution_count": 58,
   "metadata": {},
   "outputs": [
    {
     "name": "stdout",
     "output_type": "stream",
     "text": [
      "epoch = 9\n",
      "1.4446325\n",
      "[0.5291031]\n",
      "[0.0242209]\n",
      "\n",
      "epoch = 19\n",
      "1.423313\n",
      "[0.56313676]\n",
      "[0.0492902]\n",
      "\n",
      "epoch = 29\n",
      "1.4229337\n",
      "[0.56771684]\n",
      "[0.05257907]\n",
      "\n",
      "epoch = 39\n",
      "1.422927\n",
      "[0.5683283]\n",
      "[0.05301718]\n",
      "\n",
      "epoch = 49\n",
      "1.4229269\n",
      "[0.56840986]\n",
      "[0.05307562]\n",
      "\n",
      "epoch = 59\n",
      "1.4229269\n",
      "[0.56842077]\n",
      "[0.05308342]\n",
      "\n",
      "epoch = 69\n",
      "1.4229269\n",
      "[0.56842226]\n",
      "[0.05308446]\n",
      "\n",
      "epoch = 79\n",
      "1.4229269\n",
      "[0.5684223]\n",
      "[0.05308458]\n",
      "\n",
      "epoch = 89\n",
      "1.4229269\n",
      "[0.5684223]\n",
      "[0.05308458]\n",
      "\n",
      "epoch = 99\n",
      "1.4229269\n",
      "[0.5684223]\n",
      "[0.05308458]\n",
      "\n"
     ]
    }
   ],
   "source": [
    "for epoch in range(100):\n",
    "    sess.run(train, feed_dict={\n",
    "        x:X_train,\n",
    "        y:y_train\n",
    "    })\n",
    "    if(epoch%10==9):\n",
    "        print(\"epoch =\", epoch)\n",
    "        print(loss.eval(session=sess, feed_dict={x:X_train, y:y_train}))\n",
    "        print(sess.run(W))\n",
    "        print(sess.run(b))\n",
    "        print()"
   ]
  },
  {
   "cell_type": "code",
   "execution_count": 59,
   "metadata": {},
   "outputs": [
    {
     "name": "stdout",
     "output_type": "stream",
     "text": [
      "0.14462306\n"
     ]
    }
   ],
   "source": [
    "print(loss.eval(session=sess,feed_dict={x:X_test,y:y_test}))"
   ]
  },
  {
   "cell_type": "code",
   "execution_count": 60,
   "metadata": {},
   "outputs": [
    {
     "name": "stdout",
     "output_type": "stream",
     "text": [
      "[ 0.4331768   0.8431057  -0.87517047 -0.29272288  0.58336246]\n",
      "[ 0.14714283  0.87566553 -0.67893383 -0.44000164  0.54402263]\n"
     ]
    }
   ],
   "source": [
    "y_test_pred=linear_model.eval(session=sess,feed_dict={x:X_test})\n",
    "print(y_test_pred)\n",
    "print(y_test)"
   ]
  },
  {
   "cell_type": "code",
   "execution_count": 61,
   "metadata": {},
   "outputs": [
    {
     "name": "stdout",
     "output_type": "stream",
     "text": [
      "[0.5684223] [0.05308458]\n"
     ]
    }
   ],
   "source": [
    "W=sess.run(W)\n",
    "b=sess.run(b)\n",
    "print(W,b)"
   ]
  },
  {
   "cell_type": "code",
   "execution_count": 62,
   "metadata": {},
   "outputs": [
    {
     "data": {
      "image/png": "[encoded data removed]",
      "text/plain": [
       "<Figure size 432x288 with 1 Axes>"
      ]
     },
     "metadata": {},
     "output_type": "display_data"
    }
   ],
   "source": [
    "xval=np.linspace(-2,2,101)\n",
    "yval=W*xval+b\n",
    "\n",
    "plt.plot(xval,yval,c='r',label='Linear Model')\n",
    "plt.scatter(X_train,y_train,c='b',marker='o',label='train set')\n",
    "plt.scatter(X_test,y_test,c='k',marker='s',label='test set')\n",
    "\n",
    "plt.xlim((-2,2))\n",
    "plt.ylim((-1.5,1.5))\n",
    "plt.legend()\n",
    "plt.show()"
   ]
  },
  {
   "cell_type": "code",
   "execution_count": 63,
   "metadata": {},
   "outputs": [],
   "source": [
    "sess.close()"
   ]
  },
  {
   "cell_type": "code",
   "execution_count": 64,
   "metadata": {},
   "outputs": [],
   "source": [
    "X=np.array([[0,0],[0,1],[1,0],[1,1]])\n",
    "Y=np.array([[0],[1],[1],[1]])"
   ]
  },
  {
   "cell_type": "code",
   "execution_count": 65,
   "metadata": {},
   "outputs": [],
   "source": [
    "#tf.truncated_normal?"
   ]
  },
  {
   "cell_type": "code",
   "execution_count": 66,
   "metadata": {},
   "outputs": [],
   "source": [
    "tf.set_random_seed(1234)\n",
    "w=tf.Variable(tf.truncated_normal([2,1],seed=0),name='Weights')\n",
    "b=tf.Variable(tf.zeros([1]),name='Bias')\n",
    "\n",
    "x=tf.placeholder(tf.float32,shape=[None,2],name='Input')\n",
    "t=tf.placeholder(tf.float32,shape=[None,1],name='Target')\n",
    "\n",
    "y=tf.nn.sigmoid(tf.matmul(x,w)+b)\n",
    "\n",
    "cross_entropy=-tf.reduce_mean(t*tf.log(y)+(1-t)*tf.log(1-y))\n",
    "optimizer=tf.train.GradientDescentOptimizer(0.01)\n",
    "train_step=optimizer.minimize(cross_entropy)\n",
    "\n",
    "correct_prediction=tf.equal(tf.to_float(tf.greater(y,0.5)),t)\n"
   ]
  },
  {
   "cell_type": "code",
   "execution_count": 67,
   "metadata": {},
   "outputs": [
    {
     "name": "stdout",
     "output_type": "stream",
     "text": [
      "[0.]\n"
     ]
    }
   ],
   "source": [
    "init=tf.global_variables_initializer()\n",
    "sess=tf.Session()\n",
    "sess.run(init)\n",
    "print(sess.run(b))"
   ]
  },
  {
   "cell_type": "code",
   "execution_count": 68,
   "metadata": {},
   "outputs": [
    {
     "name": "stdout",
     "output_type": "stream",
     "text": [
      "w= [[-0.30200204]\n",
      " [ 1.9954948 ]]\n",
      "b= [0.]\n",
      "[[0.5       ]\n",
      " [0.88032323]\n",
      " [0.42506817]\n",
      " [0.84468293]]\n",
      "0.46122825\n",
      "[[ True]\n",
      " [ True]\n",
      " [False]\n",
      " [ True]]\n"
     ]
    }
   ],
   "source": [
    "# 학습 이전\n",
    "print(\"w=\",sess.run(w))\n",
    "print(\"b=\",sess.run(b))\n",
    "prob=y.eval(session=sess,feed_dict={x:X})\n",
    "print(prob)\n",
    "print(sess.run(cross_entropy,feed_dict={x:X,t:Y}))\n",
    "classfied=correct_prediction.eval(session=sess,feed_dict={x:X,t:Y}) # 0.5보다 크면 true 작으면 false\n",
    "print(classfied)"
   ]
  },
  {
   "cell_type": "code",
   "execution_count": 69,
   "metadata": {},
   "outputs": [
    {
     "name": "stdout",
     "output_type": "stream",
     "text": [
      "eppch= 0\n",
      "0.46077168\n",
      "\n",
      "eppch= 10\n",
      "0.45630616\n",
      "\n",
      "eppch= 20\n",
      "0.45201617\n",
      "\n",
      "eppch= 30\n",
      "0.44789195\n",
      "\n",
      "eppch= 40\n",
      "0.44392407\n",
      "\n",
      "eppch= 50\n",
      "0.44010368\n",
      "\n",
      "eppch= 60\n",
      "0.4364228\n",
      "\n",
      "eppch= 70\n",
      "0.43287373\n",
      "\n",
      "eppch= 80\n",
      "0.4294493\n",
      "\n",
      "eppch= 90\n",
      "0.42614284\n",
      "\n",
      "eppch= 100\n",
      "0.422948\n",
      "\n",
      "eppch= 110\n",
      "0.41985893\n",
      "\n",
      "eppch= 120\n",
      "0.41687\n",
      "\n",
      "eppch= 130\n",
      "0.41397604\n",
      "\n",
      "eppch= 140\n",
      "0.41117224\n",
      "\n",
      "eppch= 150\n",
      "0.4084539\n",
      "\n",
      "eppch= 160\n",
      "0.40581673\n",
      "\n",
      "eppch= 170\n",
      "0.40325668\n",
      "\n",
      "eppch= 180\n",
      "0.40076995\n",
      "\n",
      "eppch= 190\n",
      "0.39835283\n",
      "\n",
      "eppch= 200\n",
      "0.39600196\n",
      "\n",
      "eppch= 210\n",
      "0.39371422\n",
      "\n",
      "eppch= 220\n",
      "0.39148644\n",
      "\n",
      "eppch= 230\n",
      "0.3893159\n",
      "\n",
      "eppch= 240\n",
      "0.3871999\n",
      "\n",
      "eppch= 250\n",
      "0.38513586\n",
      "\n",
      "eppch= 260\n",
      "0.38312134\n",
      "\n",
      "eppch= 270\n",
      "0.38115424\n",
      "\n",
      "eppch= 280\n",
      "0.37923214\n",
      "\n",
      "eppch= 290\n",
      "0.37735337\n",
      "\n",
      "eppch= 300\n",
      "0.3755157\n",
      "\n",
      "eppch= 310\n",
      "0.37371752\n",
      "\n",
      "eppch= 320\n",
      "0.37195706\n",
      "\n",
      "eppch= 330\n",
      "0.3702326\n",
      "\n",
      "eppch= 340\n",
      "0.36854276\n",
      "\n",
      "eppch= 350\n",
      "0.366886\n",
      "\n",
      "eppch= 360\n",
      "0.36526096\n",
      "\n",
      "eppch= 370\n",
      "0.36366636\n",
      "\n",
      "eppch= 380\n",
      "0.36210087\n",
      "\n",
      "eppch= 390\n",
      "0.36056337\n",
      "\n",
      "eppch= 400\n",
      "0.35905266\n",
      "\n",
      "eppch= 410\n",
      "0.35756785\n",
      "\n",
      "eppch= 420\n",
      "0.35610783\n",
      "\n",
      "eppch= 430\n",
      "0.3546716\n",
      "\n",
      "eppch= 440\n",
      "0.35325834\n",
      "\n",
      "eppch= 450\n",
      "0.35186714\n",
      "\n",
      "eppch= 460\n",
      "0.35049716\n",
      "\n",
      "eppch= 470\n",
      "0.34914765\n",
      "\n",
      "eppch= 480\n",
      "0.34781778\n",
      "\n",
      "eppch= 490\n",
      "0.34650692\n",
      "\n"
     ]
    }
   ],
   "source": [
    "for epoch in range(500):\n",
    "    sess.run(train_step, feed_dict={\n",
    "        x:X,\n",
    "        t:Y\n",
    "    })\n",
    "    if epoch%10==0:\n",
    "        print('eppch=',epoch)\n",
    "        print(sess.run(cross_entropy,feed_dict={x:X,t:Y}))\n",
    "        print()"
   ]
  },
  {
   "cell_type": "code",
   "execution_count": 70,
   "metadata": {},
   "outputs": [
    {
     "name": "stdout",
     "output_type": "stream",
     "text": [
      "[[False]\n",
      " [ True]\n",
      " [ True]\n",
      " [ True]]\n"
     ]
    }
   ],
   "source": [
    "#학습 후\n",
    "classified=correct_prediction.eval(session=sess,feed_dict={x:X,t:Y})\n",
    "print(classified)"
   ]
  },
  {
   "cell_type": "code",
   "execution_count": 71,
   "metadata": {},
   "outputs": [],
   "source": [
    "sess.close()"
   ]
  },
  {
   "cell_type": "code",
   "execution_count": null,
   "metadata": {},
   "outputs": [],
   "source": []
  }
 ],
 "metadata": {
  "kernelspec": {
   "display_name": "Python 3",
   "language": "python",
   "name": "python3"
  },
  "language_info": {
   "codemirror_mode": {
    "name": "ipython",
    "version": 3
   },
   "file_extension": ".py",
   "mimetype": "text/x-python",
   "name": "python",
   "nbconvert_exporter": "python",
   "pygments_lexer": "ipython3",
   "version": "3.6.5"
  }
 },
 "nbformat": 4,
 "nbformat_minor": 2
}
