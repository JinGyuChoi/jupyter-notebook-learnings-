{
 "cells": [
  {
   "cell_type": "code",
   "execution_count": 1,
   "metadata": {},
   "outputs": [],
   "source": [
    "import numpy as np\n",
    "import pandas as pd\n",
    "import matplotlib.pyplot as plt\n",
    "\n",
    "from sklearn.model_selection import train_test_split"
   ]
  },
  {
   "cell_type": "code",
   "execution_count": 2,
   "metadata": {},
   "outputs": [],
   "source": [
    "df=pd.read_csv(\"binary_class_data1.csv\")"
   ]
  },
  {
   "cell_type": "code",
   "execution_count": 3,
   "metadata": {},
   "outputs": [],
   "source": [
    "x=df.values[:,0:2]\n",
    "y=df.values[:,2]"
   ]
  },
  {
   "cell_type": "code",
   "execution_count": 5,
   "metadata": {},
   "outputs": [],
   "source": [
    "X_train,X_test,y_train,y_test=train_test_split(x,y,random_state=21,test_size=0.25)"
   ]
  },
  {
   "cell_type": "code",
   "execution_count": 7,
   "metadata": {},
   "outputs": [
    {
     "data": {
      "image/png": "[encoded data removed]",
      "text/plain": [
       "<matplotlib.figure.Figure at 0x7fb89eb220f0>"
      ]
     },
     "metadata": {},
     "output_type": "display_data"
    }
   ],
   "source": [
    "plt.scatter(X_train[y_train==0,0],X_train[y_train==0,1],\n",
    "           color='b',marker='o',label='class 0')\n",
    "plt.scatter(X_train[y_train==1,0],X_train[y_train==1,1],\n",
    "           color='k',marker='^' ,label='class 1')\n",
    "plt.legend()\n",
    "plt.title('binary class data')\n",
    "plt.show()"
   ]
  },
  {
   "cell_type": "code",
   "execution_count": 8,
   "metadata": {},
   "outputs": [],
   "source": [
    "from sklearn.svm import SVC"
   ]
  },
  {
   "cell_type": "code",
   "execution_count": 21,
   "metadata": {},
   "outputs": [
    {
     "data": {
      "text/plain": [
       "SVC(C=100.0, cache_size=200, class_weight=None, coef0=0.0,\n",
       "  decision_function_shape=None, degree=3, gamma='auto', kernel='linear',\n",
       "  max_iter=-1, probability=False, random_state=None, shrinking=True,\n",
       "  tol=0.001, verbose=False)"
      ]
     },
     "execution_count": 21,
     "metadata": {},
     "output_type": "execute_result"
    }
   ],
   "source": [
    "svmClf=SVC(C=100.0, kernel='linear')\n",
    "svmClf.fit(X_train,y_train)"
   ]
  },
  {
   "cell_type": "code",
   "execution_count": 22,
   "metadata": {},
   "outputs": [
    {
     "name": "stdout",
     "output_type": "stream",
     "text": [
      "[ 1.  0.  1.  0.  0.  1.  1.  1.  0.  1.  1.  1.  1.  0.  1.  1.  1.  1.\n",
      "  1.  0.  1.  0.  0.  0.  0.  0.  1.]\n",
      "[ 1.  0.  1.  0.  0.  1.  1.  1.  0.  1.  1.  1.  1.  0.  1.  1.  1.  1.\n",
      "  1.  0.  1.  0.  0.  0.  0.  0.  1.]\n"
     ]
    }
   ],
   "source": [
    "print(svmClf.predict(X_train))\n",
    "print(y_train)"
   ]
  },
  {
   "cell_type": "code",
   "execution_count": 23,
   "metadata": {},
   "outputs": [
    {
     "name": "stdout",
     "output_type": "stream",
     "text": [
      "[ 1.  1.  0.  0.  1.  0.  1.  0.  0.]\n",
      "[ 1.  1.  0.  0.  1.  0.  1.  0.  0.]\n"
     ]
    }
   ],
   "source": [
    "print(svmClf.predict(X_test))\n",
    "print(y_test)"
   ]
  },
  {
   "cell_type": "code",
   "execution_count": 24,
   "metadata": {},
   "outputs": [
    {
     "name": "stdout",
     "output_type": "stream",
     "text": [
      "[ 3 11 20]\n",
      "[[ 4.46134719 -1.65668693]\n",
      " [ 3.71914756 -1.94247838]\n",
      " [ 5.06766836  0.39353659]]\n"
     ]
    }
   ],
   "source": [
    "print(svmClf.support_)\n",
    "print(svmClf.support_vectors_)"
   ]
  },
  {
   "cell_type": "code",
   "execution_count": 25,
   "metadata": {},
   "outputs": [
    {
     "name": "stdout",
     "output_type": "stream",
     "text": [
      "[[-3.46430952  2.00002485]]\n",
      "[ 17.76902618]\n"
     ]
    }
   ],
   "source": [
    "print(svmClf.coef_)\n",
    "print(svmClf.intercept_)"
   ]
  },
  {
   "cell_type": "code",
   "execution_count": 26,
   "metadata": {},
   "outputs": [
    {
     "data": {
      "image/png": "[encoded data removed]",
      "text/plain": [
       "<matplotlib.figure.Figure at 0x7fb88b13fa20>"
      ]
     },
     "metadata": {},
     "output_type": "display_data"
    }
   ],
   "source": [
    "m=-svmClf.coef_[0,0]/svmClf.coef_[0,1]\n",
    "b=-svmClf.intercept_/svmClf.coef_[0,1]\n",
    "\n",
    "xval=np.linspace(1,7,101)\n",
    "yval=m*xval+b\n",
    "\n",
    "plt.plot(xval,yval,color='r')\n",
    "\n",
    "plt.scatter(X_train[y_train==0,0],X_train[y_train==0,1], color='k', marker='o', label='class 0')\n",
    "plt.scatter(X_train[y_train==1,0],X_train[y_train==1,1], color='b', marker='^', label='class 1')\n",
    "plt.legend()\n",
    "plt.title('binary class data')\n",
    "plt.show()"
   ]
  },
  {
   "cell_type": "code",
   "execution_count": null,
   "metadata": {},
   "outputs": [],
   "source": []
  }
 ],
 "metadata": {
  "kernelspec": {
   "display_name": "Python 3",
   "language": "python",
   "name": "python3"
  },
  "language_info": {
   "codemirror_mode": {
    "name": "ipython",
    "version": 3
   },
   "file_extension": ".py",
   "mimetype": "text/x-python",
   "name": "python",
   "nbconvert_exporter": "python",
   "pygments_lexer": "ipython3",
   "version": "3.6.3"
  }
 },
 "nbformat": 4,
 "nbformat_minor": 2
}
