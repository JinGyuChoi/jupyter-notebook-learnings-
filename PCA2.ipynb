{
 "cells": [
  {
   "cell_type": "code",
   "execution_count": 1,
   "metadata": {},
   "outputs": [],
   "source": [
    "import numpy as np\n",
    "import matplotlib.pyplot as plt\n",
    "\n",
    "from sklearn.decomposition import PCA"
   ]
  },
  {
   "cell_type": "code",
   "execution_count": 37,
   "metadata": {},
   "outputs": [
    {
     "name": "stdout",
     "output_type": "stream",
     "text": [
      "(6, 2)\n"
     ]
    }
   ],
   "source": [
    "X=np.array([[-1,1],[-2,-1],[-3,-2],[1,1],[2,1],[3,2]])\n",
    "print(X.shape)"
   ]
  },
  {
   "cell_type": "code",
   "execution_count": 3,
   "metadata": {},
   "outputs": [
    {
     "data": {
      "image/png": "[encoded data removed]",
      "text/plain": [
       "<Figure size 432x288 with 1 Axes>"
      ]
     },
     "metadata": {},
     "output_type": "display_data"
    }
   ],
   "source": [
    "plt.scatter(X[:,0],X[:,1])\n",
    "plt.show()"
   ]
  },
  {
   "cell_type": "code",
   "execution_count": 36,
   "metadata": {},
   "outputs": [],
   "source": [
    "#PCA?\n",
    "pca=PCA(n_components=2)"
   ]
  },
  {
   "cell_type": "code",
   "execution_count": 41,
   "metadata": {},
   "outputs": [
    {
     "data": {
      "text/plain": [
       "PCA(copy=True, iterated_power='auto', n_components=2, random_state=None,\n",
       "  svd_solver='auto', tol=0.0, whiten=False)"
      ]
     },
     "execution_count": 41,
     "metadata": {},
     "output_type": "execute_result"
    }
   ],
   "source": [
    "pca.fit(X)\n",
    "#print(pca.fit(X))"
   ]
  },
  {
   "cell_type": "code",
   "execution_count": 30,
   "metadata": {},
   "outputs": [
    {
     "name": "stdout",
     "output_type": "stream",
     "text": [
      "[[-0.8549662  -0.51868371]\n",
      " [-0.51868371  0.8549662 ]]\n"
     ]
    }
   ],
   "source": [
    "print(pca.components_) #principal component vectors"
   ]
  },
  {
   "cell_type": "code",
   "execution_count": 31,
   "metadata": {},
   "outputs": [
    {
     "name": "stdout",
     "output_type": "stream",
     "text": [
      "[7.5413491  0.32531757]\n"
     ]
    }
   ],
   "source": [
    "print(pca.explained_variance_)"
   ]
  },
  {
   "cell_type": "code",
   "execution_count": 32,
   "metadata": {},
   "outputs": [
    {
     "name": "stdout",
     "output_type": "stream",
     "text": [
      "[0.95864607 0.04135393]\n"
     ]
    }
   ],
   "source": [
    "print(pca.explained_variance_ratio_)"
   ]
  },
  {
   "cell_type": "code",
   "execution_count": 33,
   "metadata": {},
   "outputs": [
    {
     "name": "stdout",
     "output_type": "stream",
     "text": [
      "[6.14058185 1.27537752]\n"
     ]
    }
   ],
   "source": [
    "print(pca.singular_values_)"
   ]
  },
  {
   "cell_type": "code",
   "execution_count": 35,
   "metadata": {},
   "outputs": [
    {
     "data": {
      "image/png": "[encoded data removed]",
      "text/plain": [
       "<Figure size 432x288 with 1 Axes>"
      ]
     },
     "metadata": {},
     "output_type": "display_data"
    }
   ],
   "source": [
    "tval=np.linspace(-4,4,1001)\n",
    "xval=tval*pca.components_[0,0]\n",
    "yval=tval*pca.components_[0,1] #첫번째 벡터만 본거\n",
    "\n",
    "plt.plot(xval,yval,c='r')\n",
    "plt.scatter(X[:,0],X[:,1])\n",
    "\n",
    "plt.show()"
   ]
  },
  {
   "cell_type": "code",
   "execution_count": 61,
   "metadata": {},
   "outputs": [],
   "source": [
    "#pca.transform?\n",
    "X_r=pca.fit(X).transform(X)"
   ]
  },
  {
   "cell_type": "code",
   "execution_count": 49,
   "metadata": {},
   "outputs": [
    {
     "name": "stdout",
     "output_type": "stream",
     "text": [
      "[[ 0.50917706  1.08866118]\n",
      " [ 2.40151069 -0.10258752]\n",
      " [ 3.7751606  -0.43887001]\n",
      " [-1.20075534  0.05129376]\n",
      " [-2.05572155 -0.46738995]\n",
      " [-3.42937146 -0.13110746]]\n",
      "(6, 2)\n",
      "[[ 0.33628249  1.37364991]\n",
      " [ 2.22861612  0.18240122]\n",
      " [ 3.60226603 -0.15388128]\n",
      " [-1.37364991  0.33628249]\n",
      " [-2.22861612 -0.18240122]\n",
      " [-3.60226603  0.15388128]]\n"
     ]
    }
   ],
   "source": [
    "print(X_r)\n",
    "print(X_r.shape)\n",
    "print(np.matmul(X,pca.components_.T))"
   ]
  },
  {
   "cell_type": "code",
   "execution_count": 51,
   "metadata": {},
   "outputs": [
    {
     "name": "stdout",
     "output_type": "stream",
     "text": [
      "Help on function load_iris in module sklearn.datasets.base:\n",
      "\n",
      "load_iris(return_X_y=False)\n",
      "    Load and return the iris dataset (classification).\n",
      "    \n",
      "    The iris dataset is a classic and very easy multi-class classification\n",
      "    dataset.\n",
      "    \n",
      "    =================   ==============\n",
      "    Classes                          3\n",
      "    Samples per class               50\n",
      "    Samples total                  150\n",
      "    Dimensionality                   4\n",
      "    Features            real, positive\n",
      "    =================   ==============\n",
      "    \n",
      "    Read more in the :ref:`User Guide <datasets>`.\n",
      "    \n",
      "    Parameters\n",
      "    ----------\n",
      "    return_X_y : boolean, default=False.\n",
      "        If True, returns ``(data, target)`` instead of a Bunch object. See\n",
      "        below for more information about the `data` and `target` object.\n",
      "    \n",
      "        .. versionadded:: 0.18\n",
      "    \n",
      "    Returns\n",
      "    -------\n",
      "    data : Bunch\n",
      "        Dictionary-like object, the interesting attributes are:\n",
      "        'data', the data to learn, 'target', the classification labels,\n",
      "        'target_names', the meaning of the labels, 'feature_names', the\n",
      "        meaning of the features, and 'DESCR', the\n",
      "        full description of the dataset.\n",
      "    \n",
      "    (data, target) : tuple if ``return_X_y`` is True\n",
      "    \n",
      "        .. versionadded:: 0.18\n",
      "    \n",
      "    Examples\n",
      "    --------\n",
      "    Let's say you are interested in the samples 10, 25, and 50, and want to\n",
      "    know their class name.\n",
      "    \n",
      "    >>> from sklearn.datasets import load_iris\n",
      "    >>> data = load_iris()\n",
      "    >>> data.target[[10, 25, 50]]\n",
      "    array([0, 0, 1])\n",
      "    >>> list(data.target_names)\n",
      "    ['setosa', 'versicolor', 'virginica']\n",
      "\n"
     ]
    }
   ],
   "source": [
    "from sklearn.datasets import load_iris\n",
    "help(load_iris)"
   ]
  },
  {
   "cell_type": "code",
   "execution_count": 52,
   "metadata": {},
   "outputs": [
    {
     "name": "stdout",
     "output_type": "stream",
     "text": [
      "dict_keys(['data', 'target', 'target_names', 'DESCR', 'feature_names'])\n"
     ]
    }
   ],
   "source": [
    "iris=load_iris()\n",
    "print(iris.keys())"
   ]
  },
  {
   "cell_type": "code",
   "execution_count": 55,
   "metadata": {},
   "outputs": [],
   "source": [
    "X=iris.data\n",
    "y=iris.target\n",
    "target_names=iris.target_names"
   ]
  },
  {
   "cell_type": "code",
   "execution_count": 59,
   "metadata": {},
   "outputs": [
    {
     "data": {
      "image/png": "[encoded data removed]",
      "text/plain": [
       "<Figure size 432x288 with 1 Axes>"
      ]
     },
     "metadata": {},
     "output_type": "display_data"
    }
   ],
   "source": [
    "colors=['r','blue','black']\n",
    "markers=['s','^','o']\n",
    "ax1 = 1\n",
    "ax2 = 3\n",
    "for col, mark, i, tname in zip(colors, markers, range(3), target_names):\n",
    "    plt.scatter(X[y==i,ax1], X[y==i,ax2], color=col, marker=mark, label=tname)\n",
    "    \n",
    "plt.legend(loc='best',shadow=False, scatterpoints=1)\n",
    "plt.xlabel(iris.feature_names[ax1])\n",
    "plt.ylabel(iris.feature_names[ax2])\n",
    "plt.title('IRIS dataset')\n",
    "\n",
    "plt.show()"
   ]
  },
  {
   "cell_type": "code",
   "execution_count": 62,
   "metadata": {},
   "outputs": [
    {
     "name": "stdout",
     "output_type": "stream",
     "text": [
      "[[-2.68420713e+00  3.26607315e-01 -2.15118370e-02  1.00615724e-03]\n",
      " [-2.71539062e+00 -1.69556848e-01 -2.03521425e-01  9.96024240e-02]\n",
      " [-2.88981954e+00 -1.37345610e-01  2.47092410e-02  1.93045428e-02]\n",
      " [-2.74643720e+00 -3.11124316e-01  3.76719753e-02 -7.59552741e-02]\n",
      " [-2.72859298e+00  3.33924564e-01  9.62296998e-02 -6.31287327e-02]\n",
      " [-2.27989736e+00  7.47782713e-01  1.74325619e-01 -2.71468037e-02]\n",
      " [-2.82089068e+00 -8.21045110e-02  2.64251085e-01 -5.00996251e-02]\n",
      " [-2.62648199e+00  1.70405349e-01 -1.58015103e-02 -4.62817610e-02]\n",
      " [-2.88795857e+00 -5.70798026e-01  2.73354061e-02 -2.66154143e-02]\n",
      " [-2.67384469e+00 -1.06691704e-01 -1.91533300e-01 -5.58909660e-02]\n",
      " [-2.50652679e+00  6.51935014e-01 -6.92749958e-02 -1.66082478e-02]\n",
      " [-2.61314272e+00  2.15206320e-02  1.07650353e-01 -1.57704569e-01]\n",
      " [-2.78743398e+00 -2.27740189e-01 -2.00327788e-01 -7.23508674e-03]\n",
      " [-3.22520045e+00 -5.03279909e-01  6.84136292e-02 -2.19466641e-02]\n",
      " [-2.64354322e+00  1.18619490e+00 -1.44505704e-01  1.56980962e-01]\n",
      " [-2.38386932e+00  1.34475434e+00  2.83730664e-01  1.92618171e-03]\n",
      " [-2.62252620e+00  8.18089675e-01  1.45315989e-01  1.64740791e-01]\n",
      " [-2.64832273e+00  3.19136668e-01  3.33942541e-02  7.61182133e-02]\n",
      " [-2.19907796e+00  8.79244088e-01 -1.14521465e-01  2.53269397e-02]\n",
      " [-2.58734619e+00  5.20473639e-01  2.19572088e-01 -6.90819912e-02]\n",
      " [-2.31053170e+00  3.97867822e-01 -2.33695607e-01 -1.53237396e-02]\n",
      " [-2.54323491e+00  4.40031755e-01  2.14836370e-01  3.84395001e-02]\n",
      " [-3.21585769e+00  1.41615572e-01  2.99618982e-01  1.85704335e-03]\n",
      " [-2.30312854e+00  1.05522678e-01  4.56800413e-02  1.47245500e-01]\n",
      " [-2.35617109e+00 -3.12095891e-02  1.29407576e-01 -3.01620265e-01]\n",
      " [-2.50791723e+00 -1.39056340e-01 -2.47116338e-01  3.53840813e-02]\n",
      " [-2.46905600e+00  1.37887315e-01  1.01263079e-01  5.59704524e-02]\n",
      " [-2.56239095e+00  3.74684563e-01 -7.23591574e-02 -1.52402868e-02]\n",
      " [-2.63982127e+00  3.19290066e-01 -1.39253374e-01  6.51410472e-02]\n",
      " [-2.63284791e+00 -1.90075831e-01  4.64664636e-02 -1.24611153e-01]\n",
      " [-2.58846205e+00 -1.97393079e-01 -7.12750731e-02 -6.04762634e-02]\n",
      " [-2.41007734e+00  4.18080008e-01 -1.38388240e-01  2.30844170e-01]\n",
      " [-2.64763667e+00  8.19982633e-01  2.30585604e-01 -2.84808954e-01]\n",
      " [-2.59715948e+00  1.10002193e+00  1.63581913e-01 -9.89580706e-02]\n",
      " [-2.67384469e+00 -1.06691704e-01 -1.91533300e-01 -5.58909660e-02]\n",
      " [-2.86699985e+00  7.71930957e-02 -1.56842350e-01  1.62452806e-01]\n",
      " [-2.62522846e+00  6.06800008e-01 -2.61163156e-01  1.75879875e-01]\n",
      " [-2.67384469e+00 -1.06691704e-01 -1.91533300e-01 -5.58909660e-02]\n",
      " [-2.98184266e+00 -4.80250049e-01  7.97248074e-02 -1.10529508e-02]\n",
      " [-2.59032303e+00  2.36059337e-01 -7.39012382e-02 -1.45563062e-02]\n",
      " [-2.77013891e+00  2.71059420e-01  8.42415745e-02  9.23646573e-02]\n",
      " [-2.85221108e+00 -9.32865367e-01 -3.40961491e-01  3.22650607e-01]\n",
      " [-2.99829644e+00 -3.34307575e-01  1.99008425e-01 -7.58718213e-02]\n",
      " [-2.40551410e+00  1.95917258e-01  2.70717070e-01  1.73785129e-01]\n",
      " [-2.20883295e+00  4.42696030e-01  3.03487809e-01 -1.85857530e-01]\n",
      " [-2.71566519e+00 -2.42681483e-01 -9.05156060e-02  1.42989025e-01]\n",
      " [-2.53757337e+00  5.10367545e-01  1.71918404e-01 -1.92165946e-01]\n",
      " [-2.84032130e+00 -2.20576338e-01  9.00613765e-02 -6.03928106e-02]\n",
      " [-2.54268576e+00  5.86281025e-01 -1.11752678e-02 -4.83337025e-02]\n",
      " [-2.70391231e+00  1.15010852e-01 -8.26957266e-02  3.40995730e-02]\n",
      " [ 1.28479459e+00  6.85439186e-01 -4.06129553e-01  1.92901169e-02]\n",
      " [ 9.32410753e-01  3.19198090e-01 -1.71299092e-02 -6.75794171e-06]\n",
      " [ 1.46406132e+00  5.04189833e-01 -3.38260728e-01 -8.57644048e-04]\n",
      " [ 1.80967206e-01 -8.25603944e-01 -1.77082856e-01  9.57844484e-02]\n",
      " [ 1.08713449e+00  7.53903893e-02 -3.06544465e-01  1.13384539e-01]\n",
      " [ 6.40436750e-01 -4.17323483e-01  4.11887694e-02 -2.42671312e-01]\n",
      " [ 1.09522371e+00  2.83891211e-01  1.70022534e-01 -8.49733893e-02]\n",
      " [-7.51467141e-01 -1.00110751e+00  1.56721942e-02 -1.65105922e-02]\n",
      " [ 1.04329778e+00  2.28956909e-01 -4.14814566e-01 -3.75235536e-02]\n",
      " [-1.01900707e-02 -7.20574867e-01  2.83437246e-01 -5.94570198e-03]\n",
      " [-5.11086196e-01 -1.26249195e+00 -2.66489954e-01  4.89088061e-02]\n",
      " [ 5.11098061e-01 -1.02284105e-01  1.32327890e-01  5.01005352e-02]\n",
      " [ 2.62335756e-01 -5.47893298e-01 -6.91941578e-01  6.14849891e-02]\n",
      " [ 9.84044545e-01 -1.24360420e-01 -6.21574276e-02 -1.69010670e-01]\n",
      " [-1.74864002e-01 -2.51815571e-01  9.36586382e-02  1.24940887e-01]\n",
      " [ 9.27572942e-01  4.68236205e-01 -3.13229401e-01  1.00438884e-01]\n",
      " [ 6.59592789e-01 -3.51976291e-01  3.28384297e-01 -1.88991525e-01]\n",
      " [ 2.34540586e-01 -3.31921829e-01 -2.70280671e-01 -2.11984995e-01]\n",
      " [ 9.42361707e-01 -5.41822258e-01 -4.97348541e-01  2.60636685e-01]\n",
      " [ 4.32464003e-02 -5.81489447e-01 -2.32963556e-01 -3.95611807e-02]\n",
      " [ 1.11624072e+00 -8.42140139e-02  4.59844227e-01 -7.72135596e-02]\n",
      " [ 3.56786568e-01 -6.68238279e-02 -2.27472180e-01  1.24090000e-01]\n",
      " [ 1.29646885e+00 -3.27561520e-01 -3.47513213e-01  3.24623910e-03]\n",
      " [ 9.20502649e-01 -1.82390363e-01 -2.31611419e-01 -2.86825347e-01]\n",
      " [ 7.14008214e-01  1.50379153e-01 -3.20372333e-01  4.29412332e-02]\n",
      " [ 8.99640863e-01  3.29610980e-01 -3.14771481e-01  1.01122865e-01]\n",
      " [ 1.33104142e+00  2.44669521e-01 -5.21244925e-01  3.75050497e-02]\n",
      " [ 1.55739627e+00  2.67392585e-01 -1.64638491e-01  7.03530951e-02]\n",
      " [ 8.12455549e-01 -1.62331575e-01  3.63435763e-02 -2.96802711e-02]\n",
      " [-3.07334756e-01 -3.65086613e-01 -3.15337197e-01  7.65303776e-02]\n",
      " [-7.03428889e-02 -7.02537932e-01 -2.41758045e-01  9.09469852e-03]\n",
      " [-1.91884492e-01 -6.77490544e-01 -3.03916543e-01 -1.80454588e-02]\n",
      " [ 1.34994950e-01 -3.11709643e-01 -1.74973304e-01  3.41829142e-02]\n",
      " [ 1.37873698e+00 -4.21205138e-01  1.54804951e-02 -1.77580737e-01]\n",
      " [ 5.87274854e-01 -4.83284268e-01  4.44583753e-01 -2.52442435e-01]\n",
      " [ 8.07205497e-01  1.95053964e-01  3.89458711e-01 -1.16615391e-01]\n",
      " [ 1.22042897e+00  4.08035337e-01 -2.36566087e-01  3.16352440e-02]\n",
      " [ 8.12867790e-01 -3.70678998e-01 -6.12871050e-01  1.57700491e-01]\n",
      " [ 2.45195162e-01 -2.66728036e-01  1.89562485e-01 -1.47328042e-01]\n",
      " [ 1.64513428e-01 -6.79661469e-01 -5.77992388e-02  3.09655779e-02]\n",
      " [ 4.63030989e-01 -6.69526547e-01 -2.40538909e-02 -2.68443508e-01]\n",
      " [ 8.90160446e-01 -3.38124427e-02 -9.76802637e-03 -1.53448206e-01]\n",
      " [ 2.28879050e-01 -4.02257620e-01 -2.27362705e-01  1.86204508e-02]\n",
      " [-7.07081284e-01 -1.00842476e+00 -1.02069343e-01  4.76242978e-02]\n",
      " [ 3.55533039e-01 -5.03218487e-01  1.78894659e-02 -9.80716353e-02]\n",
      " [ 3.31126947e-01 -2.11180141e-01  8.38090732e-02 -2.38686542e-01]\n",
      " [ 3.75238229e-01 -2.91622025e-01  7.90733555e-02 -1.31165051e-01]\n",
      " [ 6.41690278e-01  1.90711765e-02 -2.04172877e-01 -2.05096763e-02]\n",
      " [-9.08463333e-01 -7.51568725e-01 -7.73658451e-03  2.33558634e-01]\n",
      " [ 2.97807907e-01 -3.47016522e-01  1.21791392e-02 -5.07837171e-02]\n",
      " [ 2.53172698e+00 -1.18422366e-02  7.58458652e-01 -3.25995685e-02]\n",
      " [ 1.41407223e+00 -5.74925056e-01  2.96398224e-01 -1.56954783e-02]\n",
      " [ 2.61648461e+00  3.41935287e-01 -1.12141371e-01  6.59560495e-02]\n",
      " [ 1.97081495e+00 -1.81125695e-01  1.06539149e-01 -2.36858625e-01]\n",
      " [ 2.34975798e+00 -4.18825497e-02  2.84110681e-01 -1.31272400e-03]\n",
      " [ 3.39687992e+00  5.47168046e-01 -3.51873158e-01 -1.11219968e-01]\n",
      " [ 5.19383245e-01 -1.19135169e+00  5.46685531e-01 -9.87984199e-02]\n",
      " [ 2.93200510e+00  3.52377006e-01 -4.23691278e-01 -2.55407369e-01]\n",
      " [ 2.31967279e+00 -2.45548171e-01 -3.49922183e-01 -7.62628625e-02]\n",
      " [ 2.91813423e+00  7.80380629e-01  4.21738934e-01  1.07729319e-01]\n",
      " [ 1.66193495e+00  2.42038401e-01  2.42815263e-01  1.19447585e-01]\n",
      " [ 1.80234045e+00 -2.16154607e-01 -3.76953285e-02  7.87134526e-02]\n",
      " [ 2.16537886e+00  2.15280283e-01  3.31481832e-02  1.62667280e-01]\n",
      " [ 1.34459422e+00 -7.76415425e-01  2.82868018e-01  1.40481892e-01]\n",
      " [ 1.58526730e+00 -5.39307054e-01  6.30570488e-01  3.27455367e-01]\n",
      " [ 1.90474358e+00  1.18818991e-01  4.80138080e-01  2.17114500e-01]\n",
      " [ 1.94924878e+00  4.07302594e-02  4.27290939e-02 -1.57845252e-01]\n",
      " [ 3.48876538e+00  1.17154454e+00  1.29320083e-01 -3.11629838e-01]\n",
      " [ 3.79468686e+00  2.53265571e-01 -5.16970716e-01  5.64516435e-02]\n",
      " [ 1.29832982e+00 -7.61013937e-01 -3.44887047e-01 -4.26737181e-02]\n",
      " [ 2.42816726e+00  3.76781971e-01  2.18649070e-01  1.83854179e-01]\n",
      " [ 1.19809737e+00 -6.05578962e-01  5.12640765e-01  5.95000305e-02]\n",
      " [ 3.49926548e+00  4.56773467e-01 -5.76910187e-01 -1.37759598e-01]\n",
      " [ 1.38766825e+00 -2.04030987e-01 -6.35113218e-02  1.63763537e-01]\n",
      " [ 2.27585365e+00  3.33386526e-01  2.84678153e-01 -6.22302776e-02]\n",
      " [ 2.61419383e+00  5.58366950e-01 -2.08423347e-01 -2.40445433e-01]\n",
      " [ 1.25762518e+00 -1.79136997e-01  4.69778074e-02  1.47600546e-01]\n",
      " [ 1.29066965e+00 -1.16425252e-01  2.31613561e-01  3.08432157e-03]\n",
      " [ 2.12285398e+00 -2.10854885e-01  1.53515885e-01  5.26124332e-02]\n",
      " [ 2.38756440e+00  4.62519251e-01 -4.52023961e-01 -2.29906877e-01]\n",
      " [ 2.84096093e+00  3.72742591e-01 -5.01031539e-01 -2.02166254e-02]\n",
      " [ 3.23234290e+00  1.37052404e+00 -1.18448777e-01 -2.54487344e-01]\n",
      " [ 2.15873837e+00 -2.18325532e-01  2.08421976e-01  1.27724489e-01]\n",
      " [ 1.44310260e+00 -1.43801289e-01 -1.54082971e-01 -1.89925864e-01]\n",
      " [ 1.77964011e+00 -5.01464795e-01 -1.75811186e-01 -5.03529453e-01]\n",
      " [ 3.07652162e+00  6.85764442e-01 -3.36422741e-01  3.10589092e-01]\n",
      " [ 2.14498686e+00  1.38906609e-01  7.34184739e-01  5.17665351e-02]\n",
      " [ 1.90486293e+00  4.80475082e-02  1.60470631e-01 -2.21980142e-01]\n",
      " [ 1.16885347e+00 -1.64502500e-01  2.82460881e-01  1.93307656e-02]\n",
      " [ 2.10765373e+00  3.71482249e-01  2.74378565e-02  2.09955199e-01]\n",
      " [ 2.31430339e+00  1.82608851e-01  3.22860401e-01  2.75896660e-01]\n",
      " [ 1.92245088e+00  4.09271176e-01  1.15492816e-01  5.04095007e-01]\n",
      " [ 1.41407223e+00 -5.74925056e-01  2.96398224e-01 -1.56954783e-02]\n",
      " [ 2.56332271e+00  2.75974502e-01  2.91253613e-01  5.61849270e-02]\n",
      " [ 2.41939122e+00  3.03503938e-01  5.04302517e-01  2.38217947e-01]\n",
      " [ 1.94401705e+00  1.87415222e-01  1.79302871e-01  4.25081634e-01]\n",
      " [ 1.52566363e+00 -3.75020848e-01 -1.20636441e-01  2.55722565e-01]\n",
      " [ 1.76404594e+00  7.85191864e-02  1.30784053e-01  1.36294556e-01]\n",
      " [ 1.90162908e+00  1.15876748e-01  7.22873561e-01  4.08728218e-02]\n",
      " [ 1.38966613e+00 -2.82886709e-01  3.62317832e-01 -1.56310385e-01]]\n"
     ]
    }
   ],
   "source": [
    "pca=PCA(n_components=4)\n",
    "pca.fit(X)\n",
    "X_r=pca.fit(X).transform(X)\n",
    "print(X_r)"
   ]
  },
  {
   "cell_type": "code",
   "execution_count": 63,
   "metadata": {},
   "outputs": [
    {
     "name": "stdout",
     "output_type": "stream",
     "text": [
      "[[ 0.36158968 -0.08226889  0.85657211  0.35884393]\n",
      " [ 0.65653988  0.72971237 -0.1757674  -0.07470647]\n",
      " [-0.58099728  0.59641809  0.07252408  0.54906091]\n",
      " [ 0.31725455 -0.32409435 -0.47971899  0.75112056]]\n"
     ]
    }
   ],
   "source": [
    "print(pca.components_)"
   ]
  },
  {
   "cell_type": "code",
   "execution_count": 64,
   "metadata": {},
   "outputs": [
    {
     "name": "stdout",
     "output_type": "stream",
     "text": [
      "[4.22484077 0.24224357 0.07852391 0.02368303]\n"
     ]
    }
   ],
   "source": [
    "print(pca.explained_variance_)"
   ]
  },
  {
   "cell_type": "code",
   "execution_count": 65,
   "metadata": {},
   "outputs": [
    {
     "name": "stdout",
     "output_type": "stream",
     "text": [
      "[0.92461621 0.05301557 0.01718514 0.00518309]\n"
     ]
    }
   ],
   "source": [
    "print(pca.explained_variance_ratio_)"
   ]
  },
  {
   "cell_type": "code",
   "execution_count": 67,
   "metadata": {},
   "outputs": [
    {
     "name": "stdout",
     "output_type": "stream",
     "text": [
      "[5.84333333 3.054      3.75866667 1.19866667]\n"
     ]
    }
   ],
   "source": [
    "#pca.mean_?\n",
    "print(pca.mean_)"
   ]
  },
  {
   "cell_type": "code",
   "execution_count": 68,
   "metadata": {},
   "outputs": [
    {
     "name": "stdout",
     "output_type": "stream",
     "text": [
      "[[-2.68420713e+00  3.26607315e-01 -2.15118370e-02  1.00615724e-03]\n",
      " [-2.71539062e+00 -1.69556848e-01 -2.03521425e-01  9.96024240e-02]\n",
      " [-2.88981954e+00 -1.37345610e-01  2.47092410e-02  1.93045428e-02]\n",
      " [-2.74643720e+00 -3.11124316e-01  3.76719753e-02 -7.59552741e-02]\n",
      " [-2.72859298e+00  3.33924564e-01  9.62296998e-02 -6.31287327e-02]]\n"
     ]
    }
   ],
   "source": [
    "print(X_r[0:5])"
   ]
  },
  {
   "cell_type": "code",
   "execution_count": 70,
   "metadata": {},
   "outputs": [
    {
     "data": {
      "image/png": "[encoded data removed]",
      "text/plain": [
       "<Figure size 432x288 with 1 Axes>"
      ]
     },
     "metadata": {},
     "output_type": "display_data"
    }
   ],
   "source": [
    "colors=['orange', 'blue', 'black']\n",
    "markers=['s','^','o']\n",
    "\n",
    "for col, mark, i, tname in zip(colors, markers, range(3), target_names):\n",
    "    plt.scatter(X_r[y==i,0], X_r[y==i,1], color=col, marker=mark, label=tname) #첫번째 두번째 요소들만 추출\n",
    "    \n",
    "plt.legend(shadow=True, scatterpoints=1)\n",
    "plt.title('PCA of IRIS dataset')\n",
    "plt.xlabel(iris.feature_names[0])\n",
    "plt.ylabel(iris.feature_names[1])\n",
    "\n",
    "plt.show()"
   ]
  },
  {
   "cell_type": "code",
   "execution_count": 71,
   "metadata": {},
   "outputs": [],
   "source": [
    "#preprocessing before PCA(if needed)\n",
    "from sklearn.preprocessing import StandardScaler"
   ]
  },
  {
   "cell_type": "code",
   "execution_count": 73,
   "metadata": {},
   "outputs": [],
   "source": [
    "#StandardScaler?"
   ]
  },
  {
   "cell_type": "code",
   "execution_count": 74,
   "metadata": {},
   "outputs": [],
   "source": [
    "scaler=StandardScaler()"
   ]
  },
  {
   "cell_type": "code",
   "execution_count": 75,
   "metadata": {},
   "outputs": [],
   "source": [
    "X_scaled=scaler.fit(X).transform(X)"
   ]
  },
  {
   "cell_type": "code",
   "execution_count": 77,
   "metadata": {},
   "outputs": [
    {
     "name": "stdout",
     "output_type": "stream",
     "text": [
      "[-1.69031455e-15 -1.63702385e-15 -1.48251781e-15 -1.62314606e-15]\n",
      "[1. 1. 1. 1.]\n"
     ]
    }
   ],
   "source": [
    "print(np.mean(X_scaled, axis=0))\n",
    "print(np.var(X_scaled, axis=0))"
   ]
  },
  {
   "cell_type": "code",
   "execution_count": null,
   "metadata": {},
   "outputs": [],
   "source": []
  }
 ],
 "metadata": {
  "kernelspec": {
   "display_name": "Python 3",
   "language": "python",
   "name": "python3"
  },
  "language_info": {
   "codemirror_mode": {
    "name": "ipython",
    "version": 3
   },
   "file_extension": ".py",
   "mimetype": "text/x-python",
   "name": "python",
   "nbconvert_exporter": "python",
   "pygments_lexer": "ipython3",
   "version": "3.6.5"
  }
 },
 "nbformat": 4,
 "nbformat_minor": 2
}
